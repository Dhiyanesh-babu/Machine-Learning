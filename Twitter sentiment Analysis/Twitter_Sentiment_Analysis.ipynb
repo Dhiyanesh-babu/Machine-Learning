{
  "cells": [
    {
      "cell_type": "raw",
      "metadata": {
        "id": "zh2ZkH2o91kr"
      },
      "source": [
        "We will collect text data using Twitter API."
      ]
    },
    {
      "cell_type": "raw",
      "metadata": {
        "id": "VaxmWr4s91kw"
      },
      "source": [
        "!pip install tweepy"
      ]
    },
    {
      "cell_type": "raw",
      "metadata": {
        "id": "n2qNTWSi91kx"
      },
      "source": [
        "!pip install openpyxl"
      ]
    },
    {
      "cell_type": "code",
      "execution_count": 1,
      "metadata": {
        "id": "fWrVQECH91kx"
      },
      "outputs": [],
      "source": [
        "import numpy as np\n",
        "import pandas as pd\n",
        "import tweepy\n",
        "import json\n",
        "from tweepy import OAuthHandler"
      ]
    },
    {
      "cell_type": "code",
      "execution_count": 2,
      "metadata": {
        "id": "oVDDmIu991kz"
      },
      "outputs": [],
      "source": [
        "consumer_key = \"LzsCOl12ZZ79FObx7BV9a1R3a\"\n",
        "consumer_secret = \"gODxZ1kHJHDGgYfyP12AUN37UTlDd6yn3OsSV9Tl0iwu0K0cRY\"\n",
        "access_token = \"296102538-kYIK8SULCmRK4vgvYD2DhKbwvSXrgTdTkWh0Nvsp\"\n",
        "access_token_secret = \"Ib9obwgcE5tZk4S6tY5rAqI5iXOeJc9FGFg28qHoa4YpP\""
      ]
    },
    {
      "cell_type": "code",
      "execution_count": 3,
      "metadata": {
        "id": "mQ0xl-2N91kz"
      },
      "outputs": [],
      "source": [
        "auth = tweepy.OAuthHandler( consumer_key , consumer_secret )\n",
        "auth.set_access_token( access_token , access_token_secret )\n",
        "api = tweepy.API(auth)"
      ]
    },
    {
      "cell_type": "code",
      "execution_count": 4,
      "metadata": {
        "id": "QjFbiL8v91k0"
      },
      "outputs": [],
      "source": [
        "query = \"RCB winning IPL\""
      ]
    },
    {
      "cell_type": "code",
      "execution_count": 5,
      "metadata": {
        "colab": {
          "base_uri": "https://localhost:8080/"
        },
        "id": "kclsGjoy91k0",
        "outputId": "13d02ed1-2ec5-4df5-dd10-8387e08eaa92"
      },
      "outputs": [
        {
          "output_type": "stream",
          "name": "stdout",
          "text": [
            "Status(_api=<tweepy.api.API object at 0x7ff883ad9250>, _json={'created_at': 'Wed Jan 12 16:23:48 +0000 2022', 'id': 1481300890372161536, 'id_str': '1481300890372161536', 'full_text': \"@Newlands_79 @SunRisers Having an IPL Cup on their name winning Over RCB if that's a small team then the franchise who lost to them is even lesser\", 'truncated': False, 'display_text_range': [24, 146], 'entities': {'hashtags': [], 'symbols': [], 'user_mentions': [{'screen_name': 'Newlands_79', 'name': 'C/``\\uea00¹⁸', 'id': 1474664342268235777, 'id_str': '1474664342268235777', 'indices': [0, 12]}, {'screen_name': 'SunRisers', 'name': 'SunRisers Hyderabad', 'id': 989137039, 'id_str': '989137039', 'indices': [13, 23]}], 'urls': []}, 'metadata': {'iso_language_code': 'en', 'result_type': 'recent'}, 'source': '<a href=\"https://mobile.twitter.com\" rel=\"nofollow\">Twitter Web App</a>', 'in_reply_to_status_id': 1480433660687912960, 'in_reply_to_status_id_str': '1480433660687912960', 'in_reply_to_user_id': 1474664342268235777, 'in_reply_to_user_id_str': '1474664342268235777', 'in_reply_to_screen_name': 'Newlands_79', 'user': {'id': 3311409128, 'id_str': '3311409128', 'name': 'Yagnik vicky', 'screen_name': 'Yagnik_Vicky', 'location': '', 'description': \"Trust me I'm good but that's only when you are good to me\", 'url': None, 'entities': {'description': {'urls': []}}, 'protected': False, 'followers_count': 8, 'friends_count': 245, 'listed_count': 0, 'created_at': 'Mon Aug 10 11:43:43 +0000 2015', 'favourites_count': 202, 'utc_offset': None, 'time_zone': None, 'geo_enabled': False, 'verified': False, 'statuses_count': 155, 'lang': None, 'contributors_enabled': False, 'is_translator': False, 'is_translation_enabled': False, 'profile_background_color': 'C0DEED', 'profile_background_image_url': 'http://abs.twimg.com/images/themes/theme1/bg.png', 'profile_background_image_url_https': 'https://abs.twimg.com/images/themes/theme1/bg.png', 'profile_background_tile': False, 'profile_image_url': 'http://pbs.twimg.com/profile_images/1302449707298336769/Wf8jbBLY_normal.jpg', 'profile_image_url_https': 'https://pbs.twimg.com/profile_images/1302449707298336769/Wf8jbBLY_normal.jpg', 'profile_link_color': '1DA1F2', 'profile_sidebar_border_color': 'C0DEED', 'profile_sidebar_fill_color': 'DDEEF6', 'profile_text_color': '333333', 'profile_use_background_image': True, 'has_extended_profile': False, 'default_profile': True, 'default_profile_image': False, 'following': False, 'follow_request_sent': False, 'notifications': False, 'translator_type': 'none', 'withheld_in_countries': []}, 'geo': None, 'coordinates': None, 'place': None, 'contributors': None, 'is_quote_status': False, 'retweet_count': 0, 'favorite_count': 0, 'favorited': False, 'retweeted': False, 'lang': 'en'}, created_at=datetime.datetime(2022, 1, 12, 16, 23, 48), id=1481300890372161536, id_str='1481300890372161536', full_text=\"@Newlands_79 @SunRisers Having an IPL Cup on their name winning Over RCB if that's a small team then the franchise who lost to them is even lesser\", truncated=False, display_text_range=[24, 146], entities={'hashtags': [], 'symbols': [], 'user_mentions': [{'screen_name': 'Newlands_79', 'name': 'C/``\\uea00¹⁸', 'id': 1474664342268235777, 'id_str': '1474664342268235777', 'indices': [0, 12]}, {'screen_name': 'SunRisers', 'name': 'SunRisers Hyderabad', 'id': 989137039, 'id_str': '989137039', 'indices': [13, 23]}], 'urls': []}, metadata={'iso_language_code': 'en', 'result_type': 'recent'}, source='Twitter Web App', source_url='https://mobile.twitter.com', in_reply_to_status_id=1480433660687912960, in_reply_to_status_id_str='1480433660687912960', in_reply_to_user_id=1474664342268235777, in_reply_to_user_id_str='1474664342268235777', in_reply_to_screen_name='Newlands_79', author=User(_api=<tweepy.api.API object at 0x7ff883ad9250>, _json={'id': 3311409128, 'id_str': '3311409128', 'name': 'Yagnik vicky', 'screen_name': 'Yagnik_Vicky', 'location': '', 'description': \"Trust me I'm good but that's only when you are good to me\", 'url': None, 'entities': {'description': {'urls': []}}, 'protected': False, 'followers_count': 8, 'friends_count': 245, 'listed_count': 0, 'created_at': 'Mon Aug 10 11:43:43 +0000 2015', 'favourites_count': 202, 'utc_offset': None, 'time_zone': None, 'geo_enabled': False, 'verified': False, 'statuses_count': 155, 'lang': None, 'contributors_enabled': False, 'is_translator': False, 'is_translation_enabled': False, 'profile_background_color': 'C0DEED', 'profile_background_image_url': 'http://abs.twimg.com/images/themes/theme1/bg.png', 'profile_background_image_url_https': 'https://abs.twimg.com/images/themes/theme1/bg.png', 'profile_background_tile': False, 'profile_image_url': 'http://pbs.twimg.com/profile_images/1302449707298336769/Wf8jbBLY_normal.jpg', 'profile_image_url_https': 'https://pbs.twimg.com/profile_images/1302449707298336769/Wf8jbBLY_normal.jpg', 'profile_link_color': '1DA1F2', 'profile_sidebar_border_color': 'C0DEED', 'profile_sidebar_fill_color': 'DDEEF6', 'profile_text_color': '333333', 'profile_use_background_image': True, 'has_extended_profile': False, 'default_profile': True, 'default_profile_image': False, 'following': False, 'follow_request_sent': False, 'notifications': False, 'translator_type': 'none', 'withheld_in_countries': []}, id=3311409128, id_str='3311409128', name='Yagnik vicky', screen_name='Yagnik_Vicky', location='', description=\"Trust me I'm good but that's only when you are good to me\", url=None, entities={'description': {'urls': []}}, protected=False, followers_count=8, friends_count=245, listed_count=0, created_at=datetime.datetime(2015, 8, 10, 11, 43, 43), favourites_count=202, utc_offset=None, time_zone=None, geo_enabled=False, verified=False, statuses_count=155, lang=None, contributors_enabled=False, is_translator=False, is_translation_enabled=False, profile_background_color='C0DEED', profile_background_image_url='http://abs.twimg.com/images/themes/theme1/bg.png', profile_background_image_url_https='https://abs.twimg.com/images/themes/theme1/bg.png', profile_background_tile=False, profile_image_url='http://pbs.twimg.com/profile_images/1302449707298336769/Wf8jbBLY_normal.jpg', profile_image_url_https='https://pbs.twimg.com/profile_images/1302449707298336769/Wf8jbBLY_normal.jpg', profile_link_color='1DA1F2', profile_sidebar_border_color='C0DEED', profile_sidebar_fill_color='DDEEF6', profile_text_color='333333', profile_use_background_image=True, has_extended_profile=False, default_profile=True, default_profile_image=False, following=False, follow_request_sent=False, notifications=False, translator_type='none', withheld_in_countries=[]), user=User(_api=<tweepy.api.API object at 0x7ff883ad9250>, _json={'id': 3311409128, 'id_str': '3311409128', 'name': 'Yagnik vicky', 'screen_name': 'Yagnik_Vicky', 'location': '', 'description': \"Trust me I'm good but that's only when you are good to me\", 'url': None, 'entities': {'description': {'urls': []}}, 'protected': False, 'followers_count': 8, 'friends_count': 245, 'listed_count': 0, 'created_at': 'Mon Aug 10 11:43:43 +0000 2015', 'favourites_count': 202, 'utc_offset': None, 'time_zone': None, 'geo_enabled': False, 'verified': False, 'statuses_count': 155, 'lang': None, 'contributors_enabled': False, 'is_translator': False, 'is_translation_enabled': False, 'profile_background_color': 'C0DEED', 'profile_background_image_url': 'http://abs.twimg.com/images/themes/theme1/bg.png', 'profile_background_image_url_https': 'https://abs.twimg.com/images/themes/theme1/bg.png', 'profile_background_tile': False, 'profile_image_url': 'http://pbs.twimg.com/profile_images/1302449707298336769/Wf8jbBLY_normal.jpg', 'profile_image_url_https': 'https://pbs.twimg.com/profile_images/1302449707298336769/Wf8jbBLY_normal.jpg', 'profile_link_color': '1DA1F2', 'profile_sidebar_border_color': 'C0DEED', 'profile_sidebar_fill_color': 'DDEEF6', 'profile_text_color': '333333', 'profile_use_background_image': True, 'has_extended_profile': False, 'default_profile': True, 'default_profile_image': False, 'following': False, 'follow_request_sent': False, 'notifications': False, 'translator_type': 'none', 'withheld_in_countries': []}, id=3311409128, id_str='3311409128', name='Yagnik vicky', screen_name='Yagnik_Vicky', location='', description=\"Trust me I'm good but that's only when you are good to me\", url=None, entities={'description': {'urls': []}}, protected=False, followers_count=8, friends_count=245, listed_count=0, created_at=datetime.datetime(2015, 8, 10, 11, 43, 43), favourites_count=202, utc_offset=None, time_zone=None, geo_enabled=False, verified=False, statuses_count=155, lang=None, contributors_enabled=False, is_translator=False, is_translation_enabled=False, profile_background_color='C0DEED', profile_background_image_url='http://abs.twimg.com/images/themes/theme1/bg.png', profile_background_image_url_https='https://abs.twimg.com/images/themes/theme1/bg.png', profile_background_tile=False, profile_image_url='http://pbs.twimg.com/profile_images/1302449707298336769/Wf8jbBLY_normal.jpg', profile_image_url_https='https://pbs.twimg.com/profile_images/1302449707298336769/Wf8jbBLY_normal.jpg', profile_link_color='1DA1F2', profile_sidebar_border_color='C0DEED', profile_sidebar_fill_color='DDEEF6', profile_text_color='333333', profile_use_background_image=True, has_extended_profile=False, default_profile=True, default_profile_image=False, following=False, follow_request_sent=False, notifications=False, translator_type='none', withheld_in_countries=[]), geo=None, coordinates=None, place=None, contributors=None, is_quote_status=False, retweet_count=0, favorite_count=0, favorited=False, retweeted=False, lang='en') \n",
            "\n",
            ".....................................\n",
            "\n",
            "Status(_api=<tweepy.api.API object at 0x7ff883ad9250>, _json={'created_at': 'Wed Jan 12 10:57:05 +0000 2022', 'id': 1481218671234396166, 'id_str': '1481218671234396166', 'full_text': \"@msd_ntr79 RCB is cursed bcoz of Vijay Maliya looting don't bring IPL here winning in Aus, Eng is not cursed we have won #ViratKohli https://t.co/wc1gKfd4VA\", 'truncated': False, 'display_text_range': [11, 132], 'entities': {'hashtags': [{'text': 'ViratKohli', 'indices': [121, 132]}], 'symbols': [], 'user_mentions': [{'screen_name': 'msd_ntr79', 'name': 'RajeshTarakian9', 'id': 1471378069281775619, 'id_str': '1471378069281775619', 'indices': [0, 10]}], 'urls': [], 'media': [{'id': 1481217697631567874, 'id_str': '1481217697631567874', 'indices': [133, 156], 'media_url': 'http://pbs.twimg.com/ext_tw_video_thumb/1481217697631567874/pu/img/15Sr4eFPaeeXskSF.jpg', 'media_url_https': 'https://pbs.twimg.com/ext_tw_video_thumb/1481217697631567874/pu/img/15Sr4eFPaeeXskSF.jpg', 'url': 'https://t.co/wc1gKfd4VA', 'display_url': 'pic.twitter.com/wc1gKfd4VA', 'expanded_url': 'https://twitter.com/rajp3006/status/1481218671234396166/video/1', 'type': 'photo', 'sizes': {'small': {'w': 480, 'h': 480, 'resize': 'fit'}, 'thumb': {'w': 150, 'h': 150, 'resize': 'crop'}, 'large': {'w': 480, 'h': 480, 'resize': 'fit'}, 'medium': {'w': 480, 'h': 480, 'resize': 'fit'}}}]}, 'extended_entities': {'media': [{'id': 1481217697631567874, 'id_str': '1481217697631567874', 'indices': [133, 156], 'media_url': 'http://pbs.twimg.com/ext_tw_video_thumb/1481217697631567874/pu/img/15Sr4eFPaeeXskSF.jpg', 'media_url_https': 'https://pbs.twimg.com/ext_tw_video_thumb/1481217697631567874/pu/img/15Sr4eFPaeeXskSF.jpg', 'url': 'https://t.co/wc1gKfd4VA', 'display_url': 'pic.twitter.com/wc1gKfd4VA', 'expanded_url': 'https://twitter.com/rajp3006/status/1481218671234396166/video/1', 'type': 'video', 'sizes': {'small': {'w': 480, 'h': 480, 'resize': 'fit'}, 'thumb': {'w': 150, 'h': 150, 'resize': 'crop'}, 'large': {'w': 480, 'h': 480, 'resize': 'fit'}, 'medium': {'w': 480, 'h': 480, 'resize': 'fit'}}, 'video_info': {'aspect_ratio': [1, 1], 'duration_millis': 31933, 'variants': [{'bitrate': 832000, 'content_type': 'video/mp4', 'url': 'https://video.twimg.com/ext_tw_video/1481217697631567874/pu/vid/480x480/6mB5Ex_MeXKghnit.mp4?tag=12'}, {'content_type': 'application/x-mpegURL', 'url': 'https://video.twimg.com/ext_tw_video/1481217697631567874/pu/pl/XqCN6LsEwu3eac_v.m3u8?tag=12&container=fmp4'}, {'bitrate': 432000, 'content_type': 'video/mp4', 'url': 'https://video.twimg.com/ext_tw_video/1481217697631567874/pu/vid/320x320/Ve8TtwRQqLa2827V.mp4?tag=12'}]}, 'additional_media_info': {'monetizable': False}}]}, 'metadata': {'iso_language_code': 'en', 'result_type': 'recent'}, 'source': '<a href=\"http://twitter.com/download/android\" rel=\"nofollow\">Twitter for Android</a>', 'in_reply_to_status_id': 1481215914251112450, 'in_reply_to_status_id_str': '1481215914251112450', 'in_reply_to_user_id': 1471378069281775619, 'in_reply_to_user_id_str': '1471378069281775619', 'in_reply_to_screen_name': 'msd_ntr79', 'user': {'id': 828546392, 'id_str': '828546392', 'name': 'Rajesh', 'screen_name': 'rajp3006', 'location': '', 'description': 'Great cricket lover\\n\\nFollow for followback', 'url': None, 'entities': {'description': {'urls': []}}, 'protected': False, 'followers_count': 223, 'friends_count': 203, 'listed_count': 0, 'created_at': 'Mon Sep 17 07:18:12 +0000 2012', 'favourites_count': 17530, 'utc_offset': None, 'time_zone': None, 'geo_enabled': True, 'verified': False, 'statuses_count': 12744, 'lang': None, 'contributors_enabled': False, 'is_translator': False, 'is_translation_enabled': False, 'profile_background_color': 'C0DEED', 'profile_background_image_url': 'http://abs.twimg.com/images/themes/theme1/bg.png', 'profile_background_image_url_https': 'https://abs.twimg.com/images/themes/theme1/bg.png', 'profile_background_tile': False, 'profile_image_url': 'http://pbs.twimg.com/profile_images/1479446483338285058/q3SlAPTQ_normal.jpg', 'profile_image_url_https': 'https://pbs.twimg.com/profile_images/1479446483338285058/q3SlAPTQ_normal.jpg', 'profile_banner_url': 'https://pbs.twimg.com/profile_banners/828546392/1622714507', 'profile_link_color': '1DA1F2', 'profile_sidebar_border_color': 'C0DEED', 'profile_sidebar_fill_color': 'DDEEF6', 'profile_text_color': '333333', 'profile_use_background_image': True, 'has_extended_profile': True, 'default_profile': True, 'default_profile_image': False, 'following': False, 'follow_request_sent': False, 'notifications': False, 'translator_type': 'none', 'withheld_in_countries': []}, 'geo': None, 'coordinates': None, 'place': None, 'contributors': None, 'is_quote_status': False, 'retweet_count': 1, 'favorite_count': 0, 'favorited': False, 'retweeted': False, 'possibly_sensitive': False, 'lang': 'en'}, created_at=datetime.datetime(2022, 1, 12, 10, 57, 5), id=1481218671234396166, id_str='1481218671234396166', full_text=\"@msd_ntr79 RCB is cursed bcoz of Vijay Maliya looting don't bring IPL here winning in Aus, Eng is not cursed we have won #ViratKohli https://t.co/wc1gKfd4VA\", truncated=False, display_text_range=[11, 132], entities={'hashtags': [{'text': 'ViratKohli', 'indices': [121, 132]}], 'symbols': [], 'user_mentions': [{'screen_name': 'msd_ntr79', 'name': 'RajeshTarakian9', 'id': 1471378069281775619, 'id_str': '1471378069281775619', 'indices': [0, 10]}], 'urls': [], 'media': [{'id': 1481217697631567874, 'id_str': '1481217697631567874', 'indices': [133, 156], 'media_url': 'http://pbs.twimg.com/ext_tw_video_thumb/1481217697631567874/pu/img/15Sr4eFPaeeXskSF.jpg', 'media_url_https': 'https://pbs.twimg.com/ext_tw_video_thumb/1481217697631567874/pu/img/15Sr4eFPaeeXskSF.jpg', 'url': 'https://t.co/wc1gKfd4VA', 'display_url': 'pic.twitter.com/wc1gKfd4VA', 'expanded_url': 'https://twitter.com/rajp3006/status/1481218671234396166/video/1', 'type': 'photo', 'sizes': {'small': {'w': 480, 'h': 480, 'resize': 'fit'}, 'thumb': {'w': 150, 'h': 150, 'resize': 'crop'}, 'large': {'w': 480, 'h': 480, 'resize': 'fit'}, 'medium': {'w': 480, 'h': 480, 'resize': 'fit'}}}]}, extended_entities={'media': [{'id': 1481217697631567874, 'id_str': '1481217697631567874', 'indices': [133, 156], 'media_url': 'http://pbs.twimg.com/ext_tw_video_thumb/1481217697631567874/pu/img/15Sr4eFPaeeXskSF.jpg', 'media_url_https': 'https://pbs.twimg.com/ext_tw_video_thumb/1481217697631567874/pu/img/15Sr4eFPaeeXskSF.jpg', 'url': 'https://t.co/wc1gKfd4VA', 'display_url': 'pic.twitter.com/wc1gKfd4VA', 'expanded_url': 'https://twitter.com/rajp3006/status/1481218671234396166/video/1', 'type': 'video', 'sizes': {'small': {'w': 480, 'h': 480, 'resize': 'fit'}, 'thumb': {'w': 150, 'h': 150, 'resize': 'crop'}, 'large': {'w': 480, 'h': 480, 'resize': 'fit'}, 'medium': {'w': 480, 'h': 480, 'resize': 'fit'}}, 'video_info': {'aspect_ratio': [1, 1], 'duration_millis': 31933, 'variants': [{'bitrate': 832000, 'content_type': 'video/mp4', 'url': 'https://video.twimg.com/ext_tw_video/1481217697631567874/pu/vid/480x480/6mB5Ex_MeXKghnit.mp4?tag=12'}, {'content_type': 'application/x-mpegURL', 'url': 'https://video.twimg.com/ext_tw_video/1481217697631567874/pu/pl/XqCN6LsEwu3eac_v.m3u8?tag=12&container=fmp4'}, {'bitrate': 432000, 'content_type': 'video/mp4', 'url': 'https://video.twimg.com/ext_tw_video/1481217697631567874/pu/vid/320x320/Ve8TtwRQqLa2827V.mp4?tag=12'}]}, 'additional_media_info': {'monetizable': False}}]}, metadata={'iso_language_code': 'en', 'result_type': 'recent'}, source='Twitter for Android', source_url='http://twitter.com/download/android', in_reply_to_status_id=1481215914251112450, in_reply_to_status_id_str='1481215914251112450', in_reply_to_user_id=1471378069281775619, in_reply_to_user_id_str='1471378069281775619', in_reply_to_screen_name='msd_ntr79', author=User(_api=<tweepy.api.API object at 0x7ff883ad9250>, _json={'id': 828546392, 'id_str': '828546392', 'name': 'Rajesh', 'screen_name': 'rajp3006', 'location': '', 'description': 'Great cricket lover\\n\\nFollow for followback', 'url': None, 'entities': {'description': {'urls': []}}, 'protected': False, 'followers_count': 223, 'friends_count': 203, 'listed_count': 0, 'created_at': 'Mon Sep 17 07:18:12 +0000 2012', 'favourites_count': 17530, 'utc_offset': None, 'time_zone': None, 'geo_enabled': True, 'verified': False, 'statuses_count': 12744, 'lang': None, 'contributors_enabled': False, 'is_translator': False, 'is_translation_enabled': False, 'profile_background_color': 'C0DEED', 'profile_background_image_url': 'http://abs.twimg.com/images/themes/theme1/bg.png', 'profile_background_image_url_https': 'https://abs.twimg.com/images/themes/theme1/bg.png', 'profile_background_tile': False, 'profile_image_url': 'http://pbs.twimg.com/profile_images/1479446483338285058/q3SlAPTQ_normal.jpg', 'profile_image_url_https': 'https://pbs.twimg.com/profile_images/1479446483338285058/q3SlAPTQ_normal.jpg', 'profile_banner_url': 'https://pbs.twimg.com/profile_banners/828546392/1622714507', 'profile_link_color': '1DA1F2', 'profile_sidebar_border_color': 'C0DEED', 'profile_sidebar_fill_color': 'DDEEF6', 'profile_text_color': '333333', 'profile_use_background_image': True, 'has_extended_profile': True, 'default_profile': True, 'default_profile_image': False, 'following': False, 'follow_request_sent': False, 'notifications': False, 'translator_type': 'none', 'withheld_in_countries': []}, id=828546392, id_str='828546392', name='Rajesh', screen_name='rajp3006', location='', description='Great cricket lover\\n\\nFollow for followback', url=None, entities={'description': {'urls': []}}, protected=False, followers_count=223, friends_count=203, listed_count=0, created_at=datetime.datetime(2012, 9, 17, 7, 18, 12), favourites_count=17530, utc_offset=None, time_zone=None, geo_enabled=True, verified=False, statuses_count=12744, lang=None, contributors_enabled=False, is_translator=False, is_translation_enabled=False, profile_background_color='C0DEED', profile_background_image_url='http://abs.twimg.com/images/themes/theme1/bg.png', profile_background_image_url_https='https://abs.twimg.com/images/themes/theme1/bg.png', profile_background_tile=False, profile_image_url='http://pbs.twimg.com/profile_images/1479446483338285058/q3SlAPTQ_normal.jpg', profile_image_url_https='https://pbs.twimg.com/profile_images/1479446483338285058/q3SlAPTQ_normal.jpg', profile_banner_url='https://pbs.twimg.com/profile_banners/828546392/1622714507', profile_link_color='1DA1F2', profile_sidebar_border_color='C0DEED', profile_sidebar_fill_color='DDEEF6', profile_text_color='333333', profile_use_background_image=True, has_extended_profile=True, default_profile=True, default_profile_image=False, following=False, follow_request_sent=False, notifications=False, translator_type='none', withheld_in_countries=[]), user=User(_api=<tweepy.api.API object at 0x7ff883ad9250>, _json={'id': 828546392, 'id_str': '828546392', 'name': 'Rajesh', 'screen_name': 'rajp3006', 'location': '', 'description': 'Great cricket lover\\n\\nFollow for followback', 'url': None, 'entities': {'description': {'urls': []}}, 'protected': False, 'followers_count': 223, 'friends_count': 203, 'listed_count': 0, 'created_at': 'Mon Sep 17 07:18:12 +0000 2012', 'favourites_count': 17530, 'utc_offset': None, 'time_zone': None, 'geo_enabled': True, 'verified': False, 'statuses_count': 12744, 'lang': None, 'contributors_enabled': False, 'is_translator': False, 'is_translation_enabled': False, 'profile_background_color': 'C0DEED', 'profile_background_image_url': 'http://abs.twimg.com/images/themes/theme1/bg.png', 'profile_background_image_url_https': 'https://abs.twimg.com/images/themes/theme1/bg.png', 'profile_background_tile': False, 'profile_image_url': 'http://pbs.twimg.com/profile_images/1479446483338285058/q3SlAPTQ_normal.jpg', 'profile_image_url_https': 'https://pbs.twimg.com/profile_images/1479446483338285058/q3SlAPTQ_normal.jpg', 'profile_banner_url': 'https://pbs.twimg.com/profile_banners/828546392/1622714507', 'profile_link_color': '1DA1F2', 'profile_sidebar_border_color': 'C0DEED', 'profile_sidebar_fill_color': 'DDEEF6', 'profile_text_color': '333333', 'profile_use_background_image': True, 'has_extended_profile': True, 'default_profile': True, 'default_profile_image': False, 'following': False, 'follow_request_sent': False, 'notifications': False, 'translator_type': 'none', 'withheld_in_countries': []}, id=828546392, id_str='828546392', name='Rajesh', screen_name='rajp3006', location='', description='Great cricket lover\\n\\nFollow for followback', url=None, entities={'description': {'urls': []}}, protected=False, followers_count=223, friends_count=203, listed_count=0, created_at=datetime.datetime(2012, 9, 17, 7, 18, 12), favourites_count=17530, utc_offset=None, time_zone=None, geo_enabled=True, verified=False, statuses_count=12744, lang=None, contributors_enabled=False, is_translator=False, is_translation_enabled=False, profile_background_color='C0DEED', profile_background_image_url='http://abs.twimg.com/images/themes/theme1/bg.png', profile_background_image_url_https='https://abs.twimg.com/images/themes/theme1/bg.png', profile_background_tile=False, profile_image_url='http://pbs.twimg.com/profile_images/1479446483338285058/q3SlAPTQ_normal.jpg', profile_image_url_https='https://pbs.twimg.com/profile_images/1479446483338285058/q3SlAPTQ_normal.jpg', profile_banner_url='https://pbs.twimg.com/profile_banners/828546392/1622714507', profile_link_color='1DA1F2', profile_sidebar_border_color='C0DEED', profile_sidebar_fill_color='DDEEF6', profile_text_color='333333', profile_use_background_image=True, has_extended_profile=True, default_profile=True, default_profile_image=False, following=False, follow_request_sent=False, notifications=False, translator_type='none', withheld_in_countries=[]), geo=None, coordinates=None, place=None, contributors=None, is_quote_status=False, retweet_count=1, favorite_count=0, favorited=False, retweeted=False, possibly_sensitive=False, lang='en') \n",
            "\n",
            ".....................................\n",
            "\n",
            "Status(_api=<tweepy.api.API object at 0x7ff883ad9250>, _json={'created_at': 'Wed Jan 12 08:02:12 +0000 2022', 'id': 1481174660087951361, 'id_str': '1481174660087951361', 'full_text': 'Imagine RCB winning TATA IPL 2022 ✨\\n\\n#IPLAuction2022 #TataIPL', 'truncated': False, 'display_text_range': [0, 61], 'entities': {'hashtags': [{'text': 'IPLAuction2022', 'indices': [37, 52]}, {'text': 'TataIPL', 'indices': [53, 61]}], 'symbols': [], 'user_mentions': [], 'urls': []}, 'metadata': {'iso_language_code': 'en', 'result_type': 'recent'}, 'source': '<a href=\"https://mobile.twitter.com\" rel=\"nofollow\">Twitter Web App</a>', 'in_reply_to_status_id': None, 'in_reply_to_status_id_str': None, 'in_reply_to_user_id': None, 'in_reply_to_user_id_str': None, 'in_reply_to_screen_name': None, 'user': {'id': 1178203655276810240, 'id_str': '1178203655276810240', 'name': 'Alfred', 'screen_name': 'crictallkk', 'location': 'Bird App', 'description': \"I'm WITHOUT POLITICS !\\nCricket Freak!! Unbiased | Opinions are personal | Ambivert|\\n#TeamIndia  #SAvIND\\nWEAR A MASK AND TAKE PRECAUTIONS , NOT SELFIE !\", 'url': None, 'entities': {'description': {'urls': []}}, 'protected': False, 'followers_count': 45, 'friends_count': 56, 'listed_count': 1, 'created_at': 'Sun Sep 29 07:03:47 +0000 2019', 'favourites_count': 25438, 'utc_offset': None, 'time_zone': None, 'geo_enabled': False, 'verified': False, 'statuses_count': 2820, 'lang': None, 'contributors_enabled': False, 'is_translator': False, 'is_translation_enabled': False, 'profile_background_color': 'F5F8FA', 'profile_background_image_url': None, 'profile_background_image_url_https': None, 'profile_background_tile': False, 'profile_image_url': 'http://pbs.twimg.com/profile_images/1454290824242417664/fZssr0P0_normal.jpg', 'profile_image_url_https': 'https://pbs.twimg.com/profile_images/1454290824242417664/fZssr0P0_normal.jpg', 'profile_banner_url': 'https://pbs.twimg.com/profile_banners/1178203655276810240/1609679572', 'profile_link_color': '1DA1F2', 'profile_sidebar_border_color': 'C0DEED', 'profile_sidebar_fill_color': 'DDEEF6', 'profile_text_color': '333333', 'profile_use_background_image': True, 'has_extended_profile': False, 'default_profile': True, 'default_profile_image': False, 'following': False, 'follow_request_sent': False, 'notifications': False, 'translator_type': 'none', 'withheld_in_countries': []}, 'geo': None, 'coordinates': None, 'place': None, 'contributors': None, 'is_quote_status': False, 'retweet_count': 1, 'favorite_count': 3, 'favorited': False, 'retweeted': False, 'lang': 'en'}, created_at=datetime.datetime(2022, 1, 12, 8, 2, 12), id=1481174660087951361, id_str='1481174660087951361', full_text='Imagine RCB winning TATA IPL 2022 ✨\\n\\n#IPLAuction2022 #TataIPL', truncated=False, display_text_range=[0, 61], entities={'hashtags': [{'text': 'IPLAuction2022', 'indices': [37, 52]}, {'text': 'TataIPL', 'indices': [53, 61]}], 'symbols': [], 'user_mentions': [], 'urls': []}, metadata={'iso_language_code': 'en', 'result_type': 'recent'}, source='Twitter Web App', source_url='https://mobile.twitter.com', in_reply_to_status_id=None, in_reply_to_status_id_str=None, in_reply_to_user_id=None, in_reply_to_user_id_str=None, in_reply_to_screen_name=None, author=User(_api=<tweepy.api.API object at 0x7ff883ad9250>, _json={'id': 1178203655276810240, 'id_str': '1178203655276810240', 'name': 'Alfred', 'screen_name': 'crictallkk', 'location': 'Bird App', 'description': \"I'm WITHOUT POLITICS !\\nCricket Freak!! Unbiased | Opinions are personal | Ambivert|\\n#TeamIndia  #SAvIND\\nWEAR A MASK AND TAKE PRECAUTIONS , NOT SELFIE !\", 'url': None, 'entities': {'description': {'urls': []}}, 'protected': False, 'followers_count': 45, 'friends_count': 56, 'listed_count': 1, 'created_at': 'Sun Sep 29 07:03:47 +0000 2019', 'favourites_count': 25438, 'utc_offset': None, 'time_zone': None, 'geo_enabled': False, 'verified': False, 'statuses_count': 2820, 'lang': None, 'contributors_enabled': False, 'is_translator': False, 'is_translation_enabled': False, 'profile_background_color': 'F5F8FA', 'profile_background_image_url': None, 'profile_background_image_url_https': None, 'profile_background_tile': False, 'profile_image_url': 'http://pbs.twimg.com/profile_images/1454290824242417664/fZssr0P0_normal.jpg', 'profile_image_url_https': 'https://pbs.twimg.com/profile_images/1454290824242417664/fZssr0P0_normal.jpg', 'profile_banner_url': 'https://pbs.twimg.com/profile_banners/1178203655276810240/1609679572', 'profile_link_color': '1DA1F2', 'profile_sidebar_border_color': 'C0DEED', 'profile_sidebar_fill_color': 'DDEEF6', 'profile_text_color': '333333', 'profile_use_background_image': True, 'has_extended_profile': False, 'default_profile': True, 'default_profile_image': False, 'following': False, 'follow_request_sent': False, 'notifications': False, 'translator_type': 'none', 'withheld_in_countries': []}, id=1178203655276810240, id_str='1178203655276810240', name='Alfred', screen_name='crictallkk', location='Bird App', description=\"I'm WITHOUT POLITICS !\\nCricket Freak!! Unbiased | Opinions are personal | Ambivert|\\n#TeamIndia  #SAvIND\\nWEAR A MASK AND TAKE PRECAUTIONS , NOT SELFIE !\", url=None, entities={'description': {'urls': []}}, protected=False, followers_count=45, friends_count=56, listed_count=1, created_at=datetime.datetime(2019, 9, 29, 7, 3, 47), favourites_count=25438, utc_offset=None, time_zone=None, geo_enabled=False, verified=False, statuses_count=2820, lang=None, contributors_enabled=False, is_translator=False, is_translation_enabled=False, profile_background_color='F5F8FA', profile_background_image_url=None, profile_background_image_url_https=None, profile_background_tile=False, profile_image_url='http://pbs.twimg.com/profile_images/1454290824242417664/fZssr0P0_normal.jpg', profile_image_url_https='https://pbs.twimg.com/profile_images/1454290824242417664/fZssr0P0_normal.jpg', profile_banner_url='https://pbs.twimg.com/profile_banners/1178203655276810240/1609679572', profile_link_color='1DA1F2', profile_sidebar_border_color='C0DEED', profile_sidebar_fill_color='DDEEF6', profile_text_color='333333', profile_use_background_image=True, has_extended_profile=False, default_profile=True, default_profile_image=False, following=False, follow_request_sent=False, notifications=False, translator_type='none', withheld_in_countries=[]), user=User(_api=<tweepy.api.API object at 0x7ff883ad9250>, _json={'id': 1178203655276810240, 'id_str': '1178203655276810240', 'name': 'Alfred', 'screen_name': 'crictallkk', 'location': 'Bird App', 'description': \"I'm WITHOUT POLITICS !\\nCricket Freak!! Unbiased | Opinions are personal | Ambivert|\\n#TeamIndia  #SAvIND\\nWEAR A MASK AND TAKE PRECAUTIONS , NOT SELFIE !\", 'url': None, 'entities': {'description': {'urls': []}}, 'protected': False, 'followers_count': 45, 'friends_count': 56, 'listed_count': 1, 'created_at': 'Sun Sep 29 07:03:47 +0000 2019', 'favourites_count': 25438, 'utc_offset': None, 'time_zone': None, 'geo_enabled': False, 'verified': False, 'statuses_count': 2820, 'lang': None, 'contributors_enabled': False, 'is_translator': False, 'is_translation_enabled': False, 'profile_background_color': 'F5F8FA', 'profile_background_image_url': None, 'profile_background_image_url_https': None, 'profile_background_tile': False, 'profile_image_url': 'http://pbs.twimg.com/profile_images/1454290824242417664/fZssr0P0_normal.jpg', 'profile_image_url_https': 'https://pbs.twimg.com/profile_images/1454290824242417664/fZssr0P0_normal.jpg', 'profile_banner_url': 'https://pbs.twimg.com/profile_banners/1178203655276810240/1609679572', 'profile_link_color': '1DA1F2', 'profile_sidebar_border_color': 'C0DEED', 'profile_sidebar_fill_color': 'DDEEF6', 'profile_text_color': '333333', 'profile_use_background_image': True, 'has_extended_profile': False, 'default_profile': True, 'default_profile_image': False, 'following': False, 'follow_request_sent': False, 'notifications': False, 'translator_type': 'none', 'withheld_in_countries': []}, id=1178203655276810240, id_str='1178203655276810240', name='Alfred', screen_name='crictallkk', location='Bird App', description=\"I'm WITHOUT POLITICS !\\nCricket Freak!! Unbiased | Opinions are personal | Ambivert|\\n#TeamIndia  #SAvIND\\nWEAR A MASK AND TAKE PRECAUTIONS , NOT SELFIE !\", url=None, entities={'description': {'urls': []}}, protected=False, followers_count=45, friends_count=56, listed_count=1, created_at=datetime.datetime(2019, 9, 29, 7, 3, 47), favourites_count=25438, utc_offset=None, time_zone=None, geo_enabled=False, verified=False, statuses_count=2820, lang=None, contributors_enabled=False, is_translator=False, is_translation_enabled=False, profile_background_color='F5F8FA', profile_background_image_url=None, profile_background_image_url_https=None, profile_background_tile=False, profile_image_url='http://pbs.twimg.com/profile_images/1454290824242417664/fZssr0P0_normal.jpg', profile_image_url_https='https://pbs.twimg.com/profile_images/1454290824242417664/fZssr0P0_normal.jpg', profile_banner_url='https://pbs.twimg.com/profile_banners/1178203655276810240/1609679572', profile_link_color='1DA1F2', profile_sidebar_border_color='C0DEED', profile_sidebar_fill_color='DDEEF6', profile_text_color='333333', profile_use_background_image=True, has_extended_profile=False, default_profile=True, default_profile_image=False, following=False, follow_request_sent=False, notifications=False, translator_type='none', withheld_in_countries=[]), geo=None, coordinates=None, place=None, contributors=None, is_quote_status=False, retweet_count=1, favorite_count=3, favorited=False, retweeted=False, lang='en') \n",
            "\n",
            ".....................................\n",
            "\n",
            "Status(_api=<tweepy.api.API object at 0x7ff883ad9250>, _json={'created_at': 'Wed Jan 12 07:46:35 +0000 2022', 'id': 1481170731249582080, 'id_str': '1481170731249582080', 'full_text': \"@virat_fc__ I mean I support South Africa so I know what's like not winning silverware. RCB will someday win IPL\", 'truncated': False, 'display_text_range': [12, 112], 'entities': {'hashtags': [], 'symbols': [], 'user_mentions': [{'screen_name': 'virat_fc__', 'name': \"Kohli's 71st century\", 'id': 1452925176081833993, 'id_str': '1452925176081833993', 'indices': [0, 11]}], 'urls': []}, 'metadata': {'iso_language_code': 'en', 'result_type': 'recent'}, 'source': '<a href=\"http://twitter.com/download/android\" rel=\"nofollow\">Twitter for Android</a>', 'in_reply_to_status_id': 1481170164096073730, 'in_reply_to_status_id_str': '1481170164096073730', 'in_reply_to_user_id': 1452925176081833993, 'in_reply_to_user_id_str': '1452925176081833993', 'in_reply_to_screen_name': 'virat_fc__', 'user': {'id': 1399014572401512452, 'id_str': '1399014572401512452', 'name': 'Clifford Leqheku', 'screen_name': 'Coster_Rama2', 'location': 'Cape Town, South Africa', 'description': 'new account 😖Stellenbosch 📚\\nArsenal FC ❤️\\nTest matches 🏏', 'url': None, 'entities': {'description': {'urls': []}}, 'protected': False, 'followers_count': 1437, 'friends_count': 1516, 'listed_count': 0, 'created_at': 'Sun May 30 14:47:33 +0000 2021', 'favourites_count': 3746, 'utc_offset': None, 'time_zone': None, 'geo_enabled': True, 'verified': False, 'statuses_count': 6687, 'lang': None, 'contributors_enabled': False, 'is_translator': False, 'is_translation_enabled': False, 'profile_background_color': 'F5F8FA', 'profile_background_image_url': None, 'profile_background_image_url_https': None, 'profile_background_tile': False, 'profile_image_url': 'http://pbs.twimg.com/profile_images/1462437542129713154/4hNOFQPA_normal.jpg', 'profile_image_url_https': 'https://pbs.twimg.com/profile_images/1462437542129713154/4hNOFQPA_normal.jpg', 'profile_banner_url': 'https://pbs.twimg.com/profile_banners/1399014572401512452/1630944619', 'profile_link_color': '1DA1F2', 'profile_sidebar_border_color': 'C0DEED', 'profile_sidebar_fill_color': 'DDEEF6', 'profile_text_color': '333333', 'profile_use_background_image': True, 'has_extended_profile': False, 'default_profile': True, 'default_profile_image': False, 'following': False, 'follow_request_sent': False, 'notifications': False, 'translator_type': 'none', 'withheld_in_countries': []}, 'geo': None, 'coordinates': None, 'place': None, 'contributors': None, 'is_quote_status': False, 'retweet_count': 0, 'favorite_count': 0, 'favorited': False, 'retweeted': False, 'lang': 'en'}, created_at=datetime.datetime(2022, 1, 12, 7, 46, 35), id=1481170731249582080, id_str='1481170731249582080', full_text=\"@virat_fc__ I mean I support South Africa so I know what's like not winning silverware. RCB will someday win IPL\", truncated=False, display_text_range=[12, 112], entities={'hashtags': [], 'symbols': [], 'user_mentions': [{'screen_name': 'virat_fc__', 'name': \"Kohli's 71st century\", 'id': 1452925176081833993, 'id_str': '1452925176081833993', 'indices': [0, 11]}], 'urls': []}, metadata={'iso_language_code': 'en', 'result_type': 'recent'}, source='Twitter for Android', source_url='http://twitter.com/download/android', in_reply_to_status_id=1481170164096073730, in_reply_to_status_id_str='1481170164096073730', in_reply_to_user_id=1452925176081833993, in_reply_to_user_id_str='1452925176081833993', in_reply_to_screen_name='virat_fc__', author=User(_api=<tweepy.api.API object at 0x7ff883ad9250>, _json={'id': 1399014572401512452, 'id_str': '1399014572401512452', 'name': 'Clifford Leqheku', 'screen_name': 'Coster_Rama2', 'location': 'Cape Town, South Africa', 'description': 'new account 😖Stellenbosch 📚\\nArsenal FC ❤️\\nTest matches 🏏', 'url': None, 'entities': {'description': {'urls': []}}, 'protected': False, 'followers_count': 1437, 'friends_count': 1516, 'listed_count': 0, 'created_at': 'Sun May 30 14:47:33 +0000 2021', 'favourites_count': 3746, 'utc_offset': None, 'time_zone': None, 'geo_enabled': True, 'verified': False, 'statuses_count': 6687, 'lang': None, 'contributors_enabled': False, 'is_translator': False, 'is_translation_enabled': False, 'profile_background_color': 'F5F8FA', 'profile_background_image_url': None, 'profile_background_image_url_https': None, 'profile_background_tile': False, 'profile_image_url': 'http://pbs.twimg.com/profile_images/1462437542129713154/4hNOFQPA_normal.jpg', 'profile_image_url_https': 'https://pbs.twimg.com/profile_images/1462437542129713154/4hNOFQPA_normal.jpg', 'profile_banner_url': 'https://pbs.twimg.com/profile_banners/1399014572401512452/1630944619', 'profile_link_color': '1DA1F2', 'profile_sidebar_border_color': 'C0DEED', 'profile_sidebar_fill_color': 'DDEEF6', 'profile_text_color': '333333', 'profile_use_background_image': True, 'has_extended_profile': False, 'default_profile': True, 'default_profile_image': False, 'following': False, 'follow_request_sent': False, 'notifications': False, 'translator_type': 'none', 'withheld_in_countries': []}, id=1399014572401512452, id_str='1399014572401512452', name='Clifford Leqheku', screen_name='Coster_Rama2', location='Cape Town, South Africa', description='new account 😖Stellenbosch 📚\\nArsenal FC ❤️\\nTest matches 🏏', url=None, entities={'description': {'urls': []}}, protected=False, followers_count=1437, friends_count=1516, listed_count=0, created_at=datetime.datetime(2021, 5, 30, 14, 47, 33), favourites_count=3746, utc_offset=None, time_zone=None, geo_enabled=True, verified=False, statuses_count=6687, lang=None, contributors_enabled=False, is_translator=False, is_translation_enabled=False, profile_background_color='F5F8FA', profile_background_image_url=None, profile_background_image_url_https=None, profile_background_tile=False, profile_image_url='http://pbs.twimg.com/profile_images/1462437542129713154/4hNOFQPA_normal.jpg', profile_image_url_https='https://pbs.twimg.com/profile_images/1462437542129713154/4hNOFQPA_normal.jpg', profile_banner_url='https://pbs.twimg.com/profile_banners/1399014572401512452/1630944619', profile_link_color='1DA1F2', profile_sidebar_border_color='C0DEED', profile_sidebar_fill_color='DDEEF6', profile_text_color='333333', profile_use_background_image=True, has_extended_profile=False, default_profile=True, default_profile_image=False, following=False, follow_request_sent=False, notifications=False, translator_type='none', withheld_in_countries=[]), user=User(_api=<tweepy.api.API object at 0x7ff883ad9250>, _json={'id': 1399014572401512452, 'id_str': '1399014572401512452', 'name': 'Clifford Leqheku', 'screen_name': 'Coster_Rama2', 'location': 'Cape Town, South Africa', 'description': 'new account 😖Stellenbosch 📚\\nArsenal FC ❤️\\nTest matches 🏏', 'url': None, 'entities': {'description': {'urls': []}}, 'protected': False, 'followers_count': 1437, 'friends_count': 1516, 'listed_count': 0, 'created_at': 'Sun May 30 14:47:33 +0000 2021', 'favourites_count': 3746, 'utc_offset': None, 'time_zone': None, 'geo_enabled': True, 'verified': False, 'statuses_count': 6687, 'lang': None, 'contributors_enabled': False, 'is_translator': False, 'is_translation_enabled': False, 'profile_background_color': 'F5F8FA', 'profile_background_image_url': None, 'profile_background_image_url_https': None, 'profile_background_tile': False, 'profile_image_url': 'http://pbs.twimg.com/profile_images/1462437542129713154/4hNOFQPA_normal.jpg', 'profile_image_url_https': 'https://pbs.twimg.com/profile_images/1462437542129713154/4hNOFQPA_normal.jpg', 'profile_banner_url': 'https://pbs.twimg.com/profile_banners/1399014572401512452/1630944619', 'profile_link_color': '1DA1F2', 'profile_sidebar_border_color': 'C0DEED', 'profile_sidebar_fill_color': 'DDEEF6', 'profile_text_color': '333333', 'profile_use_background_image': True, 'has_extended_profile': False, 'default_profile': True, 'default_profile_image': False, 'following': False, 'follow_request_sent': False, 'notifications': False, 'translator_type': 'none', 'withheld_in_countries': []}, id=1399014572401512452, id_str='1399014572401512452', name='Clifford Leqheku', screen_name='Coster_Rama2', location='Cape Town, South Africa', description='new account 😖Stellenbosch 📚\\nArsenal FC ❤️\\nTest matches 🏏', url=None, entities={'description': {'urls': []}}, protected=False, followers_count=1437, friends_count=1516, listed_count=0, created_at=datetime.datetime(2021, 5, 30, 14, 47, 33), favourites_count=3746, utc_offset=None, time_zone=None, geo_enabled=True, verified=False, statuses_count=6687, lang=None, contributors_enabled=False, is_translator=False, is_translation_enabled=False, profile_background_color='F5F8FA', profile_background_image_url=None, profile_background_image_url_https=None, profile_background_tile=False, profile_image_url='http://pbs.twimg.com/profile_images/1462437542129713154/4hNOFQPA_normal.jpg', profile_image_url_https='https://pbs.twimg.com/profile_images/1462437542129713154/4hNOFQPA_normal.jpg', profile_banner_url='https://pbs.twimg.com/profile_banners/1399014572401512452/1630944619', profile_link_color='1DA1F2', profile_sidebar_border_color='C0DEED', profile_sidebar_fill_color='DDEEF6', profile_text_color='333333', profile_use_background_image=True, has_extended_profile=False, default_profile=True, default_profile_image=False, following=False, follow_request_sent=False, notifications=False, translator_type='none', withheld_in_countries=[]), geo=None, coordinates=None, place=None, contributors=None, is_quote_status=False, retweet_count=0, favorite_count=0, favorited=False, retweeted=False, lang='en') \n",
            "\n",
            ".....................................\n",
            "\n",
            "Status(_api=<tweepy.api.API object at 0x7ff883ad9250>, _json={'created_at': 'Wed Jan 12 07:22:27 +0000 2022', 'id': 1481164654894551040, 'id_str': '1481164654894551040', 'full_text': '@LaxmanSivarama1 For example RCB\\n\\nTheir form is always temporary\\nAnd their class of not winning IPL is always permanent!!', 'truncated': False, 'display_text_range': [17, 121], 'entities': {'hashtags': [], 'symbols': [], 'user_mentions': [{'screen_name': 'LaxmanSivarama1', 'name': 'Laxman Sivaramakrishnan', 'id': 936593267520552960, 'id_str': '936593267520552960', 'indices': [0, 16]}], 'urls': []}, 'metadata': {'iso_language_code': 'en', 'result_type': 'recent'}, 'source': '<a href=\"https://mobile.twitter.com\" rel=\"nofollow\">Twitter Web App</a>', 'in_reply_to_status_id': 1481078753195610112, 'in_reply_to_status_id_str': '1481078753195610112', 'in_reply_to_user_id': 936593267520552960, 'in_reply_to_user_id_str': '936593267520552960', 'in_reply_to_screen_name': 'LaxmanSivarama1', 'user': {'id': 1321532660557049861, 'id_str': '1321532660557049861', 'name': 'Majestic Ro45', 'screen_name': 'MohitRo45', 'location': 'Who tf cares 🤷', 'description': \"That's how much we have in common, we are not alike!!\", 'url': None, 'entities': {'description': {'urls': []}}, 'protected': False, 'followers_count': 865, 'friends_count': 707, 'listed_count': 0, 'created_at': 'Wed Oct 28 19:22:14 +0000 2020', 'favourites_count': 16956, 'utc_offset': None, 'time_zone': None, 'geo_enabled': False, 'verified': False, 'statuses_count': 12531, 'lang': None, 'contributors_enabled': False, 'is_translator': False, 'is_translation_enabled': False, 'profile_background_color': 'F5F8FA', 'profile_background_image_url': None, 'profile_background_image_url_https': None, 'profile_background_tile': False, 'profile_image_url': 'http://pbs.twimg.com/profile_images/1433526455414124549/O90DkwCk_normal.jpg', 'profile_image_url_https': 'https://pbs.twimg.com/profile_images/1433526455414124549/O90DkwCk_normal.jpg', 'profile_banner_url': 'https://pbs.twimg.com/profile_banners/1321532660557049861/1638832117', 'profile_link_color': '1DA1F2', 'profile_sidebar_border_color': 'C0DEED', 'profile_sidebar_fill_color': 'DDEEF6', 'profile_text_color': '333333', 'profile_use_background_image': True, 'has_extended_profile': True, 'default_profile': True, 'default_profile_image': False, 'following': False, 'follow_request_sent': False, 'notifications': False, 'translator_type': 'none', 'withheld_in_countries': []}, 'geo': None, 'coordinates': None, 'place': None, 'contributors': None, 'is_quote_status': False, 'retweet_count': 0, 'favorite_count': 3, 'favorited': False, 'retweeted': False, 'lang': 'en'}, created_at=datetime.datetime(2022, 1, 12, 7, 22, 27), id=1481164654894551040, id_str='1481164654894551040', full_text='@LaxmanSivarama1 For example RCB\\n\\nTheir form is always temporary\\nAnd their class of not winning IPL is always permanent!!', truncated=False, display_text_range=[17, 121], entities={'hashtags': [], 'symbols': [], 'user_mentions': [{'screen_name': 'LaxmanSivarama1', 'name': 'Laxman Sivaramakrishnan', 'id': 936593267520552960, 'id_str': '936593267520552960', 'indices': [0, 16]}], 'urls': []}, metadata={'iso_language_code': 'en', 'result_type': 'recent'}, source='Twitter Web App', source_url='https://mobile.twitter.com', in_reply_to_status_id=1481078753195610112, in_reply_to_status_id_str='1481078753195610112', in_reply_to_user_id=936593267520552960, in_reply_to_user_id_str='936593267520552960', in_reply_to_screen_name='LaxmanSivarama1', author=User(_api=<tweepy.api.API object at 0x7ff883ad9250>, _json={'id': 1321532660557049861, 'id_str': '1321532660557049861', 'name': 'Majestic Ro45', 'screen_name': 'MohitRo45', 'location': 'Who tf cares 🤷', 'description': \"That's how much we have in common, we are not alike!!\", 'url': None, 'entities': {'description': {'urls': []}}, 'protected': False, 'followers_count': 865, 'friends_count': 707, 'listed_count': 0, 'created_at': 'Wed Oct 28 19:22:14 +0000 2020', 'favourites_count': 16956, 'utc_offset': None, 'time_zone': None, 'geo_enabled': False, 'verified': False, 'statuses_count': 12531, 'lang': None, 'contributors_enabled': False, 'is_translator': False, 'is_translation_enabled': False, 'profile_background_color': 'F5F8FA', 'profile_background_image_url': None, 'profile_background_image_url_https': None, 'profile_background_tile': False, 'profile_image_url': 'http://pbs.twimg.com/profile_images/1433526455414124549/O90DkwCk_normal.jpg', 'profile_image_url_https': 'https://pbs.twimg.com/profile_images/1433526455414124549/O90DkwCk_normal.jpg', 'profile_banner_url': 'https://pbs.twimg.com/profile_banners/1321532660557049861/1638832117', 'profile_link_color': '1DA1F2', 'profile_sidebar_border_color': 'C0DEED', 'profile_sidebar_fill_color': 'DDEEF6', 'profile_text_color': '333333', 'profile_use_background_image': True, 'has_extended_profile': True, 'default_profile': True, 'default_profile_image': False, 'following': False, 'follow_request_sent': False, 'notifications': False, 'translator_type': 'none', 'withheld_in_countries': []}, id=1321532660557049861, id_str='1321532660557049861', name='Majestic Ro45', screen_name='MohitRo45', location='Who tf cares 🤷', description=\"That's how much we have in common, we are not alike!!\", url=None, entities={'description': {'urls': []}}, protected=False, followers_count=865, friends_count=707, listed_count=0, created_at=datetime.datetime(2020, 10, 28, 19, 22, 14), favourites_count=16956, utc_offset=None, time_zone=None, geo_enabled=False, verified=False, statuses_count=12531, lang=None, contributors_enabled=False, is_translator=False, is_translation_enabled=False, profile_background_color='F5F8FA', profile_background_image_url=None, profile_background_image_url_https=None, profile_background_tile=False, profile_image_url='http://pbs.twimg.com/profile_images/1433526455414124549/O90DkwCk_normal.jpg', profile_image_url_https='https://pbs.twimg.com/profile_images/1433526455414124549/O90DkwCk_normal.jpg', profile_banner_url='https://pbs.twimg.com/profile_banners/1321532660557049861/1638832117', profile_link_color='1DA1F2', profile_sidebar_border_color='C0DEED', profile_sidebar_fill_color='DDEEF6', profile_text_color='333333', profile_use_background_image=True, has_extended_profile=True, default_profile=True, default_profile_image=False, following=False, follow_request_sent=False, notifications=False, translator_type='none', withheld_in_countries=[]), user=User(_api=<tweepy.api.API object at 0x7ff883ad9250>, _json={'id': 1321532660557049861, 'id_str': '1321532660557049861', 'name': 'Majestic Ro45', 'screen_name': 'MohitRo45', 'location': 'Who tf cares 🤷', 'description': \"That's how much we have in common, we are not alike!!\", 'url': None, 'entities': {'description': {'urls': []}}, 'protected': False, 'followers_count': 865, 'friends_count': 707, 'listed_count': 0, 'created_at': 'Wed Oct 28 19:22:14 +0000 2020', 'favourites_count': 16956, 'utc_offset': None, 'time_zone': None, 'geo_enabled': False, 'verified': False, 'statuses_count': 12531, 'lang': None, 'contributors_enabled': False, 'is_translator': False, 'is_translation_enabled': False, 'profile_background_color': 'F5F8FA', 'profile_background_image_url': None, 'profile_background_image_url_https': None, 'profile_background_tile': False, 'profile_image_url': 'http://pbs.twimg.com/profile_images/1433526455414124549/O90DkwCk_normal.jpg', 'profile_image_url_https': 'https://pbs.twimg.com/profile_images/1433526455414124549/O90DkwCk_normal.jpg', 'profile_banner_url': 'https://pbs.twimg.com/profile_banners/1321532660557049861/1638832117', 'profile_link_color': '1DA1F2', 'profile_sidebar_border_color': 'C0DEED', 'profile_sidebar_fill_color': 'DDEEF6', 'profile_text_color': '333333', 'profile_use_background_image': True, 'has_extended_profile': True, 'default_profile': True, 'default_profile_image': False, 'following': False, 'follow_request_sent': False, 'notifications': False, 'translator_type': 'none', 'withheld_in_countries': []}, id=1321532660557049861, id_str='1321532660557049861', name='Majestic Ro45', screen_name='MohitRo45', location='Who tf cares 🤷', description=\"That's how much we have in common, we are not alike!!\", url=None, entities={'description': {'urls': []}}, protected=False, followers_count=865, friends_count=707, listed_count=0, created_at=datetime.datetime(2020, 10, 28, 19, 22, 14), favourites_count=16956, utc_offset=None, time_zone=None, geo_enabled=False, verified=False, statuses_count=12531, lang=None, contributors_enabled=False, is_translator=False, is_translation_enabled=False, profile_background_color='F5F8FA', profile_background_image_url=None, profile_background_image_url_https=None, profile_background_tile=False, profile_image_url='http://pbs.twimg.com/profile_images/1433526455414124549/O90DkwCk_normal.jpg', profile_image_url_https='https://pbs.twimg.com/profile_images/1433526455414124549/O90DkwCk_normal.jpg', profile_banner_url='https://pbs.twimg.com/profile_banners/1321532660557049861/1638832117', profile_link_color='1DA1F2', profile_sidebar_border_color='C0DEED', profile_sidebar_fill_color='DDEEF6', profile_text_color='333333', profile_use_background_image=True, has_extended_profile=True, default_profile=True, default_profile_image=False, following=False, follow_request_sent=False, notifications=False, translator_type='none', withheld_in_countries=[]), geo=None, coordinates=None, place=None, contributors=None, is_quote_status=False, retweet_count=0, favorite_count=3, favorited=False, retweeted=False, lang='en') \n",
            "\n",
            ".....................................\n",
            "\n",
            "Status(_api=<tweepy.api.API object at 0x7ff883ad9250>, _json={'created_at': 'Wed Jan 12 06:21:05 +0000 2022', 'id': 1481149213056458752, 'id_str': '1481149213056458752', 'full_text': '@mufaddal_vohra Ratio. RCB winning IPL next season. ❤️', 'truncated': False, 'display_text_range': [16, 54], 'entities': {'hashtags': [], 'symbols': [], 'user_mentions': [{'screen_name': 'mufaddal_vohra', 'name': 'Mufaddal Vohra', 'id': 3133996860, 'id_str': '3133996860', 'indices': [0, 15]}], 'urls': []}, 'metadata': {'iso_language_code': 'en', 'result_type': 'recent'}, 'source': '<a href=\"http://twitter.com/download/android\" rel=\"nofollow\">Twitter for Android</a>', 'in_reply_to_status_id': 1481148848852463616, 'in_reply_to_status_id_str': '1481148848852463616', 'in_reply_to_user_id': 1102116525140525057, 'in_reply_to_user_id_str': '1102116525140525057', 'in_reply_to_screen_name': 'teamsaver', 'user': {'id': 1102116525140525057, 'id_str': '1102116525140525057', 'name': 'Abhishek', 'screen_name': 'teamsaver', 'location': '', 'description': 'Tweet Saviour \\U0001f9be🧠', 'url': None, 'entities': {'description': {'urls': []}}, 'protected': False, 'followers_count': 21, 'friends_count': 122, 'listed_count': 0, 'created_at': 'Sun Mar 03 08:00:30 +0000 2019', 'favourites_count': 28724, 'utc_offset': None, 'time_zone': None, 'geo_enabled': False, 'verified': False, 'statuses_count': 498, 'lang': None, 'contributors_enabled': False, 'is_translator': False, 'is_translation_enabled': False, 'profile_background_color': 'F5F8FA', 'profile_background_image_url': None, 'profile_background_image_url_https': None, 'profile_background_tile': False, 'profile_image_url': 'http://pbs.twimg.com/profile_images/1463178424638267398/LHOxUsBq_normal.jpg', 'profile_image_url_https': 'https://pbs.twimg.com/profile_images/1463178424638267398/LHOxUsBq_normal.jpg', 'profile_banner_url': 'https://pbs.twimg.com/profile_banners/1102116525140525057/1641626223', 'profile_link_color': '1DA1F2', 'profile_sidebar_border_color': 'C0DEED', 'profile_sidebar_fill_color': 'DDEEF6', 'profile_text_color': '333333', 'profile_use_background_image': True, 'has_extended_profile': False, 'default_profile': True, 'default_profile_image': False, 'following': False, 'follow_request_sent': False, 'notifications': False, 'translator_type': 'none', 'withheld_in_countries': []}, 'geo': None, 'coordinates': None, 'place': None, 'contributors': None, 'is_quote_status': False, 'retweet_count': 1, 'favorite_count': 51, 'favorited': False, 'retweeted': False, 'lang': 'en'}, created_at=datetime.datetime(2022, 1, 12, 6, 21, 5), id=1481149213056458752, id_str='1481149213056458752', full_text='@mufaddal_vohra Ratio. RCB winning IPL next season. ❤️', truncated=False, display_text_range=[16, 54], entities={'hashtags': [], 'symbols': [], 'user_mentions': [{'screen_name': 'mufaddal_vohra', 'name': 'Mufaddal Vohra', 'id': 3133996860, 'id_str': '3133996860', 'indices': [0, 15]}], 'urls': []}, metadata={'iso_language_code': 'en', 'result_type': 'recent'}, source='Twitter for Android', source_url='http://twitter.com/download/android', in_reply_to_status_id=1481148848852463616, in_reply_to_status_id_str='1481148848852463616', in_reply_to_user_id=1102116525140525057, in_reply_to_user_id_str='1102116525140525057', in_reply_to_screen_name='teamsaver', author=User(_api=<tweepy.api.API object at 0x7ff883ad9250>, _json={'id': 1102116525140525057, 'id_str': '1102116525140525057', 'name': 'Abhishek', 'screen_name': 'teamsaver', 'location': '', 'description': 'Tweet Saviour \\U0001f9be🧠', 'url': None, 'entities': {'description': {'urls': []}}, 'protected': False, 'followers_count': 21, 'friends_count': 122, 'listed_count': 0, 'created_at': 'Sun Mar 03 08:00:30 +0000 2019', 'favourites_count': 28724, 'utc_offset': None, 'time_zone': None, 'geo_enabled': False, 'verified': False, 'statuses_count': 498, 'lang': None, 'contributors_enabled': False, 'is_translator': False, 'is_translation_enabled': False, 'profile_background_color': 'F5F8FA', 'profile_background_image_url': None, 'profile_background_image_url_https': None, 'profile_background_tile': False, 'profile_image_url': 'http://pbs.twimg.com/profile_images/1463178424638267398/LHOxUsBq_normal.jpg', 'profile_image_url_https': 'https://pbs.twimg.com/profile_images/1463178424638267398/LHOxUsBq_normal.jpg', 'profile_banner_url': 'https://pbs.twimg.com/profile_banners/1102116525140525057/1641626223', 'profile_link_color': '1DA1F2', 'profile_sidebar_border_color': 'C0DEED', 'profile_sidebar_fill_color': 'DDEEF6', 'profile_text_color': '333333', 'profile_use_background_image': True, 'has_extended_profile': False, 'default_profile': True, 'default_profile_image': False, 'following': False, 'follow_request_sent': False, 'notifications': False, 'translator_type': 'none', 'withheld_in_countries': []}, id=1102116525140525057, id_str='1102116525140525057', name='Abhishek', screen_name='teamsaver', location='', description='Tweet Saviour \\U0001f9be🧠', url=None, entities={'description': {'urls': []}}, protected=False, followers_count=21, friends_count=122, listed_count=0, created_at=datetime.datetime(2019, 3, 3, 8, 0, 30), favourites_count=28724, utc_offset=None, time_zone=None, geo_enabled=False, verified=False, statuses_count=498, lang=None, contributors_enabled=False, is_translator=False, is_translation_enabled=False, profile_background_color='F5F8FA', profile_background_image_url=None, profile_background_image_url_https=None, profile_background_tile=False, profile_image_url='http://pbs.twimg.com/profile_images/1463178424638267398/LHOxUsBq_normal.jpg', profile_image_url_https='https://pbs.twimg.com/profile_images/1463178424638267398/LHOxUsBq_normal.jpg', profile_banner_url='https://pbs.twimg.com/profile_banners/1102116525140525057/1641626223', profile_link_color='1DA1F2', profile_sidebar_border_color='C0DEED', profile_sidebar_fill_color='DDEEF6', profile_text_color='333333', profile_use_background_image=True, has_extended_profile=False, default_profile=True, default_profile_image=False, following=False, follow_request_sent=False, notifications=False, translator_type='none', withheld_in_countries=[]), user=User(_api=<tweepy.api.API object at 0x7ff883ad9250>, _json={'id': 1102116525140525057, 'id_str': '1102116525140525057', 'name': 'Abhishek', 'screen_name': 'teamsaver', 'location': '', 'description': 'Tweet Saviour \\U0001f9be🧠', 'url': None, 'entities': {'description': {'urls': []}}, 'protected': False, 'followers_count': 21, 'friends_count': 122, 'listed_count': 0, 'created_at': 'Sun Mar 03 08:00:30 +0000 2019', 'favourites_count': 28724, 'utc_offset': None, 'time_zone': None, 'geo_enabled': False, 'verified': False, 'statuses_count': 498, 'lang': None, 'contributors_enabled': False, 'is_translator': False, 'is_translation_enabled': False, 'profile_background_color': 'F5F8FA', 'profile_background_image_url': None, 'profile_background_image_url_https': None, 'profile_background_tile': False, 'profile_image_url': 'http://pbs.twimg.com/profile_images/1463178424638267398/LHOxUsBq_normal.jpg', 'profile_image_url_https': 'https://pbs.twimg.com/profile_images/1463178424638267398/LHOxUsBq_normal.jpg', 'profile_banner_url': 'https://pbs.twimg.com/profile_banners/1102116525140525057/1641626223', 'profile_link_color': '1DA1F2', 'profile_sidebar_border_color': 'C0DEED', 'profile_sidebar_fill_color': 'DDEEF6', 'profile_text_color': '333333', 'profile_use_background_image': True, 'has_extended_profile': False, 'default_profile': True, 'default_profile_image': False, 'following': False, 'follow_request_sent': False, 'notifications': False, 'translator_type': 'none', 'withheld_in_countries': []}, id=1102116525140525057, id_str='1102116525140525057', name='Abhishek', screen_name='teamsaver', location='', description='Tweet Saviour \\U0001f9be🧠', url=None, entities={'description': {'urls': []}}, protected=False, followers_count=21, friends_count=122, listed_count=0, created_at=datetime.datetime(2019, 3, 3, 8, 0, 30), favourites_count=28724, utc_offset=None, time_zone=None, geo_enabled=False, verified=False, statuses_count=498, lang=None, contributors_enabled=False, is_translator=False, is_translation_enabled=False, profile_background_color='F5F8FA', profile_background_image_url=None, profile_background_image_url_https=None, profile_background_tile=False, profile_image_url='http://pbs.twimg.com/profile_images/1463178424638267398/LHOxUsBq_normal.jpg', profile_image_url_https='https://pbs.twimg.com/profile_images/1463178424638267398/LHOxUsBq_normal.jpg', profile_banner_url='https://pbs.twimg.com/profile_banners/1102116525140525057/1641626223', profile_link_color='1DA1F2', profile_sidebar_border_color='C0DEED', profile_sidebar_fill_color='DDEEF6', profile_text_color='333333', profile_use_background_image=True, has_extended_profile=False, default_profile=True, default_profile_image=False, following=False, follow_request_sent=False, notifications=False, translator_type='none', withheld_in_countries=[]), geo=None, coordinates=None, place=None, contributors=None, is_quote_status=False, retweet_count=1, favorite_count=51, favorited=False, retweeted=False, lang='en') \n",
            "\n",
            ".....................................\n",
            "\n",
            "Status(_api=<tweepy.api.API object at 0x7ff883ad9250>, _json={'created_at': 'Wed Jan 12 05:20:45 +0000 2022', 'id': 1481134029626052610, 'id_str': '1481134029626052610', 'full_text': '@ArjunKr52571150 Man, what did our maths sir do, I am person who said an example for impossible event(in probablity) as RCB winning IPL trophy ,leave that poor soul alone😂😂', 'truncated': False, 'display_text_range': [17, 172], 'entities': {'hashtags': [], 'symbols': [], 'user_mentions': [{'screen_name': 'ArjunKr52571150', 'name': 'Arjun Krishna', 'id': 1303953862932402177, 'id_str': '1303953862932402177', 'indices': [0, 16]}], 'urls': []}, 'metadata': {'iso_language_code': 'en', 'result_type': 'recent'}, 'source': '<a href=\"https://mobile.twitter.com\" rel=\"nofollow\">Twitter Web App</a>', 'in_reply_to_status_id': 1481118179141505027, 'in_reply_to_status_id_str': '1481118179141505027', 'in_reply_to_user_id': 1303953862932402177, 'in_reply_to_user_id_str': '1303953862932402177', 'in_reply_to_screen_name': 'ArjunKr52571150', 'user': {'id': 1266392986297851904, 'id_str': '1266392986297851904', 'name': 'Sreejay ama missing Hanker and sv5', 'screen_name': 'sreejayraju', 'location': 'cerebral cortex', 'description': \"#Hanker stan.\\nI believe in Ferrari's master🅱️lan\\n Du bist weltmeister #sv5\\nDesi guy\", 'url': None, 'entities': {'description': {'urls': []}}, 'protected': False, 'followers_count': 235, 'friends_count': 708, 'listed_count': 0, 'created_at': 'Fri May 29 15:37:11 +0000 2020', 'favourites_count': 8286, 'utc_offset': None, 'time_zone': None, 'geo_enabled': False, 'verified': False, 'statuses_count': 1449, 'lang': None, 'contributors_enabled': False, 'is_translator': False, 'is_translation_enabled': False, 'profile_background_color': 'F5F8FA', 'profile_background_image_url': None, 'profile_background_image_url_https': None, 'profile_background_tile': False, 'profile_image_url': 'http://pbs.twimg.com/profile_images/1463139041411403790/k9u__-53_normal.jpg', 'profile_image_url_https': 'https://pbs.twimg.com/profile_images/1463139041411403790/k9u__-53_normal.jpg', 'profile_banner_url': 'https://pbs.twimg.com/profile_banners/1266392986297851904/1628512568', 'profile_link_color': '1DA1F2', 'profile_sidebar_border_color': 'C0DEED', 'profile_sidebar_fill_color': 'DDEEF6', 'profile_text_color': '333333', 'profile_use_background_image': True, 'has_extended_profile': True, 'default_profile': True, 'default_profile_image': False, 'following': False, 'follow_request_sent': False, 'notifications': False, 'translator_type': 'none', 'withheld_in_countries': []}, 'geo': None, 'coordinates': None, 'place': None, 'contributors': None, 'is_quote_status': False, 'retweet_count': 0, 'favorite_count': 0, 'favorited': False, 'retweeted': False, 'lang': 'en'}, created_at=datetime.datetime(2022, 1, 12, 5, 20, 45), id=1481134029626052610, id_str='1481134029626052610', full_text='@ArjunKr52571150 Man, what did our maths sir do, I am person who said an example for impossible event(in probablity) as RCB winning IPL trophy ,leave that poor soul alone😂😂', truncated=False, display_text_range=[17, 172], entities={'hashtags': [], 'symbols': [], 'user_mentions': [{'screen_name': 'ArjunKr52571150', 'name': 'Arjun Krishna', 'id': 1303953862932402177, 'id_str': '1303953862932402177', 'indices': [0, 16]}], 'urls': []}, metadata={'iso_language_code': 'en', 'result_type': 'recent'}, source='Twitter Web App', source_url='https://mobile.twitter.com', in_reply_to_status_id=1481118179141505027, in_reply_to_status_id_str='1481118179141505027', in_reply_to_user_id=1303953862932402177, in_reply_to_user_id_str='1303953862932402177', in_reply_to_screen_name='ArjunKr52571150', author=User(_api=<tweepy.api.API object at 0x7ff883ad9250>, _json={'id': 1266392986297851904, 'id_str': '1266392986297851904', 'name': 'Sreejay ama missing Hanker and sv5', 'screen_name': 'sreejayraju', 'location': 'cerebral cortex', 'description': \"#Hanker stan.\\nI believe in Ferrari's master🅱️lan\\n Du bist weltmeister #sv5\\nDesi guy\", 'url': None, 'entities': {'description': {'urls': []}}, 'protected': False, 'followers_count': 235, 'friends_count': 708, 'listed_count': 0, 'created_at': 'Fri May 29 15:37:11 +0000 2020', 'favourites_count': 8286, 'utc_offset': None, 'time_zone': None, 'geo_enabled': False, 'verified': False, 'statuses_count': 1449, 'lang': None, 'contributors_enabled': False, 'is_translator': False, 'is_translation_enabled': False, 'profile_background_color': 'F5F8FA', 'profile_background_image_url': None, 'profile_background_image_url_https': None, 'profile_background_tile': False, 'profile_image_url': 'http://pbs.twimg.com/profile_images/1463139041411403790/k9u__-53_normal.jpg', 'profile_image_url_https': 'https://pbs.twimg.com/profile_images/1463139041411403790/k9u__-53_normal.jpg', 'profile_banner_url': 'https://pbs.twimg.com/profile_banners/1266392986297851904/1628512568', 'profile_link_color': '1DA1F2', 'profile_sidebar_border_color': 'C0DEED', 'profile_sidebar_fill_color': 'DDEEF6', 'profile_text_color': '333333', 'profile_use_background_image': True, 'has_extended_profile': True, 'default_profile': True, 'default_profile_image': False, 'following': False, 'follow_request_sent': False, 'notifications': False, 'translator_type': 'none', 'withheld_in_countries': []}, id=1266392986297851904, id_str='1266392986297851904', name='Sreejay ama missing Hanker and sv5', screen_name='sreejayraju', location='cerebral cortex', description=\"#Hanker stan.\\nI believe in Ferrari's master🅱️lan\\n Du bist weltmeister #sv5\\nDesi guy\", url=None, entities={'description': {'urls': []}}, protected=False, followers_count=235, friends_count=708, listed_count=0, created_at=datetime.datetime(2020, 5, 29, 15, 37, 11), favourites_count=8286, utc_offset=None, time_zone=None, geo_enabled=False, verified=False, statuses_count=1449, lang=None, contributors_enabled=False, is_translator=False, is_translation_enabled=False, profile_background_color='F5F8FA', profile_background_image_url=None, profile_background_image_url_https=None, profile_background_tile=False, profile_image_url='http://pbs.twimg.com/profile_images/1463139041411403790/k9u__-53_normal.jpg', profile_image_url_https='https://pbs.twimg.com/profile_images/1463139041411403790/k9u__-53_normal.jpg', profile_banner_url='https://pbs.twimg.com/profile_banners/1266392986297851904/1628512568', profile_link_color='1DA1F2', profile_sidebar_border_color='C0DEED', profile_sidebar_fill_color='DDEEF6', profile_text_color='333333', profile_use_background_image=True, has_extended_profile=True, default_profile=True, default_profile_image=False, following=False, follow_request_sent=False, notifications=False, translator_type='none', withheld_in_countries=[]), user=User(_api=<tweepy.api.API object at 0x7ff883ad9250>, _json={'id': 1266392986297851904, 'id_str': '1266392986297851904', 'name': 'Sreejay ama missing Hanker and sv5', 'screen_name': 'sreejayraju', 'location': 'cerebral cortex', 'description': \"#Hanker stan.\\nI believe in Ferrari's master🅱️lan\\n Du bist weltmeister #sv5\\nDesi guy\", 'url': None, 'entities': {'description': {'urls': []}}, 'protected': False, 'followers_count': 235, 'friends_count': 708, 'listed_count': 0, 'created_at': 'Fri May 29 15:37:11 +0000 2020', 'favourites_count': 8286, 'utc_offset': None, 'time_zone': None, 'geo_enabled': False, 'verified': False, 'statuses_count': 1449, 'lang': None, 'contributors_enabled': False, 'is_translator': False, 'is_translation_enabled': False, 'profile_background_color': 'F5F8FA', 'profile_background_image_url': None, 'profile_background_image_url_https': None, 'profile_background_tile': False, 'profile_image_url': 'http://pbs.twimg.com/profile_images/1463139041411403790/k9u__-53_normal.jpg', 'profile_image_url_https': 'https://pbs.twimg.com/profile_images/1463139041411403790/k9u__-53_normal.jpg', 'profile_banner_url': 'https://pbs.twimg.com/profile_banners/1266392986297851904/1628512568', 'profile_link_color': '1DA1F2', 'profile_sidebar_border_color': 'C0DEED', 'profile_sidebar_fill_color': 'DDEEF6', 'profile_text_color': '333333', 'profile_use_background_image': True, 'has_extended_profile': True, 'default_profile': True, 'default_profile_image': False, 'following': False, 'follow_request_sent': False, 'notifications': False, 'translator_type': 'none', 'withheld_in_countries': []}, id=1266392986297851904, id_str='1266392986297851904', name='Sreejay ama missing Hanker and sv5', screen_name='sreejayraju', location='cerebral cortex', description=\"#Hanker stan.\\nI believe in Ferrari's master🅱️lan\\n Du bist weltmeister #sv5\\nDesi guy\", url=None, entities={'description': {'urls': []}}, protected=False, followers_count=235, friends_count=708, listed_count=0, created_at=datetime.datetime(2020, 5, 29, 15, 37, 11), favourites_count=8286, utc_offset=None, time_zone=None, geo_enabled=False, verified=False, statuses_count=1449, lang=None, contributors_enabled=False, is_translator=False, is_translation_enabled=False, profile_background_color='F5F8FA', profile_background_image_url=None, profile_background_image_url_https=None, profile_background_tile=False, profile_image_url='http://pbs.twimg.com/profile_images/1463139041411403790/k9u__-53_normal.jpg', profile_image_url_https='https://pbs.twimg.com/profile_images/1463139041411403790/k9u__-53_normal.jpg', profile_banner_url='https://pbs.twimg.com/profile_banners/1266392986297851904/1628512568', profile_link_color='1DA1F2', profile_sidebar_border_color='C0DEED', profile_sidebar_fill_color='DDEEF6', profile_text_color='333333', profile_use_background_image=True, has_extended_profile=True, default_profile=True, default_profile_image=False, following=False, follow_request_sent=False, notifications=False, translator_type='none', withheld_in_countries=[]), geo=None, coordinates=None, place=None, contributors=None, is_quote_status=False, retweet_count=0, favorite_count=0, favorited=False, retweeted=False, lang='en') \n",
            "\n",
            ".....................................\n",
            "\n",
            "Status(_api=<tweepy.api.API object at 0x7ff883ad9250>, _json={'created_at': 'Tue Jan 11 13:34:33 +0000 2022', 'id': 1480895911974739974, 'id_str': '1480895911974739974', 'full_text': '@Sydney_133 RCB winning Tata IPL 🤩🥳🥳💃💃', 'truncated': False, 'display_text_range': [12, 38], 'entities': {'hashtags': [], 'symbols': [], 'user_mentions': [{'screen_name': 'Sydney_133', 'name': 'PRAYU', 'id': 1387330953698103302, 'id_str': '1387330953698103302', 'indices': [0, 11]}], 'urls': []}, 'metadata': {'iso_language_code': 'en', 'result_type': 'recent'}, 'source': '<a href=\"http://twitter.com/download/android\" rel=\"nofollow\">Twitter for Android</a>', 'in_reply_to_status_id': 1480844816527200259, 'in_reply_to_status_id_str': '1480844816527200259', 'in_reply_to_user_id': 1387330953698103302, 'in_reply_to_user_id_str': '1387330953698103302', 'in_reply_to_screen_name': 'Sydney_133', 'user': {'id': 1295802677801021441, 'id_str': '1295802677801021441', 'name': '𝐑𝐚𝐯𝐢𝐢𝐢 🕺', 'screen_name': 'kukreja_ravii', 'location': 'Akola, India', 'description': 'Just Be Yourself , There is No one Better ...\\nVirat Kohli | Ms Dhoni | \\n\\n:- @kukrejaravii', 'url': 'https://t.co/diESUfntU5', 'entities': {'url': {'urls': [{'url': 'https://t.co/diESUfntU5', 'expanded_url': 'https://instagram.com/ravi__kukreja?utm_medium=copy_link', 'display_url': 'instagram.com/ravi__kukreja?…', 'indices': [0, 23]}]}, 'description': {'urls': []}}, 'protected': False, 'followers_count': 1549, 'friends_count': 869, 'listed_count': 2, 'created_at': 'Tue Aug 18 19:20:18 +0000 2020', 'favourites_count': 22301, 'utc_offset': None, 'time_zone': None, 'geo_enabled': False, 'verified': False, 'statuses_count': 58170, 'lang': None, 'contributors_enabled': False, 'is_translator': False, 'is_translation_enabled': False, 'profile_background_color': 'F5F8FA', 'profile_background_image_url': None, 'profile_background_image_url_https': None, 'profile_background_tile': False, 'profile_image_url': 'http://pbs.twimg.com/profile_images/1481131527555608584/RZEU-9R__normal.jpg', 'profile_image_url_https': 'https://pbs.twimg.com/profile_images/1481131527555608584/RZEU-9R__normal.jpg', 'profile_banner_url': 'https://pbs.twimg.com/profile_banners/1295802677801021441/1641146563', 'profile_link_color': '1DA1F2', 'profile_sidebar_border_color': 'C0DEED', 'profile_sidebar_fill_color': 'DDEEF6', 'profile_text_color': '333333', 'profile_use_background_image': True, 'has_extended_profile': True, 'default_profile': True, 'default_profile_image': False, 'following': False, 'follow_request_sent': False, 'notifications': False, 'translator_type': 'none', 'withheld_in_countries': []}, 'geo': None, 'coordinates': None, 'place': None, 'contributors': None, 'is_quote_status': False, 'retweet_count': 0, 'favorite_count': 1, 'favorited': False, 'retweeted': False, 'lang': 'en'}, created_at=datetime.datetime(2022, 1, 11, 13, 34, 33), id=1480895911974739974, id_str='1480895911974739974', full_text='@Sydney_133 RCB winning Tata IPL 🤩🥳🥳💃💃', truncated=False, display_text_range=[12, 38], entities={'hashtags': [], 'symbols': [], 'user_mentions': [{'screen_name': 'Sydney_133', 'name': 'PRAYU', 'id': 1387330953698103302, 'id_str': '1387330953698103302', 'indices': [0, 11]}], 'urls': []}, metadata={'iso_language_code': 'en', 'result_type': 'recent'}, source='Twitter for Android', source_url='http://twitter.com/download/android', in_reply_to_status_id=1480844816527200259, in_reply_to_status_id_str='1480844816527200259', in_reply_to_user_id=1387330953698103302, in_reply_to_user_id_str='1387330953698103302', in_reply_to_screen_name='Sydney_133', author=User(_api=<tweepy.api.API object at 0x7ff883ad9250>, _json={'id': 1295802677801021441, 'id_str': '1295802677801021441', 'name': '𝐑𝐚𝐯𝐢𝐢𝐢 🕺', 'screen_name': 'kukreja_ravii', 'location': 'Akola, India', 'description': 'Just Be Yourself , There is No one Better ...\\nVirat Kohli | Ms Dhoni | \\n\\n:- @kukrejaravii', 'url': 'https://t.co/diESUfntU5', 'entities': {'url': {'urls': [{'url': 'https://t.co/diESUfntU5', 'expanded_url': 'https://instagram.com/ravi__kukreja?utm_medium=copy_link', 'display_url': 'instagram.com/ravi__kukreja?…', 'indices': [0, 23]}]}, 'description': {'urls': []}}, 'protected': False, 'followers_count': 1549, 'friends_count': 869, 'listed_count': 2, 'created_at': 'Tue Aug 18 19:20:18 +0000 2020', 'favourites_count': 22301, 'utc_offset': None, 'time_zone': None, 'geo_enabled': False, 'verified': False, 'statuses_count': 58170, 'lang': None, 'contributors_enabled': False, 'is_translator': False, 'is_translation_enabled': False, 'profile_background_color': 'F5F8FA', 'profile_background_image_url': None, 'profile_background_image_url_https': None, 'profile_background_tile': False, 'profile_image_url': 'http://pbs.twimg.com/profile_images/1481131527555608584/RZEU-9R__normal.jpg', 'profile_image_url_https': 'https://pbs.twimg.com/profile_images/1481131527555608584/RZEU-9R__normal.jpg', 'profile_banner_url': 'https://pbs.twimg.com/profile_banners/1295802677801021441/1641146563', 'profile_link_color': '1DA1F2', 'profile_sidebar_border_color': 'C0DEED', 'profile_sidebar_fill_color': 'DDEEF6', 'profile_text_color': '333333', 'profile_use_background_image': True, 'has_extended_profile': True, 'default_profile': True, 'default_profile_image': False, 'following': False, 'follow_request_sent': False, 'notifications': False, 'translator_type': 'none', 'withheld_in_countries': []}, id=1295802677801021441, id_str='1295802677801021441', name='𝐑𝐚𝐯𝐢𝐢𝐢 🕺', screen_name='kukreja_ravii', location='Akola, India', description='Just Be Yourself , There is No one Better ...\\nVirat Kohli | Ms Dhoni | \\n\\n:- @kukrejaravii', url='https://t.co/diESUfntU5', entities={'url': {'urls': [{'url': 'https://t.co/diESUfntU5', 'expanded_url': 'https://instagram.com/ravi__kukreja?utm_medium=copy_link', 'display_url': 'instagram.com/ravi__kukreja?…', 'indices': [0, 23]}]}, 'description': {'urls': []}}, protected=False, followers_count=1549, friends_count=869, listed_count=2, created_at=datetime.datetime(2020, 8, 18, 19, 20, 18), favourites_count=22301, utc_offset=None, time_zone=None, geo_enabled=False, verified=False, statuses_count=58170, lang=None, contributors_enabled=False, is_translator=False, is_translation_enabled=False, profile_background_color='F5F8FA', profile_background_image_url=None, profile_background_image_url_https=None, profile_background_tile=False, profile_image_url='http://pbs.twimg.com/profile_images/1481131527555608584/RZEU-9R__normal.jpg', profile_image_url_https='https://pbs.twimg.com/profile_images/1481131527555608584/RZEU-9R__normal.jpg', profile_banner_url='https://pbs.twimg.com/profile_banners/1295802677801021441/1641146563', profile_link_color='1DA1F2', profile_sidebar_border_color='C0DEED', profile_sidebar_fill_color='DDEEF6', profile_text_color='333333', profile_use_background_image=True, has_extended_profile=True, default_profile=True, default_profile_image=False, following=False, follow_request_sent=False, notifications=False, translator_type='none', withheld_in_countries=[]), user=User(_api=<tweepy.api.API object at 0x7ff883ad9250>, _json={'id': 1295802677801021441, 'id_str': '1295802677801021441', 'name': '𝐑𝐚𝐯𝐢𝐢𝐢 🕺', 'screen_name': 'kukreja_ravii', 'location': 'Akola, India', 'description': 'Just Be Yourself , There is No one Better ...\\nVirat Kohli | Ms Dhoni | \\n\\n:- @kukrejaravii', 'url': 'https://t.co/diESUfntU5', 'entities': {'url': {'urls': [{'url': 'https://t.co/diESUfntU5', 'expanded_url': 'https://instagram.com/ravi__kukreja?utm_medium=copy_link', 'display_url': 'instagram.com/ravi__kukreja?…', 'indices': [0, 23]}]}, 'description': {'urls': []}}, 'protected': False, 'followers_count': 1549, 'friends_count': 869, 'listed_count': 2, 'created_at': 'Tue Aug 18 19:20:18 +0000 2020', 'favourites_count': 22301, 'utc_offset': None, 'time_zone': None, 'geo_enabled': False, 'verified': False, 'statuses_count': 58170, 'lang': None, 'contributors_enabled': False, 'is_translator': False, 'is_translation_enabled': False, 'profile_background_color': 'F5F8FA', 'profile_background_image_url': None, 'profile_background_image_url_https': None, 'profile_background_tile': False, 'profile_image_url': 'http://pbs.twimg.com/profile_images/1481131527555608584/RZEU-9R__normal.jpg', 'profile_image_url_https': 'https://pbs.twimg.com/profile_images/1481131527555608584/RZEU-9R__normal.jpg', 'profile_banner_url': 'https://pbs.twimg.com/profile_banners/1295802677801021441/1641146563', 'profile_link_color': '1DA1F2', 'profile_sidebar_border_color': 'C0DEED', 'profile_sidebar_fill_color': 'DDEEF6', 'profile_text_color': '333333', 'profile_use_background_image': True, 'has_extended_profile': True, 'default_profile': True, 'default_profile_image': False, 'following': False, 'follow_request_sent': False, 'notifications': False, 'translator_type': 'none', 'withheld_in_countries': []}, id=1295802677801021441, id_str='1295802677801021441', name='𝐑𝐚𝐯𝐢𝐢𝐢 🕺', screen_name='kukreja_ravii', location='Akola, India', description='Just Be Yourself , There is No one Better ...\\nVirat Kohli | Ms Dhoni | \\n\\n:- @kukrejaravii', url='https://t.co/diESUfntU5', entities={'url': {'urls': [{'url': 'https://t.co/diESUfntU5', 'expanded_url': 'https://instagram.com/ravi__kukreja?utm_medium=copy_link', 'display_url': 'instagram.com/ravi__kukreja?…', 'indices': [0, 23]}]}, 'description': {'urls': []}}, protected=False, followers_count=1549, friends_count=869, listed_count=2, created_at=datetime.datetime(2020, 8, 18, 19, 20, 18), favourites_count=22301, utc_offset=None, time_zone=None, geo_enabled=False, verified=False, statuses_count=58170, lang=None, contributors_enabled=False, is_translator=False, is_translation_enabled=False, profile_background_color='F5F8FA', profile_background_image_url=None, profile_background_image_url_https=None, profile_background_tile=False, profile_image_url='http://pbs.twimg.com/profile_images/1481131527555608584/RZEU-9R__normal.jpg', profile_image_url_https='https://pbs.twimg.com/profile_images/1481131527555608584/RZEU-9R__normal.jpg', profile_banner_url='https://pbs.twimg.com/profile_banners/1295802677801021441/1641146563', profile_link_color='1DA1F2', profile_sidebar_border_color='C0DEED', profile_sidebar_fill_color='DDEEF6', profile_text_color='333333', profile_use_background_image=True, has_extended_profile=True, default_profile=True, default_profile_image=False, following=False, follow_request_sent=False, notifications=False, translator_type='none', withheld_in_countries=[]), geo=None, coordinates=None, place=None, contributors=None, is_quote_status=False, retweet_count=0, favorite_count=1, favorited=False, retweeted=False, lang='en') \n",
            "\n",
            ".....................................\n",
            "\n",
            "Status(_api=<tweepy.api.API object at 0x7ff883ad9250>, _json={'created_at': 'Tue Jan 11 11:07:51 +0000 2022', 'id': 1480858993685712896, 'id_str': '1480858993685712896', 'full_text': 'RCB not winning these TATA IPL either.😭😭😭', 'truncated': False, 'display_text_range': [0, 41], 'entities': {'hashtags': [], 'symbols': [], 'user_mentions': [], 'urls': []}, 'metadata': {'iso_language_code': 'en', 'result_type': 'recent'}, 'source': '<a href=\"https://mobile.twitter.com\" rel=\"nofollow\">Twitter Web App</a>', 'in_reply_to_status_id': None, 'in_reply_to_status_id_str': None, 'in_reply_to_user_id': None, 'in_reply_to_user_id_str': None, 'in_reply_to_screen_name': None, 'user': {'id': 2717010876, 'id_str': '2717010876', 'name': 'Suyog Khanal', 'screen_name': 'khanalsuyog1', 'location': 'Nepal', 'description': '', 'url': 'https://t.co/PzC3M9d3J9', 'entities': {'url': {'urls': [{'url': 'https://t.co/PzC3M9d3J9', 'expanded_url': 'http://suyogkhanal-portfolio.herokuapp.com', 'display_url': 'suyogkhanal-portfolio.herokuapp.com', 'indices': [0, 23]}]}, 'description': {'urls': []}}, 'protected': False, 'followers_count': 26, 'friends_count': 314, 'listed_count': 0, 'created_at': 'Fri Aug 08 12:43:52 +0000 2014', 'favourites_count': 1987, 'utc_offset': None, 'time_zone': None, 'geo_enabled': True, 'verified': False, 'statuses_count': 71, 'lang': None, 'contributors_enabled': False, 'is_translator': False, 'is_translation_enabled': False, 'profile_background_color': '000000', 'profile_background_image_url': 'http://abs.twimg.com/images/themes/theme1/bg.png', 'profile_background_image_url_https': 'https://abs.twimg.com/images/themes/theme1/bg.png', 'profile_background_tile': False, 'profile_image_url': 'http://pbs.twimg.com/profile_images/1305152873328599042/t8MJXpWw_normal.jpg', 'profile_image_url_https': 'https://pbs.twimg.com/profile_images/1305152873328599042/t8MJXpWw_normal.jpg', 'profile_banner_url': 'https://pbs.twimg.com/profile_banners/2717010876/1553825343', 'profile_link_color': '00D9FF', 'profile_sidebar_border_color': '000000', 'profile_sidebar_fill_color': '000000', 'profile_text_color': '000000', 'profile_use_background_image': False, 'has_extended_profile': True, 'default_profile': False, 'default_profile_image': False, 'following': False, 'follow_request_sent': False, 'notifications': False, 'translator_type': 'none', 'withheld_in_countries': []}, 'geo': None, 'coordinates': None, 'place': None, 'contributors': None, 'is_quote_status': False, 'retweet_count': 0, 'favorite_count': 1, 'favorited': False, 'retweeted': False, 'lang': 'en'}, created_at=datetime.datetime(2022, 1, 11, 11, 7, 51), id=1480858993685712896, id_str='1480858993685712896', full_text='RCB not winning these TATA IPL either.😭😭😭', truncated=False, display_text_range=[0, 41], entities={'hashtags': [], 'symbols': [], 'user_mentions': [], 'urls': []}, metadata={'iso_language_code': 'en', 'result_type': 'recent'}, source='Twitter Web App', source_url='https://mobile.twitter.com', in_reply_to_status_id=None, in_reply_to_status_id_str=None, in_reply_to_user_id=None, in_reply_to_user_id_str=None, in_reply_to_screen_name=None, author=User(_api=<tweepy.api.API object at 0x7ff883ad9250>, _json={'id': 2717010876, 'id_str': '2717010876', 'name': 'Suyog Khanal', 'screen_name': 'khanalsuyog1', 'location': 'Nepal', 'description': '', 'url': 'https://t.co/PzC3M9d3J9', 'entities': {'url': {'urls': [{'url': 'https://t.co/PzC3M9d3J9', 'expanded_url': 'http://suyogkhanal-portfolio.herokuapp.com', 'display_url': 'suyogkhanal-portfolio.herokuapp.com', 'indices': [0, 23]}]}, 'description': {'urls': []}}, 'protected': False, 'followers_count': 26, 'friends_count': 314, 'listed_count': 0, 'created_at': 'Fri Aug 08 12:43:52 +0000 2014', 'favourites_count': 1987, 'utc_offset': None, 'time_zone': None, 'geo_enabled': True, 'verified': False, 'statuses_count': 71, 'lang': None, 'contributors_enabled': False, 'is_translator': False, 'is_translation_enabled': False, 'profile_background_color': '000000', 'profile_background_image_url': 'http://abs.twimg.com/images/themes/theme1/bg.png', 'profile_background_image_url_https': 'https://abs.twimg.com/images/themes/theme1/bg.png', 'profile_background_tile': False, 'profile_image_url': 'http://pbs.twimg.com/profile_images/1305152873328599042/t8MJXpWw_normal.jpg', 'profile_image_url_https': 'https://pbs.twimg.com/profile_images/1305152873328599042/t8MJXpWw_normal.jpg', 'profile_banner_url': 'https://pbs.twimg.com/profile_banners/2717010876/1553825343', 'profile_link_color': '00D9FF', 'profile_sidebar_border_color': '000000', 'profile_sidebar_fill_color': '000000', 'profile_text_color': '000000', 'profile_use_background_image': False, 'has_extended_profile': True, 'default_profile': False, 'default_profile_image': False, 'following': False, 'follow_request_sent': False, 'notifications': False, 'translator_type': 'none', 'withheld_in_countries': []}, id=2717010876, id_str='2717010876', name='Suyog Khanal', screen_name='khanalsuyog1', location='Nepal', description='', url='https://t.co/PzC3M9d3J9', entities={'url': {'urls': [{'url': 'https://t.co/PzC3M9d3J9', 'expanded_url': 'http://suyogkhanal-portfolio.herokuapp.com', 'display_url': 'suyogkhanal-portfolio.herokuapp.com', 'indices': [0, 23]}]}, 'description': {'urls': []}}, protected=False, followers_count=26, friends_count=314, listed_count=0, created_at=datetime.datetime(2014, 8, 8, 12, 43, 52), favourites_count=1987, utc_offset=None, time_zone=None, geo_enabled=True, verified=False, statuses_count=71, lang=None, contributors_enabled=False, is_translator=False, is_translation_enabled=False, profile_background_color='000000', profile_background_image_url='http://abs.twimg.com/images/themes/theme1/bg.png', profile_background_image_url_https='https://abs.twimg.com/images/themes/theme1/bg.png', profile_background_tile=False, profile_image_url='http://pbs.twimg.com/profile_images/1305152873328599042/t8MJXpWw_normal.jpg', profile_image_url_https='https://pbs.twimg.com/profile_images/1305152873328599042/t8MJXpWw_normal.jpg', profile_banner_url='https://pbs.twimg.com/profile_banners/2717010876/1553825343', profile_link_color='00D9FF', profile_sidebar_border_color='000000', profile_sidebar_fill_color='000000', profile_text_color='000000', profile_use_background_image=False, has_extended_profile=True, default_profile=False, default_profile_image=False, following=False, follow_request_sent=False, notifications=False, translator_type='none', withheld_in_countries=[]), user=User(_api=<tweepy.api.API object at 0x7ff883ad9250>, _json={'id': 2717010876, 'id_str': '2717010876', 'name': 'Suyog Khanal', 'screen_name': 'khanalsuyog1', 'location': 'Nepal', 'description': '', 'url': 'https://t.co/PzC3M9d3J9', 'entities': {'url': {'urls': [{'url': 'https://t.co/PzC3M9d3J9', 'expanded_url': 'http://suyogkhanal-portfolio.herokuapp.com', 'display_url': 'suyogkhanal-portfolio.herokuapp.com', 'indices': [0, 23]}]}, 'description': {'urls': []}}, 'protected': False, 'followers_count': 26, 'friends_count': 314, 'listed_count': 0, 'created_at': 'Fri Aug 08 12:43:52 +0000 2014', 'favourites_count': 1987, 'utc_offset': None, 'time_zone': None, 'geo_enabled': True, 'verified': False, 'statuses_count': 71, 'lang': None, 'contributors_enabled': False, 'is_translator': False, 'is_translation_enabled': False, 'profile_background_color': '000000', 'profile_background_image_url': 'http://abs.twimg.com/images/themes/theme1/bg.png', 'profile_background_image_url_https': 'https://abs.twimg.com/images/themes/theme1/bg.png', 'profile_background_tile': False, 'profile_image_url': 'http://pbs.twimg.com/profile_images/1305152873328599042/t8MJXpWw_normal.jpg', 'profile_image_url_https': 'https://pbs.twimg.com/profile_images/1305152873328599042/t8MJXpWw_normal.jpg', 'profile_banner_url': 'https://pbs.twimg.com/profile_banners/2717010876/1553825343', 'profile_link_color': '00D9FF', 'profile_sidebar_border_color': '000000', 'profile_sidebar_fill_color': '000000', 'profile_text_color': '000000', 'profile_use_background_image': False, 'has_extended_profile': True, 'default_profile': False, 'default_profile_image': False, 'following': False, 'follow_request_sent': False, 'notifications': False, 'translator_type': 'none', 'withheld_in_countries': []}, id=2717010876, id_str='2717010876', name='Suyog Khanal', screen_name='khanalsuyog1', location='Nepal', description='', url='https://t.co/PzC3M9d3J9', entities={'url': {'urls': [{'url': 'https://t.co/PzC3M9d3J9', 'expanded_url': 'http://suyogkhanal-portfolio.herokuapp.com', 'display_url': 'suyogkhanal-portfolio.herokuapp.com', 'indices': [0, 23]}]}, 'description': {'urls': []}}, protected=False, followers_count=26, friends_count=314, listed_count=0, created_at=datetime.datetime(2014, 8, 8, 12, 43, 52), favourites_count=1987, utc_offset=None, time_zone=None, geo_enabled=True, verified=False, statuses_count=71, lang=None, contributors_enabled=False, is_translator=False, is_translation_enabled=False, profile_background_color='000000', profile_background_image_url='http://abs.twimg.com/images/themes/theme1/bg.png', profile_background_image_url_https='https://abs.twimg.com/images/themes/theme1/bg.png', profile_background_tile=False, profile_image_url='http://pbs.twimg.com/profile_images/1305152873328599042/t8MJXpWw_normal.jpg', profile_image_url_https='https://pbs.twimg.com/profile_images/1305152873328599042/t8MJXpWw_normal.jpg', profile_banner_url='https://pbs.twimg.com/profile_banners/2717010876/1553825343', profile_link_color='00D9FF', profile_sidebar_border_color='000000', profile_sidebar_fill_color='000000', profile_text_color='000000', profile_use_background_image=False, has_extended_profile=True, default_profile=False, default_profile_image=False, following=False, follow_request_sent=False, notifications=False, translator_type='none', withheld_in_countries=[]), geo=None, coordinates=None, place=None, contributors=None, is_quote_status=False, retweet_count=0, favorite_count=1, favorited=False, retweeted=False, lang='en') \n",
            "\n",
            ".....................................\n",
            "\n",
            "Status(_api=<tweepy.api.API object at 0x7ff883ad9250>, _json={'created_at': 'Mon Jan 10 16:53:33 +0000 2022', 'id': 1480583600915369985, 'id_str': '1480583600915369985', 'full_text': '@ntweet_55 @jsharmasays @KShriniwasRao Not necessarily... RCB has a great brand value despite never winning IPL, MI had biggest brand value even before they were champions.\\nPandya is definitely no where close to sachin or virat in terms of brand but the brand value of team is not entirely dependent on performance.', 'truncated': False, 'display_text_range': [39, 315], 'entities': {'hashtags': [], 'symbols': [], 'user_mentions': [{'screen_name': 'ntweet_55', 'name': 'naq5', 'id': 102093143, 'id_str': '102093143', 'indices': [0, 10]}, {'screen_name': 'jsharmasays', 'name': 'Jay Sharma 🏹', 'id': 428563243, 'id_str': '428563243', 'indices': [11, 23]}, {'screen_name': 'KShriniwasRao', 'name': 'KSR', 'id': 567281561, 'id_str': '567281561', 'indices': [24, 38]}], 'urls': []}, 'metadata': {'iso_language_code': 'en', 'result_type': 'recent'}, 'source': '<a href=\"http://twitter.com/download/android\" rel=\"nofollow\">Twitter for Android</a>', 'in_reply_to_status_id': 1480577609025167369, 'in_reply_to_status_id_str': '1480577609025167369', 'in_reply_to_user_id': 102093143, 'in_reply_to_user_id_str': '102093143', 'in_reply_to_screen_name': 'ntweet_55', 'user': {'id': 874288703820247041, 'id_str': '874288703820247041', 'name': 'Dilip Thakur', 'screen_name': 'dilip__tweets', 'location': 'Bengaluru, India', 'description': 'Engineer ↔️ Sports ↔️ Tech Enthusiast', 'url': None, 'entities': {'description': {'urls': []}}, 'protected': False, 'followers_count': 13, 'friends_count': 54, 'listed_count': 0, 'created_at': 'Mon Jun 12 15:34:05 +0000 2017', 'favourites_count': 50, 'utc_offset': None, 'time_zone': None, 'geo_enabled': False, 'verified': False, 'statuses_count': 1026, 'lang': None, 'contributors_enabled': False, 'is_translator': False, 'is_translation_enabled': False, 'profile_background_color': 'F5F8FA', 'profile_background_image_url': None, 'profile_background_image_url_https': None, 'profile_background_tile': False, 'profile_image_url': 'http://pbs.twimg.com/profile_images/1460194861642969097/TkrJMJam_normal.jpg', 'profile_image_url_https': 'https://pbs.twimg.com/profile_images/1460194861642969097/TkrJMJam_normal.jpg', 'profile_banner_url': 'https://pbs.twimg.com/profile_banners/874288703820247041/1560462998', 'profile_link_color': '1DA1F2', 'profile_sidebar_border_color': 'C0DEED', 'profile_sidebar_fill_color': 'DDEEF6', 'profile_text_color': '333333', 'profile_use_background_image': True, 'has_extended_profile': False, 'default_profile': True, 'default_profile_image': False, 'following': False, 'follow_request_sent': False, 'notifications': False, 'translator_type': 'none', 'withheld_in_countries': []}, 'geo': None, 'coordinates': None, 'place': None, 'contributors': None, 'is_quote_status': False, 'retweet_count': 0, 'favorite_count': 1, 'favorited': False, 'retweeted': False, 'lang': 'en'}, created_at=datetime.datetime(2022, 1, 10, 16, 53, 33), id=1480583600915369985, id_str='1480583600915369985', full_text='@ntweet_55 @jsharmasays @KShriniwasRao Not necessarily... RCB has a great brand value despite never winning IPL, MI had biggest brand value even before they were champions.\\nPandya is definitely no where close to sachin or virat in terms of brand but the brand value of team is not entirely dependent on performance.', truncated=False, display_text_range=[39, 315], entities={'hashtags': [], 'symbols': [], 'user_mentions': [{'screen_name': 'ntweet_55', 'name': 'naq5', 'id': 102093143, 'id_str': '102093143', 'indices': [0, 10]}, {'screen_name': 'jsharmasays', 'name': 'Jay Sharma 🏹', 'id': 428563243, 'id_str': '428563243', 'indices': [11, 23]}, {'screen_name': 'KShriniwasRao', 'name': 'KSR', 'id': 567281561, 'id_str': '567281561', 'indices': [24, 38]}], 'urls': []}, metadata={'iso_language_code': 'en', 'result_type': 'recent'}, source='Twitter for Android', source_url='http://twitter.com/download/android', in_reply_to_status_id=1480577609025167369, in_reply_to_status_id_str='1480577609025167369', in_reply_to_user_id=102093143, in_reply_to_user_id_str='102093143', in_reply_to_screen_name='ntweet_55', author=User(_api=<tweepy.api.API object at 0x7ff883ad9250>, _json={'id': 874288703820247041, 'id_str': '874288703820247041', 'name': 'Dilip Thakur', 'screen_name': 'dilip__tweets', 'location': 'Bengaluru, India', 'description': 'Engineer ↔️ Sports ↔️ Tech Enthusiast', 'url': None, 'entities': {'description': {'urls': []}}, 'protected': False, 'followers_count': 13, 'friends_count': 54, 'listed_count': 0, 'created_at': 'Mon Jun 12 15:34:05 +0000 2017', 'favourites_count': 50, 'utc_offset': None, 'time_zone': None, 'geo_enabled': False, 'verified': False, 'statuses_count': 1026, 'lang': None, 'contributors_enabled': False, 'is_translator': False, 'is_translation_enabled': False, 'profile_background_color': 'F5F8FA', 'profile_background_image_url': None, 'profile_background_image_url_https': None, 'profile_background_tile': False, 'profile_image_url': 'http://pbs.twimg.com/profile_images/1460194861642969097/TkrJMJam_normal.jpg', 'profile_image_url_https': 'https://pbs.twimg.com/profile_images/1460194861642969097/TkrJMJam_normal.jpg', 'profile_banner_url': 'https://pbs.twimg.com/profile_banners/874288703820247041/1560462998', 'profile_link_color': '1DA1F2', 'profile_sidebar_border_color': 'C0DEED', 'profile_sidebar_fill_color': 'DDEEF6', 'profile_text_color': '333333', 'profile_use_background_image': True, 'has_extended_profile': False, 'default_profile': True, 'default_profile_image': False, 'following': False, 'follow_request_sent': False, 'notifications': False, 'translator_type': 'none', 'withheld_in_countries': []}, id=874288703820247041, id_str='874288703820247041', name='Dilip Thakur', screen_name='dilip__tweets', location='Bengaluru, India', description='Engineer ↔️ Sports ↔️ Tech Enthusiast', url=None, entities={'description': {'urls': []}}, protected=False, followers_count=13, friends_count=54, listed_count=0, created_at=datetime.datetime(2017, 6, 12, 15, 34, 5), favourites_count=50, utc_offset=None, time_zone=None, geo_enabled=False, verified=False, statuses_count=1026, lang=None, contributors_enabled=False, is_translator=False, is_translation_enabled=False, profile_background_color='F5F8FA', profile_background_image_url=None, profile_background_image_url_https=None, profile_background_tile=False, profile_image_url='http://pbs.twimg.com/profile_images/1460194861642969097/TkrJMJam_normal.jpg', profile_image_url_https='https://pbs.twimg.com/profile_images/1460194861642969097/TkrJMJam_normal.jpg', profile_banner_url='https://pbs.twimg.com/profile_banners/874288703820247041/1560462998', profile_link_color='1DA1F2', profile_sidebar_border_color='C0DEED', profile_sidebar_fill_color='DDEEF6', profile_text_color='333333', profile_use_background_image=True, has_extended_profile=False, default_profile=True, default_profile_image=False, following=False, follow_request_sent=False, notifications=False, translator_type='none', withheld_in_countries=[]), user=User(_api=<tweepy.api.API object at 0x7ff883ad9250>, _json={'id': 874288703820247041, 'id_str': '874288703820247041', 'name': 'Dilip Thakur', 'screen_name': 'dilip__tweets', 'location': 'Bengaluru, India', 'description': 'Engineer ↔️ Sports ↔️ Tech Enthusiast', 'url': None, 'entities': {'description': {'urls': []}}, 'protected': False, 'followers_count': 13, 'friends_count': 54, 'listed_count': 0, 'created_at': 'Mon Jun 12 15:34:05 +0000 2017', 'favourites_count': 50, 'utc_offset': None, 'time_zone': None, 'geo_enabled': False, 'verified': False, 'statuses_count': 1026, 'lang': None, 'contributors_enabled': False, 'is_translator': False, 'is_translation_enabled': False, 'profile_background_color': 'F5F8FA', 'profile_background_image_url': None, 'profile_background_image_url_https': None, 'profile_background_tile': False, 'profile_image_url': 'http://pbs.twimg.com/profile_images/1460194861642969097/TkrJMJam_normal.jpg', 'profile_image_url_https': 'https://pbs.twimg.com/profile_images/1460194861642969097/TkrJMJam_normal.jpg', 'profile_banner_url': 'https://pbs.twimg.com/profile_banners/874288703820247041/1560462998', 'profile_link_color': '1DA1F2', 'profile_sidebar_border_color': 'C0DEED', 'profile_sidebar_fill_color': 'DDEEF6', 'profile_text_color': '333333', 'profile_use_background_image': True, 'has_extended_profile': False, 'default_profile': True, 'default_profile_image': False, 'following': False, 'follow_request_sent': False, 'notifications': False, 'translator_type': 'none', 'withheld_in_countries': []}, id=874288703820247041, id_str='874288703820247041', name='Dilip Thakur', screen_name='dilip__tweets', location='Bengaluru, India', description='Engineer ↔️ Sports ↔️ Tech Enthusiast', url=None, entities={'description': {'urls': []}}, protected=False, followers_count=13, friends_count=54, listed_count=0, created_at=datetime.datetime(2017, 6, 12, 15, 34, 5), favourites_count=50, utc_offset=None, time_zone=None, geo_enabled=False, verified=False, statuses_count=1026, lang=None, contributors_enabled=False, is_translator=False, is_translation_enabled=False, profile_background_color='F5F8FA', profile_background_image_url=None, profile_background_image_url_https=None, profile_background_tile=False, profile_image_url='http://pbs.twimg.com/profile_images/1460194861642969097/TkrJMJam_normal.jpg', profile_image_url_https='https://pbs.twimg.com/profile_images/1460194861642969097/TkrJMJam_normal.jpg', profile_banner_url='https://pbs.twimg.com/profile_banners/874288703820247041/1560462998', profile_link_color='1DA1F2', profile_sidebar_border_color='C0DEED', profile_sidebar_fill_color='DDEEF6', profile_text_color='333333', profile_use_background_image=True, has_extended_profile=False, default_profile=True, default_profile_image=False, following=False, follow_request_sent=False, notifications=False, translator_type='none', withheld_in_countries=[]), geo=None, coordinates=None, place=None, contributors=None, is_quote_status=False, retweet_count=0, favorite_count=1, favorited=False, retweeted=False, lang='en') \n",
            "\n",
            ".....................................\n",
            "\n"
          ]
        }
      ],
      "source": [
        "Tweets = api.search( query , count=10 , lang='en' , exclude='retweets' , tweet_mode='extended' )\n",
        "# tweet_mode='extended'\n",
        "# tweet_mode='compat'\n",
        "\n",
        "for tweet in Tweets:\n",
        "    print(tweet,\"\\n\")\n",
        "    print(\".....................................\\n\")"
      ]
    },
    {
      "cell_type": "raw",
      "metadata": {
        "id": "2K3KDDvk91k1"
      },
      "source": [
        "Get the tweets and some Attributes"
      ]
    },
    {
      "cell_type": "code",
      "execution_count": 6,
      "metadata": {
        "colab": {
          "base_uri": "https://localhost:8080/"
        },
        "id": "K1X-dNy-91k2",
        "outputId": "1faa601b-1459-4206-efbc-52b0a24dacd9"
      },
      "outputs": [
        {
          "output_type": "stream",
          "name": "stdout",
          "text": [
            "Empty DataFrame\n",
            "Columns: [Tweets, User, User_statuses_count, user_followers, User_location, User_verified, fav_count, rt_count, tweet_date]\n",
            "Index: []\n"
          ]
        }
      ],
      "source": [
        "df = pd.DataFrame(columns = ['Tweets' , 'User' , 'User_statuses_count' , \n",
        "                            'user_followers' , 'User_location' , 'User_verified' ,\n",
        "                            'fav_count' , 'rt_count' , 'tweet_date'] )\n",
        "print(df)\n",
        "# print(df.shape)"
      ]
    },
    {
      "cell_type": "code",
      "execution_count": 7,
      "metadata": {
        "id": "2HeAk9HS91k3"
      },
      "outputs": [],
      "source": [
        "def stream(data, file_name):\n",
        "    i = 0\n",
        "    for tweet in tweepy.Cursor(api.search, q=data, count=100, lang='en').items():\n",
        "        print(i, end='\\r')\n",
        "        df.loc[i, 'Tweets'] = tweet.text\n",
        "        df.loc[i, 'User'] = tweet.user.name\n",
        "        df.loc[i, 'User_statuses_count'] = tweet.user.statuses_count\n",
        "        df.loc[i, 'user_followers'] = tweet.user.followers_count\n",
        "        df.loc[i, 'User_location'] = tweet.user.location\n",
        "        df.loc[i, 'User_verified'] = tweet.user.verified\n",
        "        df.loc[i, 'fav_count'] = tweet.favorite_count\n",
        "        df.loc[i, 'rt_count'] = tweet.retweet_count\n",
        "        df.loc[i, 'tweet_date'] = tweet.created_at\n",
        "        df.to_excel('{}.xlsx'.format(file_name))\n",
        "        i = i+1\n",
        "        if i == 1000:\n",
        "            break\n",
        "        else:\n",
        "            pass"
      ]
    },
    {
      "cell_type": "code",
      "execution_count": 8,
      "metadata": {
        "colab": {
          "base_uri": "https://localhost:8080/"
        },
        "id": "0wsbpZXi91k3",
        "outputId": "363efd69-c65b-4c08-b8da-aa579165d7b2"
      },
      "outputs": [
        {
          "output_type": "stream",
          "name": "stdout",
          "text": [
            ""
          ]
        }
      ],
      "source": [
        "stream(data=[\"RCB winning IPL\"] , file_name='my_tweets')"
      ]
    },
    {
      "cell_type": "code",
      "execution_count": 9,
      "metadata": {
        "colab": {
          "base_uri": "https://localhost:8080/",
          "height": 496
        },
        "id": "CuF6I87H91k4",
        "outputId": "8cedde2b-6fe2-479a-f90c-13865cacfdd9"
      },
      "outputs": [
        {
          "output_type": "execute_result",
          "data": {
            "text/html": [
              "\n",
              "  <div id=\"df-c489e03d-6c73-415c-ad88-14a8aaacf7f4\">\n",
              "    <div class=\"colab-df-container\">\n",
              "      <div>\n",
              "<style scoped>\n",
              "    .dataframe tbody tr th:only-of-type {\n",
              "        vertical-align: middle;\n",
              "    }\n",
              "\n",
              "    .dataframe tbody tr th {\n",
              "        vertical-align: top;\n",
              "    }\n",
              "\n",
              "    .dataframe thead th {\n",
              "        text-align: right;\n",
              "    }\n",
              "</style>\n",
              "<table border=\"1\" class=\"dataframe\">\n",
              "  <thead>\n",
              "    <tr style=\"text-align: right;\">\n",
              "      <th></th>\n",
              "      <th>Tweets</th>\n",
              "      <th>User</th>\n",
              "      <th>User_statuses_count</th>\n",
              "      <th>user_followers</th>\n",
              "      <th>User_location</th>\n",
              "      <th>User_verified</th>\n",
              "      <th>fav_count</th>\n",
              "      <th>rt_count</th>\n",
              "      <th>tweet_date</th>\n",
              "    </tr>\n",
              "  </thead>\n",
              "  <tbody>\n",
              "    <tr>\n",
              "      <th>0</th>\n",
              "      <td>@Newlands_79 @SunRisers Having an IPL Cup on t...</td>\n",
              "      <td>Yagnik vicky</td>\n",
              "      <td>155</td>\n",
              "      <td>8</td>\n",
              "      <td></td>\n",
              "      <td>False</td>\n",
              "      <td>0</td>\n",
              "      <td>0</td>\n",
              "      <td>2022-01-12 16:23:48</td>\n",
              "    </tr>\n",
              "    <tr>\n",
              "      <th>1</th>\n",
              "      <td>@msd_ntr79 RCB is cursed bcoz of Vijay Maliya ...</td>\n",
              "      <td>Rajesh</td>\n",
              "      <td>12744</td>\n",
              "      <td>223</td>\n",
              "      <td></td>\n",
              "      <td>False</td>\n",
              "      <td>0</td>\n",
              "      <td>1</td>\n",
              "      <td>2022-01-12 10:57:05</td>\n",
              "    </tr>\n",
              "    <tr>\n",
              "      <th>2</th>\n",
              "      <td>RT @teamsaver: @mufaddal_vohra Ratio. RCB winn...</td>\n",
              "      <td>Gagandeep M</td>\n",
              "      <td>48111</td>\n",
              "      <td>82</td>\n",
              "      <td>Karnataka, India</td>\n",
              "      <td>False</td>\n",
              "      <td>0</td>\n",
              "      <td>1</td>\n",
              "      <td>2022-01-12 09:24:03</td>\n",
              "    </tr>\n",
              "    <tr>\n",
              "      <th>3</th>\n",
              "      <td>RT @crictallkk: Imagine RCB winning TATA IPL 2...</td>\n",
              "      <td>Subhash</td>\n",
              "      <td>861</td>\n",
              "      <td>2</td>\n",
              "      <td></td>\n",
              "      <td>False</td>\n",
              "      <td>0</td>\n",
              "      <td>1</td>\n",
              "      <td>2022-01-12 08:16:17</td>\n",
              "    </tr>\n",
              "    <tr>\n",
              "      <th>4</th>\n",
              "      <td>Imagine RCB winning TATA IPL 2022 ✨\\n\\n#IPLAuc...</td>\n",
              "      <td>Alfred</td>\n",
              "      <td>2820</td>\n",
              "      <td>45</td>\n",
              "      <td>Bird App</td>\n",
              "      <td>False</td>\n",
              "      <td>3</td>\n",
              "      <td>1</td>\n",
              "      <td>2022-01-12 08:02:12</td>\n",
              "    </tr>\n",
              "  </tbody>\n",
              "</table>\n",
              "</div>\n",
              "      <button class=\"colab-df-convert\" onclick=\"convertToInteractive('df-c489e03d-6c73-415c-ad88-14a8aaacf7f4')\"\n",
              "              title=\"Convert this dataframe to an interactive table.\"\n",
              "              style=\"display:none;\">\n",
              "        \n",
              "  <svg xmlns=\"http://www.w3.org/2000/svg\" height=\"24px\"viewBox=\"0 0 24 24\"\n",
              "       width=\"24px\">\n",
              "    <path d=\"M0 0h24v24H0V0z\" fill=\"none\"/>\n",
              "    <path d=\"M18.56 5.44l.94 2.06.94-2.06 2.06-.94-2.06-.94-.94-2.06-.94 2.06-2.06.94zm-11 1L8.5 8.5l.94-2.06 2.06-.94-2.06-.94L8.5 2.5l-.94 2.06-2.06.94zm10 10l.94 2.06.94-2.06 2.06-.94-2.06-.94-.94-2.06-.94 2.06-2.06.94z\"/><path d=\"M17.41 7.96l-1.37-1.37c-.4-.4-.92-.59-1.43-.59-.52 0-1.04.2-1.43.59L10.3 9.45l-7.72 7.72c-.78.78-.78 2.05 0 2.83L4 21.41c.39.39.9.59 1.41.59.51 0 1.02-.2 1.41-.59l7.78-7.78 2.81-2.81c.8-.78.8-2.07 0-2.86zM5.41 20L4 18.59l7.72-7.72 1.47 1.35L5.41 20z\"/>\n",
              "  </svg>\n",
              "      </button>\n",
              "      \n",
              "  <style>\n",
              "    .colab-df-container {\n",
              "      display:flex;\n",
              "      flex-wrap:wrap;\n",
              "      gap: 12px;\n",
              "    }\n",
              "\n",
              "    .colab-df-convert {\n",
              "      background-color: #E8F0FE;\n",
              "      border: none;\n",
              "      border-radius: 50%;\n",
              "      cursor: pointer;\n",
              "      display: none;\n",
              "      fill: #1967D2;\n",
              "      height: 32px;\n",
              "      padding: 0 0 0 0;\n",
              "      width: 32px;\n",
              "    }\n",
              "\n",
              "    .colab-df-convert:hover {\n",
              "      background-color: #E2EBFA;\n",
              "      box-shadow: 0px 1px 2px rgba(60, 64, 67, 0.3), 0px 1px 3px 1px rgba(60, 64, 67, 0.15);\n",
              "      fill: #174EA6;\n",
              "    }\n",
              "\n",
              "    [theme=dark] .colab-df-convert {\n",
              "      background-color: #3B4455;\n",
              "      fill: #D2E3FC;\n",
              "    }\n",
              "\n",
              "    [theme=dark] .colab-df-convert:hover {\n",
              "      background-color: #434B5C;\n",
              "      box-shadow: 0px 1px 3px 1px rgba(0, 0, 0, 0.15);\n",
              "      filter: drop-shadow(0px 1px 2px rgba(0, 0, 0, 0.3));\n",
              "      fill: #FFFFFF;\n",
              "    }\n",
              "  </style>\n",
              "\n",
              "      <script>\n",
              "        const buttonEl =\n",
              "          document.querySelector('#df-c489e03d-6c73-415c-ad88-14a8aaacf7f4 button.colab-df-convert');\n",
              "        buttonEl.style.display =\n",
              "          google.colab.kernel.accessAllowed ? 'block' : 'none';\n",
              "\n",
              "        async function convertToInteractive(key) {\n",
              "          const element = document.querySelector('#df-c489e03d-6c73-415c-ad88-14a8aaacf7f4');\n",
              "          const dataTable =\n",
              "            await google.colab.kernel.invokeFunction('convertToInteractive',\n",
              "                                                     [key], {});\n",
              "          if (!dataTable) return;\n",
              "\n",
              "          const docLinkHtml = 'Like what you see? Visit the ' +\n",
              "            '<a target=\"_blank\" href=https://colab.research.google.com/notebooks/data_table.ipynb>data table notebook</a>'\n",
              "            + ' to learn more about interactive tables.';\n",
              "          element.innerHTML = '';\n",
              "          dataTable['output_type'] = 'display_data';\n",
              "          await google.colab.output.renderOutput(dataTable, element);\n",
              "          const docLink = document.createElement('div');\n",
              "          docLink.innerHTML = docLinkHtml;\n",
              "          element.appendChild(docLink);\n",
              "        }\n",
              "      </script>\n",
              "    </div>\n",
              "  </div>\n",
              "  "
            ],
            "text/plain": [
              "                                              Tweets  ...           tweet_date\n",
              "0  @Newlands_79 @SunRisers Having an IPL Cup on t...  ...  2022-01-12 16:23:48\n",
              "1  @msd_ntr79 RCB is cursed bcoz of Vijay Maliya ...  ...  2022-01-12 10:57:05\n",
              "2  RT @teamsaver: @mufaddal_vohra Ratio. RCB winn...  ...  2022-01-12 09:24:03\n",
              "3  RT @crictallkk: Imagine RCB winning TATA IPL 2...  ...  2022-01-12 08:16:17\n",
              "4  Imagine RCB winning TATA IPL 2022 ✨\\n\\n#IPLAuc...  ...  2022-01-12 08:02:12\n",
              "\n",
              "[5 rows x 9 columns]"
            ]
          },
          "metadata": {},
          "execution_count": 9
        }
      ],
      "source": [
        "df.head()"
      ]
    },
    {
      "cell_type": "raw",
      "metadata": {
        "id": "E5ECjnd991k4"
      },
      "source": [
        "!pip install textblob"
      ]
    },
    {
      "cell_type": "raw",
      "metadata": {
        "id": "h4xBieSF91k5"
      },
      "source": [
        "Sentiment(polarity, subjectivity)\n",
        "\n",
        "Polarity score: [-1 , +1]\n",
        "\n",
        "Subjectivity: [0.0 , 1.0] \n",
        "where 0.0 is very Objective and 1.0 is very Subjective."
      ]
    },
    {
      "cell_type": "code",
      "execution_count": 10,
      "metadata": {
        "id": "eCfsSjvt91k5"
      },
      "outputs": [],
      "source": [
        "from textblob import TextBlob"
      ]
    },
    {
      "cell_type": "code",
      "execution_count": 11,
      "metadata": {
        "id": "MbbTSjqL91k5"
      },
      "outputs": [],
      "source": [
        "import re\n",
        "def clean_tweet(tweet):\n",
        "    return ' '.join(re.sub('(@[A-Za-z0-9]+)|([^0-9A-Za-z \\t])|(\\w+:\\/\\/\\S+)', ' ', tweet).split())"
      ]
    },
    {
      "cell_type": "code",
      "execution_count": 12,
      "metadata": {
        "id": "2xyoh4A091k5"
      },
      "outputs": [],
      "source": [
        "def analyze_sentiment(tweet):\n",
        "    analysis = TextBlob(tweet)\n",
        "    if analysis.sentiment.polarity > 0:\n",
        "        return 'Positive'\n",
        "    elif analysis.sentiment.polarity == 0:\n",
        "        return 'Neutral'\n",
        "    else:\n",
        "        return 'Negative'"
      ]
    },
    {
      "cell_type": "code",
      "execution_count": 13,
      "metadata": {
        "id": "p_8CAuKG91k6"
      },
      "outputs": [],
      "source": [
        "df['clean_tweet'] = df['Tweets'].apply(lambda x : clean_tweet(x))"
      ]
    },
    {
      "cell_type": "code",
      "execution_count": 14,
      "metadata": {
        "colab": {
          "base_uri": "https://localhost:8080/",
          "height": 530
        },
        "id": "96a_aHaS91k6",
        "outputId": "35322a8d-482a-41af-be25-576ac5cf62c1"
      },
      "outputs": [
        {
          "output_type": "execute_result",
          "data": {
            "text/html": [
              "\n",
              "  <div id=\"df-0ab7b4df-8cf4-467d-ab86-23818ef62d1d\">\n",
              "    <div class=\"colab-df-container\">\n",
              "      <div>\n",
              "<style scoped>\n",
              "    .dataframe tbody tr th:only-of-type {\n",
              "        vertical-align: middle;\n",
              "    }\n",
              "\n",
              "    .dataframe tbody tr th {\n",
              "        vertical-align: top;\n",
              "    }\n",
              "\n",
              "    .dataframe thead th {\n",
              "        text-align: right;\n",
              "    }\n",
              "</style>\n",
              "<table border=\"1\" class=\"dataframe\">\n",
              "  <thead>\n",
              "    <tr style=\"text-align: right;\">\n",
              "      <th></th>\n",
              "      <th>Tweets</th>\n",
              "      <th>User</th>\n",
              "      <th>User_statuses_count</th>\n",
              "      <th>user_followers</th>\n",
              "      <th>User_location</th>\n",
              "      <th>User_verified</th>\n",
              "      <th>fav_count</th>\n",
              "      <th>rt_count</th>\n",
              "      <th>tweet_date</th>\n",
              "      <th>clean_tweet</th>\n",
              "    </tr>\n",
              "  </thead>\n",
              "  <tbody>\n",
              "    <tr>\n",
              "      <th>0</th>\n",
              "      <td>@Newlands_79 @SunRisers Having an IPL Cup on t...</td>\n",
              "      <td>Yagnik vicky</td>\n",
              "      <td>155</td>\n",
              "      <td>8</td>\n",
              "      <td></td>\n",
              "      <td>False</td>\n",
              "      <td>0</td>\n",
              "      <td>0</td>\n",
              "      <td>2022-01-12 16:23:48</td>\n",
              "      <td>79 Having an IPL Cup on their name winning Ove...</td>\n",
              "    </tr>\n",
              "    <tr>\n",
              "      <th>1</th>\n",
              "      <td>@msd_ntr79 RCB is cursed bcoz of Vijay Maliya ...</td>\n",
              "      <td>Rajesh</td>\n",
              "      <td>12744</td>\n",
              "      <td>223</td>\n",
              "      <td></td>\n",
              "      <td>False</td>\n",
              "      <td>0</td>\n",
              "      <td>1</td>\n",
              "      <td>2022-01-12 10:57:05</td>\n",
              "      <td>ntr79 RCB is cursed bcoz of Vijay Maliya looti...</td>\n",
              "    </tr>\n",
              "    <tr>\n",
              "      <th>2</th>\n",
              "      <td>RT @teamsaver: @mufaddal_vohra Ratio. RCB winn...</td>\n",
              "      <td>Gagandeep M</td>\n",
              "      <td>48111</td>\n",
              "      <td>82</td>\n",
              "      <td>Karnataka, India</td>\n",
              "      <td>False</td>\n",
              "      <td>0</td>\n",
              "      <td>1</td>\n",
              "      <td>2022-01-12 09:24:03</td>\n",
              "      <td>RT vohra Ratio RCB winning IPL next season</td>\n",
              "    </tr>\n",
              "    <tr>\n",
              "      <th>3</th>\n",
              "      <td>RT @crictallkk: Imagine RCB winning TATA IPL 2...</td>\n",
              "      <td>Subhash</td>\n",
              "      <td>861</td>\n",
              "      <td>2</td>\n",
              "      <td></td>\n",
              "      <td>False</td>\n",
              "      <td>0</td>\n",
              "      <td>1</td>\n",
              "      <td>2022-01-12 08:16:17</td>\n",
              "      <td>RT Imagine RCB winning TATA IPL 2022 IPLAuctio...</td>\n",
              "    </tr>\n",
              "    <tr>\n",
              "      <th>4</th>\n",
              "      <td>Imagine RCB winning TATA IPL 2022 ✨\\n\\n#IPLAuc...</td>\n",
              "      <td>Alfred</td>\n",
              "      <td>2820</td>\n",
              "      <td>45</td>\n",
              "      <td>Bird App</td>\n",
              "      <td>False</td>\n",
              "      <td>3</td>\n",
              "      <td>1</td>\n",
              "      <td>2022-01-12 08:02:12</td>\n",
              "      <td>Imagine RCB winning TATA IPL 2022 IPLAuction20...</td>\n",
              "    </tr>\n",
              "  </tbody>\n",
              "</table>\n",
              "</div>\n",
              "      <button class=\"colab-df-convert\" onclick=\"convertToInteractive('df-0ab7b4df-8cf4-467d-ab86-23818ef62d1d')\"\n",
              "              title=\"Convert this dataframe to an interactive table.\"\n",
              "              style=\"display:none;\">\n",
              "        \n",
              "  <svg xmlns=\"http://www.w3.org/2000/svg\" height=\"24px\"viewBox=\"0 0 24 24\"\n",
              "       width=\"24px\">\n",
              "    <path d=\"M0 0h24v24H0V0z\" fill=\"none\"/>\n",
              "    <path d=\"M18.56 5.44l.94 2.06.94-2.06 2.06-.94-2.06-.94-.94-2.06-.94 2.06-2.06.94zm-11 1L8.5 8.5l.94-2.06 2.06-.94-2.06-.94L8.5 2.5l-.94 2.06-2.06.94zm10 10l.94 2.06.94-2.06 2.06-.94-2.06-.94-.94-2.06-.94 2.06-2.06.94z\"/><path d=\"M17.41 7.96l-1.37-1.37c-.4-.4-.92-.59-1.43-.59-.52 0-1.04.2-1.43.59L10.3 9.45l-7.72 7.72c-.78.78-.78 2.05 0 2.83L4 21.41c.39.39.9.59 1.41.59.51 0 1.02-.2 1.41-.59l7.78-7.78 2.81-2.81c.8-.78.8-2.07 0-2.86zM5.41 20L4 18.59l7.72-7.72 1.47 1.35L5.41 20z\"/>\n",
              "  </svg>\n",
              "      </button>\n",
              "      \n",
              "  <style>\n",
              "    .colab-df-container {\n",
              "      display:flex;\n",
              "      flex-wrap:wrap;\n",
              "      gap: 12px;\n",
              "    }\n",
              "\n",
              "    .colab-df-convert {\n",
              "      background-color: #E8F0FE;\n",
              "      border: none;\n",
              "      border-radius: 50%;\n",
              "      cursor: pointer;\n",
              "      display: none;\n",
              "      fill: #1967D2;\n",
              "      height: 32px;\n",
              "      padding: 0 0 0 0;\n",
              "      width: 32px;\n",
              "    }\n",
              "\n",
              "    .colab-df-convert:hover {\n",
              "      background-color: #E2EBFA;\n",
              "      box-shadow: 0px 1px 2px rgba(60, 64, 67, 0.3), 0px 1px 3px 1px rgba(60, 64, 67, 0.15);\n",
              "      fill: #174EA6;\n",
              "    }\n",
              "\n",
              "    [theme=dark] .colab-df-convert {\n",
              "      background-color: #3B4455;\n",
              "      fill: #D2E3FC;\n",
              "    }\n",
              "\n",
              "    [theme=dark] .colab-df-convert:hover {\n",
              "      background-color: #434B5C;\n",
              "      box-shadow: 0px 1px 3px 1px rgba(0, 0, 0, 0.15);\n",
              "      filter: drop-shadow(0px 1px 2px rgba(0, 0, 0, 0.3));\n",
              "      fill: #FFFFFF;\n",
              "    }\n",
              "  </style>\n",
              "\n",
              "      <script>\n",
              "        const buttonEl =\n",
              "          document.querySelector('#df-0ab7b4df-8cf4-467d-ab86-23818ef62d1d button.colab-df-convert');\n",
              "        buttonEl.style.display =\n",
              "          google.colab.kernel.accessAllowed ? 'block' : 'none';\n",
              "\n",
              "        async function convertToInteractive(key) {\n",
              "          const element = document.querySelector('#df-0ab7b4df-8cf4-467d-ab86-23818ef62d1d');\n",
              "          const dataTable =\n",
              "            await google.colab.kernel.invokeFunction('convertToInteractive',\n",
              "                                                     [key], {});\n",
              "          if (!dataTable) return;\n",
              "\n",
              "          const docLinkHtml = 'Like what you see? Visit the ' +\n",
              "            '<a target=\"_blank\" href=https://colab.research.google.com/notebooks/data_table.ipynb>data table notebook</a>'\n",
              "            + ' to learn more about interactive tables.';\n",
              "          element.innerHTML = '';\n",
              "          dataTable['output_type'] = 'display_data';\n",
              "          await google.colab.output.renderOutput(dataTable, element);\n",
              "          const docLink = document.createElement('div');\n",
              "          docLink.innerHTML = docLinkHtml;\n",
              "          element.appendChild(docLink);\n",
              "        }\n",
              "      </script>\n",
              "    </div>\n",
              "  </div>\n",
              "  "
            ],
            "text/plain": [
              "                                              Tweets  ...                                        clean_tweet\n",
              "0  @Newlands_79 @SunRisers Having an IPL Cup on t...  ...  79 Having an IPL Cup on their name winning Ove...\n",
              "1  @msd_ntr79 RCB is cursed bcoz of Vijay Maliya ...  ...  ntr79 RCB is cursed bcoz of Vijay Maliya looti...\n",
              "2  RT @teamsaver: @mufaddal_vohra Ratio. RCB winn...  ...         RT vohra Ratio RCB winning IPL next season\n",
              "3  RT @crictallkk: Imagine RCB winning TATA IPL 2...  ...  RT Imagine RCB winning TATA IPL 2022 IPLAuctio...\n",
              "4  Imagine RCB winning TATA IPL 2022 ✨\\n\\n#IPLAuc...  ...  Imagine RCB winning TATA IPL 2022 IPLAuction20...\n",
              "\n",
              "[5 rows x 10 columns]"
            ]
          },
          "metadata": {},
          "execution_count": 14
        }
      ],
      "source": [
        "df.head()"
      ]
    },
    {
      "cell_type": "code",
      "execution_count": 15,
      "metadata": {
        "colab": {
          "base_uri": "https://localhost:8080/",
          "height": 530
        },
        "id": "BeFdLU6691k6",
        "outputId": "1bdf34b9-87a7-438c-ede4-52180b4d88d6"
      },
      "outputs": [
        {
          "output_type": "execute_result",
          "data": {
            "text/html": [
              "\n",
              "  <div id=\"df-a07faf5d-4b4c-441b-83be-f00bbb54f74a\">\n",
              "    <div class=\"colab-df-container\">\n",
              "      <div>\n",
              "<style scoped>\n",
              "    .dataframe tbody tr th:only-of-type {\n",
              "        vertical-align: middle;\n",
              "    }\n",
              "\n",
              "    .dataframe tbody tr th {\n",
              "        vertical-align: top;\n",
              "    }\n",
              "\n",
              "    .dataframe thead th {\n",
              "        text-align: right;\n",
              "    }\n",
              "</style>\n",
              "<table border=\"1\" class=\"dataframe\">\n",
              "  <thead>\n",
              "    <tr style=\"text-align: right;\">\n",
              "      <th></th>\n",
              "      <th>Tweets</th>\n",
              "      <th>User</th>\n",
              "      <th>User_statuses_count</th>\n",
              "      <th>user_followers</th>\n",
              "      <th>User_location</th>\n",
              "      <th>User_verified</th>\n",
              "      <th>fav_count</th>\n",
              "      <th>rt_count</th>\n",
              "      <th>tweet_date</th>\n",
              "      <th>clean_tweet</th>\n",
              "      <th>Sentiment</th>\n",
              "    </tr>\n",
              "  </thead>\n",
              "  <tbody>\n",
              "    <tr>\n",
              "      <th>0</th>\n",
              "      <td>@Newlands_79 @SunRisers Having an IPL Cup on t...</td>\n",
              "      <td>Yagnik vicky</td>\n",
              "      <td>155</td>\n",
              "      <td>8</td>\n",
              "      <td></td>\n",
              "      <td>False</td>\n",
              "      <td>0</td>\n",
              "      <td>0</td>\n",
              "      <td>2022-01-12 16:23:48</td>\n",
              "      <td>79 Having an IPL Cup on their name winning Ove...</td>\n",
              "      <td>Positive</td>\n",
              "    </tr>\n",
              "    <tr>\n",
              "      <th>1</th>\n",
              "      <td>@msd_ntr79 RCB is cursed bcoz of Vijay Maliya ...</td>\n",
              "      <td>Rajesh</td>\n",
              "      <td>12744</td>\n",
              "      <td>223</td>\n",
              "      <td></td>\n",
              "      <td>False</td>\n",
              "      <td>0</td>\n",
              "      <td>1</td>\n",
              "      <td>2022-01-12 10:57:05</td>\n",
              "      <td>ntr79 RCB is cursed bcoz of Vijay Maliya looti...</td>\n",
              "      <td>Positive</td>\n",
              "    </tr>\n",
              "    <tr>\n",
              "      <th>2</th>\n",
              "      <td>RT @teamsaver: @mufaddal_vohra Ratio. RCB winn...</td>\n",
              "      <td>Gagandeep M</td>\n",
              "      <td>48111</td>\n",
              "      <td>82</td>\n",
              "      <td>Karnataka, India</td>\n",
              "      <td>False</td>\n",
              "      <td>0</td>\n",
              "      <td>1</td>\n",
              "      <td>2022-01-12 09:24:03</td>\n",
              "      <td>RT vohra Ratio RCB winning IPL next season</td>\n",
              "      <td>Positive</td>\n",
              "    </tr>\n",
              "    <tr>\n",
              "      <th>3</th>\n",
              "      <td>RT @crictallkk: Imagine RCB winning TATA IPL 2...</td>\n",
              "      <td>Subhash</td>\n",
              "      <td>861</td>\n",
              "      <td>2</td>\n",
              "      <td></td>\n",
              "      <td>False</td>\n",
              "      <td>0</td>\n",
              "      <td>1</td>\n",
              "      <td>2022-01-12 08:16:17</td>\n",
              "      <td>RT Imagine RCB winning TATA IPL 2022 IPLAuctio...</td>\n",
              "      <td>Positive</td>\n",
              "    </tr>\n",
              "    <tr>\n",
              "      <th>4</th>\n",
              "      <td>Imagine RCB winning TATA IPL 2022 ✨\\n\\n#IPLAuc...</td>\n",
              "      <td>Alfred</td>\n",
              "      <td>2820</td>\n",
              "      <td>45</td>\n",
              "      <td>Bird App</td>\n",
              "      <td>False</td>\n",
              "      <td>3</td>\n",
              "      <td>1</td>\n",
              "      <td>2022-01-12 08:02:12</td>\n",
              "      <td>Imagine RCB winning TATA IPL 2022 IPLAuction20...</td>\n",
              "      <td>Positive</td>\n",
              "    </tr>\n",
              "  </tbody>\n",
              "</table>\n",
              "</div>\n",
              "      <button class=\"colab-df-convert\" onclick=\"convertToInteractive('df-a07faf5d-4b4c-441b-83be-f00bbb54f74a')\"\n",
              "              title=\"Convert this dataframe to an interactive table.\"\n",
              "              style=\"display:none;\">\n",
              "        \n",
              "  <svg xmlns=\"http://www.w3.org/2000/svg\" height=\"24px\"viewBox=\"0 0 24 24\"\n",
              "       width=\"24px\">\n",
              "    <path d=\"M0 0h24v24H0V0z\" fill=\"none\"/>\n",
              "    <path d=\"M18.56 5.44l.94 2.06.94-2.06 2.06-.94-2.06-.94-.94-2.06-.94 2.06-2.06.94zm-11 1L8.5 8.5l.94-2.06 2.06-.94-2.06-.94L8.5 2.5l-.94 2.06-2.06.94zm10 10l.94 2.06.94-2.06 2.06-.94-2.06-.94-.94-2.06-.94 2.06-2.06.94z\"/><path d=\"M17.41 7.96l-1.37-1.37c-.4-.4-.92-.59-1.43-.59-.52 0-1.04.2-1.43.59L10.3 9.45l-7.72 7.72c-.78.78-.78 2.05 0 2.83L4 21.41c.39.39.9.59 1.41.59.51 0 1.02-.2 1.41-.59l7.78-7.78 2.81-2.81c.8-.78.8-2.07 0-2.86zM5.41 20L4 18.59l7.72-7.72 1.47 1.35L5.41 20z\"/>\n",
              "  </svg>\n",
              "      </button>\n",
              "      \n",
              "  <style>\n",
              "    .colab-df-container {\n",
              "      display:flex;\n",
              "      flex-wrap:wrap;\n",
              "      gap: 12px;\n",
              "    }\n",
              "\n",
              "    .colab-df-convert {\n",
              "      background-color: #E8F0FE;\n",
              "      border: none;\n",
              "      border-radius: 50%;\n",
              "      cursor: pointer;\n",
              "      display: none;\n",
              "      fill: #1967D2;\n",
              "      height: 32px;\n",
              "      padding: 0 0 0 0;\n",
              "      width: 32px;\n",
              "    }\n",
              "\n",
              "    .colab-df-convert:hover {\n",
              "      background-color: #E2EBFA;\n",
              "      box-shadow: 0px 1px 2px rgba(60, 64, 67, 0.3), 0px 1px 3px 1px rgba(60, 64, 67, 0.15);\n",
              "      fill: #174EA6;\n",
              "    }\n",
              "\n",
              "    [theme=dark] .colab-df-convert {\n",
              "      background-color: #3B4455;\n",
              "      fill: #D2E3FC;\n",
              "    }\n",
              "\n",
              "    [theme=dark] .colab-df-convert:hover {\n",
              "      background-color: #434B5C;\n",
              "      box-shadow: 0px 1px 3px 1px rgba(0, 0, 0, 0.15);\n",
              "      filter: drop-shadow(0px 1px 2px rgba(0, 0, 0, 0.3));\n",
              "      fill: #FFFFFF;\n",
              "    }\n",
              "  </style>\n",
              "\n",
              "      <script>\n",
              "        const buttonEl =\n",
              "          document.querySelector('#df-a07faf5d-4b4c-441b-83be-f00bbb54f74a button.colab-df-convert');\n",
              "        buttonEl.style.display =\n",
              "          google.colab.kernel.accessAllowed ? 'block' : 'none';\n",
              "\n",
              "        async function convertToInteractive(key) {\n",
              "          const element = document.querySelector('#df-a07faf5d-4b4c-441b-83be-f00bbb54f74a');\n",
              "          const dataTable =\n",
              "            await google.colab.kernel.invokeFunction('convertToInteractive',\n",
              "                                                     [key], {});\n",
              "          if (!dataTable) return;\n",
              "\n",
              "          const docLinkHtml = 'Like what you see? Visit the ' +\n",
              "            '<a target=\"_blank\" href=https://colab.research.google.com/notebooks/data_table.ipynb>data table notebook</a>'\n",
              "            + ' to learn more about interactive tables.';\n",
              "          element.innerHTML = '';\n",
              "          dataTable['output_type'] = 'display_data';\n",
              "          await google.colab.output.renderOutput(dataTable, element);\n",
              "          const docLink = document.createElement('div');\n",
              "          docLink.innerHTML = docLinkHtml;\n",
              "          element.appendChild(docLink);\n",
              "        }\n",
              "      </script>\n",
              "    </div>\n",
              "  </div>\n",
              "  "
            ],
            "text/plain": [
              "                                              Tweets  ... Sentiment\n",
              "0  @Newlands_79 @SunRisers Having an IPL Cup on t...  ...  Positive\n",
              "1  @msd_ntr79 RCB is cursed bcoz of Vijay Maliya ...  ...  Positive\n",
              "2  RT @teamsaver: @mufaddal_vohra Ratio. RCB winn...  ...  Positive\n",
              "3  RT @crictallkk: Imagine RCB winning TATA IPL 2...  ...  Positive\n",
              "4  Imagine RCB winning TATA IPL 2022 ✨\\n\\n#IPLAuc...  ...  Positive\n",
              "\n",
              "[5 rows x 11 columns]"
            ]
          },
          "metadata": {},
          "execution_count": 15
        }
      ],
      "source": [
        "df['Sentiment'] = df['clean_tweet'].apply(lambda x : analyze_sentiment(x) )\n",
        "df.head()"
      ]
    },
    {
      "cell_type": "code",
      "execution_count": 16,
      "metadata": {
        "colab": {
          "base_uri": "https://localhost:8080/"
        },
        "id": "WZowqN2F91k7",
        "outputId": "8a942432-31c8-4180-d807-bdd0e864be26"
      },
      "outputs": [
        {
          "output_type": "stream",
          "name": "stdout",
          "text": [
            "Original tweet:\n",
            " @msd_ntr79 RCB is cursed bcoz of Vijay Maliya looting don't bring IPL here winning in Aus, Eng is not cursed we hav… https://t.co/CSbcOeHXKx\n",
            "\n",
            "Clean tweet:\n",
            " ntr79 RCB is cursed bcoz of Vijay Maliya looting don t bring IPL here winning in Aus Eng is not cursed we hav\n",
            "\n",
            "Sentiment of the tweet:\n",
            " Positive\n"
          ]
        }
      ],
      "source": [
        "n = 1\n",
        "print(\"Original tweet:\\n\",df['Tweets'][n])\n",
        "print()\n",
        "print(\"Clean tweet:\\n\",df['clean_tweet'][n])\n",
        "print()\n",
        "print(\"Sentiment of the tweet:\\n\",df['Sentiment'][n])"
      ]
    },
    {
      "cell_type": "code",
      "execution_count": 17,
      "metadata": {
        "colab": {
          "base_uri": "https://localhost:8080/"
        },
        "id": "I4UzUIKL91k7",
        "outputId": "72e2fc75-4aba-4b4e-8317-6fe064a5f198"
      },
      "outputs": [
        {
          "output_type": "stream",
          "name": "stdout",
          "text": [
            "Original tweet:\n",
            " @vd12op I am saying anybody doesn't interested in MI even after winning 5 trophies. But all are interested in RCB e… https://t.co/wtMHH11xHA\n",
            "\n",
            "Clean tweet:\n",
            " I am saying anybody doesn t interested in MI even after winning 5 trophies But all are interested in RCB e\n",
            "\n",
            "Sentiment of the tweet:\n",
            " Positive\n"
          ]
        }
      ],
      "source": [
        "n = 20\n",
        "print(\"Original tweet:\\n\",df['Tweets'][n])\n",
        "print()\n",
        "print(\"Clean tweet:\\n\",df['clean_tweet'][n])\n",
        "print()\n",
        "print(\"Sentiment of the tweet:\\n\",df['Sentiment'][n])"
      ]
    },
    {
      "cell_type": "code",
      "execution_count": 20,
      "metadata": {
        "colab": {
          "base_uri": "https://localhost:8080/"
        },
        "id": "9jGcHYOE91k7",
        "outputId": "ff31ed1e-53df-4c8e-a7b4-240bdf667a60"
      },
      "outputs": [
        {
          "output_type": "stream",
          "name": "stdout",
          "text": [
            "Original tweet:\n",
            " RCB not winning these TATA IPL either.😭😭😭\n",
            "\n",
            "Clean tweet:\n",
            " RCB not winning these TATA IPL either\n",
            "\n",
            "Sentiment of the tweet:\n",
            " Negative\n"
          ]
        }
      ],
      "source": [
        "n = 10\n",
        "print(\"Original tweet:\\n\",df['Tweets'][n])\n",
        "print()\n",
        "print(\"Clean tweet:\\n\",df['clean_tweet'][n])\n",
        "print()\n",
        "print(\"Sentiment of the tweet:\\n\",df['Sentiment'][n])"
      ]
    },
    {
      "cell_type": "code",
      "execution_count": 21,
      "metadata": {
        "colab": {
          "base_uri": "https://localhost:8080/"
        },
        "id": "g8EIbSVB91k8",
        "outputId": "9b8590ab-f193-496e-c68b-0dacf2041a03"
      },
      "outputs": [
        {
          "output_type": "execute_result",
          "data": {
            "text/plain": [
              "25"
            ]
          },
          "metadata": {},
          "execution_count": 21
        }
      ],
      "source": [
        "df[df.Sentiment == 'Positive'].shape[0]"
      ]
    },
    {
      "cell_type": "code",
      "execution_count": 22,
      "metadata": {
        "colab": {
          "base_uri": "https://localhost:8080/"
        },
        "id": "noFQSG-H91k8",
        "outputId": "48166562-5fc3-4c99-dccb-71763a38daa3"
      },
      "outputs": [
        {
          "output_type": "execute_result",
          "data": {
            "text/plain": [
              "1"
            ]
          },
          "metadata": {},
          "execution_count": 22
        }
      ],
      "source": [
        "df[df.Sentiment == 'Neutral'].shape[0]"
      ]
    },
    {
      "cell_type": "code",
      "execution_count": 23,
      "metadata": {
        "colab": {
          "base_uri": "https://localhost:8080/"
        },
        "id": "4uJ1AeUJ91k8",
        "outputId": "464cc4af-23ed-4b81-9442-1276bba359ab"
      },
      "outputs": [
        {
          "output_type": "execute_result",
          "data": {
            "text/plain": [
              "5"
            ]
          },
          "metadata": {},
          "execution_count": 23
        }
      ],
      "source": [
        "df[df.Sentiment == 'Negative'].shape[0]"
      ]
    }
  ],
  "metadata": {
    "kernelspec": {
      "display_name": "Python 3",
      "language": "python",
      "name": "python3"
    },
    "language_info": {
      "codemirror_mode": {
        "name": "ipython",
        "version": 3
      },
      "file_extension": ".py",
      "mimetype": "text/x-python",
      "name": "python",
      "nbconvert_exporter": "python",
      "pygments_lexer": "ipython3",
      "version": "3.8.3"
    },
    "colab": {
      "name": "LU AI-ML Batch-1 Twitter Sentiment Analysis - Dr. Darshan Ingle.ipynb",
      "provenance": []
    }
  },
  "nbformat": 4,
  "nbformat_minor": 0
}