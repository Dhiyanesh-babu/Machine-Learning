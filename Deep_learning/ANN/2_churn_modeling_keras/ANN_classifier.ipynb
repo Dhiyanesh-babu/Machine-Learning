{
 "cells": [
  {
   "cell_type": "code",
   "execution_count": 15,
   "id": "cd504800",
   "metadata": {},
   "outputs": [],
   "source": [
    "import numpy as np\n",
    "import matplotlib.pyplot as plt\n",
    "import pandas as pd"
   ]
  },
  {
   "cell_type": "code",
   "execution_count": 17,
   "id": "4aadd904",
   "metadata": {},
   "outputs": [],
   "source": [
    "dataset = pd.read_csv('Churn_Modelling.csv')\n",
    "X = dataset.iloc[:, 3:13]\n",
    "y = dataset.iloc[:, 13]"
   ]
  },
  {
   "cell_type": "code",
   "execution_count": 18,
   "id": "40992791",
   "metadata": {},
   "outputs": [],
   "source": [
    "geography=pd.get_dummies(X[\"Geography\"],drop_first=True)\n",
    "gender=pd.get_dummies(X['Gender'],drop_first=True)"
   ]
  },
  {
   "cell_type": "code",
   "execution_count": 19,
   "id": "c06ac03b",
   "metadata": {},
   "outputs": [],
   "source": [
    "X=pd.concat([X,geography,gender],axis=1)\n",
    "X=X.drop(['Geography','Gender'],axis=1)"
   ]
  },
  {
   "cell_type": "code",
   "execution_count": 23,
   "id": "adaf633a",
   "metadata": {},
   "outputs": [],
   "source": [
    "from sklearn.model_selection import train_test_split\n",
    "X_train, X_test, y_train, y_test = train_test_split(X, y, test_size = 0.2, random_state = 0)"
   ]
  },
  {
   "cell_type": "code",
   "execution_count": 25,
   "id": "cae9b71c",
   "metadata": {},
   "outputs": [],
   "source": [
    "from sklearn.preprocessing import StandardScaler\n",
    "sc = StandardScaler()\n",
    "X_train = sc.fit_transform(X_train)\n",
    "X_test = sc.transform(X_test)"
   ]
  },
  {
   "cell_type": "code",
   "execution_count": 26,
   "id": "5fbd42f9",
   "metadata": {},
   "outputs": [],
   "source": [
    "import keras\n",
    "from keras.models import Sequential\n",
    "from keras.layers import Dense\n",
    "from keras.layers import LeakyReLU,PReLU,ELU\n",
    "from keras.layers import Dropout\n"
   ]
  },
  {
   "cell_type": "code",
   "execution_count": 28,
   "id": "f6dbb4ed",
   "metadata": {},
   "outputs": [],
   "source": [
    "classifier = Sequential()\n",
    "classifier.add(Dense(units = 6, kernel_initializer = 'he_uniform',activation='relu',input_dim = 11))\n",
    "classifier.add(Dense(units = 6, kernel_initializer = 'he_uniform',activation='relu'))\n",
    "classifier.add(Dense(units = 1, kernel_initializer = 'glorot_uniform', activation = 'sigmoid'))\n",
    "classifier.compile(optimizer = 'Adamax', loss = 'binary_crossentropy', metrics = ['accuracy'])"
   ]
  },
  {
   "cell_type": "code",
   "execution_count": 38,
   "id": "79b7f106",
   "metadata": {},
   "outputs": [],
   "source": [
    "X_test=np.array(X_test)\n",
    "X_train=np.array(X_train)\n",
    "y_train=np.array(y_train)\n",
    "y_test=np.array(y_test)"
   ]
  },
  {
   "cell_type": "code",
   "execution_count": 39,
   "id": "abc5de3f",
   "metadata": {},
   "outputs": [
    {
     "name": "stdout",
     "output_type": "stream",
     "text": [
      "Epoch 1/100\n",
      "536/536 [==============================] - 10s 11ms/step - loss: 0.9663 - accuracy: 0.5298 - val_loss: 0.6283 - val_accuracy: 0.6888\n",
      "Epoch 2/100\n",
      "536/536 [==============================] - 3s 5ms/step - loss: 0.5747 - accuracy: 0.7419 - val_loss: 0.5223 - val_accuracy: 0.7751\n",
      "Epoch 3/100\n",
      "536/536 [==============================] - 2s 3ms/step - loss: 0.5132 - accuracy: 0.7791 - val_loss: 0.4870 - val_accuracy: 0.7921\n",
      "Epoch 4/100\n",
      "536/536 [==============================] - 1s 3ms/step - loss: 0.4841 - accuracy: 0.7884 - val_loss: 0.4667 - val_accuracy: 0.7955\n",
      "Epoch 5/100\n",
      "536/536 [==============================] - 1s 3ms/step - loss: 0.4660 - accuracy: 0.7959 - val_loss: 0.4541 - val_accuracy: 0.8069\n",
      "Epoch 6/100\n",
      "536/536 [==============================] - 1s 3ms/step - loss: 0.4529 - accuracy: 0.8018 - val_loss: 0.4444 - val_accuracy: 0.8114\n",
      "Epoch 7/100\n",
      "536/536 [==============================] - 1s 3ms/step - loss: 0.4424 - accuracy: 0.8085 - val_loss: 0.4367 - val_accuracy: 0.8198\n",
      "Epoch 8/100\n",
      "536/536 [==============================] - 1s 3ms/step - loss: 0.4333 - accuracy: 0.8140 - val_loss: 0.4304 - val_accuracy: 0.8224\n",
      "Epoch 9/100\n",
      "536/536 [==============================] - 1s 3ms/step - loss: 0.4258 - accuracy: 0.8190 - val_loss: 0.4257 - val_accuracy: 0.8239\n",
      "Epoch 10/100\n",
      "536/536 [==============================] - 1s 3ms/step - loss: 0.4199 - accuracy: 0.8207 - val_loss: 0.4215 - val_accuracy: 0.8243\n",
      "Epoch 11/100\n",
      "536/536 [==============================] - 2s 3ms/step - loss: 0.4146 - accuracy: 0.8238 - val_loss: 0.4177 - val_accuracy: 0.8239\n",
      "Epoch 12/100\n",
      "536/536 [==============================] - 1s 3ms/step - loss: 0.4099 - accuracy: 0.8242 - val_loss: 0.4146 - val_accuracy: 0.8239\n",
      "Epoch 13/100\n",
      "536/536 [==============================] - 1s 3ms/step - loss: 0.4058 - accuracy: 0.8257 - val_loss: 0.4117 - val_accuracy: 0.8254\n",
      "Epoch 14/100\n",
      "536/536 [==============================] - 1s 3ms/step - loss: 0.4023 - accuracy: 0.8261 - val_loss: 0.4088 - val_accuracy: 0.8254\n",
      "Epoch 15/100\n",
      "536/536 [==============================] - 1s 3ms/step - loss: 0.3987 - accuracy: 0.8281 - val_loss: 0.4060 - val_accuracy: 0.8254\n",
      "Epoch 16/100\n",
      "536/536 [==============================] - 1s 3ms/step - loss: 0.3951 - accuracy: 0.8308 - val_loss: 0.4030 - val_accuracy: 0.8254\n",
      "Epoch 17/100\n",
      "536/536 [==============================] - 1s 3ms/step - loss: 0.3915 - accuracy: 0.8326 - val_loss: 0.4001 - val_accuracy: 0.8266\n",
      "Epoch 18/100\n",
      "536/536 [==============================] - 1s 3ms/step - loss: 0.3883 - accuracy: 0.8341 - val_loss: 0.3969 - val_accuracy: 0.8266\n",
      "Epoch 19/100\n",
      "536/536 [==============================] - 1s 3ms/step - loss: 0.3845 - accuracy: 0.8382 - val_loss: 0.3937 - val_accuracy: 0.8300\n",
      "Epoch 20/100\n",
      "536/536 [==============================] - 1s 3ms/step - loss: 0.3811 - accuracy: 0.8397 - val_loss: 0.3907 - val_accuracy: 0.8292\n",
      "Epoch 21/100\n",
      "536/536 [==============================] - 1s 3ms/step - loss: 0.3778 - accuracy: 0.8425 - val_loss: 0.3882 - val_accuracy: 0.8307\n",
      "Epoch 22/100\n",
      "536/536 [==============================] - 1s 3ms/step - loss: 0.3748 - accuracy: 0.8423 - val_loss: 0.3861 - val_accuracy: 0.8326\n",
      "Epoch 23/100\n",
      "536/536 [==============================] - 1s 3ms/step - loss: 0.3721 - accuracy: 0.8433 - val_loss: 0.3839 - val_accuracy: 0.8338\n",
      "Epoch 24/100\n",
      "536/536 [==============================] - 1s 3ms/step - loss: 0.3696 - accuracy: 0.8446 - val_loss: 0.3820 - val_accuracy: 0.8342\n",
      "Epoch 25/100\n",
      "536/536 [==============================] - 1s 3ms/step - loss: 0.3678 - accuracy: 0.8449 - val_loss: 0.3807 - val_accuracy: 0.8360\n",
      "Epoch 26/100\n",
      "536/536 [==============================] - 1s 3ms/step - loss: 0.3661 - accuracy: 0.8457 - val_loss: 0.3794 - val_accuracy: 0.8372\n",
      "Epoch 27/100\n",
      "536/536 [==============================] - 1s 3ms/step - loss: 0.3647 - accuracy: 0.8468 - val_loss: 0.3783 - val_accuracy: 0.8364\n",
      "Epoch 28/100\n",
      "536/536 [==============================] - 1s 3ms/step - loss: 0.3636 - accuracy: 0.8472 - val_loss: 0.3776 - val_accuracy: 0.8364\n",
      "Epoch 29/100\n",
      "536/536 [==============================] - 1s 3ms/step - loss: 0.3625 - accuracy: 0.8461 - val_loss: 0.3768 - val_accuracy: 0.8360\n",
      "Epoch 30/100\n",
      "536/536 [==============================] - 1s 3ms/step - loss: 0.3615 - accuracy: 0.8481 - val_loss: 0.3763 - val_accuracy: 0.8376\n",
      "Epoch 31/100\n",
      "536/536 [==============================] - 1s 3ms/step - loss: 0.3606 - accuracy: 0.8487 - val_loss: 0.3758 - val_accuracy: 0.8379\n",
      "Epoch 32/100\n",
      "536/536 [==============================] - 1s 3ms/step - loss: 0.3598 - accuracy: 0.8492 - val_loss: 0.3754 - val_accuracy: 0.8376\n",
      "Epoch 33/100\n",
      "536/536 [==============================] - 1s 3ms/step - loss: 0.3590 - accuracy: 0.8474 - val_loss: 0.3749 - val_accuracy: 0.8379\n",
      "Epoch 34/100\n",
      "536/536 [==============================] - 1s 3ms/step - loss: 0.3582 - accuracy: 0.8487 - val_loss: 0.3745 - val_accuracy: 0.8379\n",
      "Epoch 35/100\n",
      "536/536 [==============================] - 1s 3ms/step - loss: 0.3575 - accuracy: 0.8496 - val_loss: 0.3742 - val_accuracy: 0.8383\n",
      "Epoch 36/100\n",
      "536/536 [==============================] - 1s 3ms/step - loss: 0.3567 - accuracy: 0.8485 - val_loss: 0.3743 - val_accuracy: 0.8376\n",
      "Epoch 37/100\n",
      "536/536 [==============================] - 1s 3ms/step - loss: 0.3561 - accuracy: 0.8474 - val_loss: 0.3737 - val_accuracy: 0.8387\n",
      "Epoch 38/100\n",
      "536/536 [==============================] - 2s 3ms/step - loss: 0.3554 - accuracy: 0.8487 - val_loss: 0.3738 - val_accuracy: 0.8379\n",
      "Epoch 39/100\n",
      "536/536 [==============================] - 2s 3ms/step - loss: 0.3548 - accuracy: 0.8481 - val_loss: 0.3736 - val_accuracy: 0.8383\n",
      "Epoch 40/100\n",
      "536/536 [==============================] - 2s 3ms/step - loss: 0.3542 - accuracy: 0.8462 - val_loss: 0.3735 - val_accuracy: 0.8379\n",
      "Epoch 41/100\n",
      "536/536 [==============================] - 1s 3ms/step - loss: 0.3536 - accuracy: 0.8472 - val_loss: 0.3737 - val_accuracy: 0.8372\n",
      "Epoch 42/100\n",
      "536/536 [==============================] - 1s 3ms/step - loss: 0.3532 - accuracy: 0.8479 - val_loss: 0.3729 - val_accuracy: 0.8387\n",
      "Epoch 43/100\n",
      "536/536 [==============================] - 1s 3ms/step - loss: 0.3527 - accuracy: 0.8479 - val_loss: 0.3731 - val_accuracy: 0.8364\n",
      "Epoch 44/100\n",
      "536/536 [==============================] - 2s 3ms/step - loss: 0.3522 - accuracy: 0.8505 - val_loss: 0.3729 - val_accuracy: 0.8364\n",
      "Epoch 45/100\n",
      "536/536 [==============================] - 1s 3ms/step - loss: 0.3518 - accuracy: 0.8492 - val_loss: 0.3725 - val_accuracy: 0.8372\n",
      "Epoch 46/100\n",
      "536/536 [==============================] - 1s 3ms/step - loss: 0.3513 - accuracy: 0.8500 - val_loss: 0.3725 - val_accuracy: 0.8383\n",
      "Epoch 47/100\n",
      "536/536 [==============================] - 1s 3ms/step - loss: 0.3508 - accuracy: 0.8502 - val_loss: 0.3720 - val_accuracy: 0.8376\n",
      "Epoch 48/100\n",
      "536/536 [==============================] - 1s 3ms/step - loss: 0.3503 - accuracy: 0.8500 - val_loss: 0.3723 - val_accuracy: 0.8364\n",
      "Epoch 49/100\n",
      "536/536 [==============================] - 1s 3ms/step - loss: 0.3500 - accuracy: 0.8509 - val_loss: 0.3719 - val_accuracy: 0.8368\n",
      "Epoch 50/100\n",
      "536/536 [==============================] - 1s 3ms/step - loss: 0.3494 - accuracy: 0.8502 - val_loss: 0.3719 - val_accuracy: 0.8353\n",
      "Epoch 51/100\n",
      "536/536 [==============================] - 1s 3ms/step - loss: 0.3491 - accuracy: 0.8502 - val_loss: 0.3712 - val_accuracy: 0.8372\n",
      "Epoch 52/100\n",
      "536/536 [==============================] - 1s 3ms/step - loss: 0.3489 - accuracy: 0.8498 - val_loss: 0.3712 - val_accuracy: 0.8376\n",
      "Epoch 53/100\n",
      "536/536 [==============================] - 1s 3ms/step - loss: 0.3485 - accuracy: 0.8505 - val_loss: 0.3712 - val_accuracy: 0.8364\n",
      "Epoch 54/100\n",
      "536/536 [==============================] - 1s 3ms/step - loss: 0.3481 - accuracy: 0.8515 - val_loss: 0.3710 - val_accuracy: 0.8372\n",
      "Epoch 55/100\n",
      "536/536 [==============================] - 1s 3ms/step - loss: 0.3477 - accuracy: 0.8524 - val_loss: 0.3710 - val_accuracy: 0.8360\n",
      "Epoch 56/100\n",
      "536/536 [==============================] - 1s 3ms/step - loss: 0.3475 - accuracy: 0.8518 - val_loss: 0.3708 - val_accuracy: 0.8372\n",
      "Epoch 57/100\n",
      "536/536 [==============================] - 1s 3ms/step - loss: 0.3473 - accuracy: 0.8517 - val_loss: 0.3707 - val_accuracy: 0.8353\n"
     ]
    },
    {
     "name": "stdout",
     "output_type": "stream",
     "text": [
      "Epoch 58/100\n",
      "536/536 [==============================] - 1s 3ms/step - loss: 0.3469 - accuracy: 0.8507 - val_loss: 0.3704 - val_accuracy: 0.8368\n",
      "Epoch 59/100\n",
      "536/536 [==============================] - 1s 3ms/step - loss: 0.3467 - accuracy: 0.8515 - val_loss: 0.3704 - val_accuracy: 0.8391\n",
      "Epoch 60/100\n",
      "536/536 [==============================] - 1s 3ms/step - loss: 0.3465 - accuracy: 0.8520 - val_loss: 0.3705 - val_accuracy: 0.8360\n",
      "Epoch 61/100\n",
      "536/536 [==============================] - 1s 3ms/step - loss: 0.3464 - accuracy: 0.8520 - val_loss: 0.3703 - val_accuracy: 0.8372\n",
      "Epoch 62/100\n",
      "536/536 [==============================] - 1s 3ms/step - loss: 0.3461 - accuracy: 0.8517 - val_loss: 0.3701 - val_accuracy: 0.8383\n",
      "Epoch 63/100\n",
      "536/536 [==============================] - 1s 3ms/step - loss: 0.3459 - accuracy: 0.8522 - val_loss: 0.3701 - val_accuracy: 0.8387\n",
      "Epoch 64/100\n",
      "536/536 [==============================] - 1s 3ms/step - loss: 0.3457 - accuracy: 0.8517 - val_loss: 0.3701 - val_accuracy: 0.8383\n",
      "Epoch 65/100\n",
      "536/536 [==============================] - 1s 3ms/step - loss: 0.3455 - accuracy: 0.8531 - val_loss: 0.3702 - val_accuracy: 0.8379\n",
      "Epoch 66/100\n",
      "536/536 [==============================] - 1s 3ms/step - loss: 0.3453 - accuracy: 0.8526 - val_loss: 0.3701 - val_accuracy: 0.8376\n",
      "Epoch 67/100\n",
      "536/536 [==============================] - 1s 3ms/step - loss: 0.3448 - accuracy: 0.8530 - val_loss: 0.3707 - val_accuracy: 0.8342\n",
      "Epoch 68/100\n",
      "536/536 [==============================] - 1s 3ms/step - loss: 0.3450 - accuracy: 0.8520 - val_loss: 0.3699 - val_accuracy: 0.8387\n",
      "Epoch 69/100\n",
      "536/536 [==============================] - 1s 3ms/step - loss: 0.3447 - accuracy: 0.8537 - val_loss: 0.3699 - val_accuracy: 0.8395\n",
      "Epoch 70/100\n",
      "536/536 [==============================] - 1s 3ms/step - loss: 0.3445 - accuracy: 0.8528 - val_loss: 0.3700 - val_accuracy: 0.8383\n",
      "Epoch 71/100\n",
      "536/536 [==============================] - 1s 3ms/step - loss: 0.3442 - accuracy: 0.8531 - val_loss: 0.3696 - val_accuracy: 0.8391\n",
      "Epoch 72/100\n",
      "536/536 [==============================] - 1s 3ms/step - loss: 0.3440 - accuracy: 0.8526 - val_loss: 0.3696 - val_accuracy: 0.8391\n",
      "Epoch 73/100\n",
      "536/536 [==============================] - 1s 3ms/step - loss: 0.3438 - accuracy: 0.8524 - val_loss: 0.3699 - val_accuracy: 0.8364\n",
      "Epoch 74/100\n",
      "536/536 [==============================] - 1s 3ms/step - loss: 0.3436 - accuracy: 0.8537 - val_loss: 0.3694 - val_accuracy: 0.8398\n",
      "Epoch 75/100\n",
      "536/536 [==============================] - 1s 3ms/step - loss: 0.3434 - accuracy: 0.8541 - val_loss: 0.3692 - val_accuracy: 0.8383\n",
      "Epoch 76/100\n",
      "536/536 [==============================] - 1s 3ms/step - loss: 0.3431 - accuracy: 0.8518 - val_loss: 0.3691 - val_accuracy: 0.8391\n",
      "Epoch 77/100\n",
      "536/536 [==============================] - 1s 3ms/step - loss: 0.3430 - accuracy: 0.8531 - val_loss: 0.3690 - val_accuracy: 0.8395\n",
      "Epoch 78/100\n",
      "536/536 [==============================] - 1s 3ms/step - loss: 0.3428 - accuracy: 0.8526 - val_loss: 0.3690 - val_accuracy: 0.8395\n",
      "Epoch 79/100\n",
      "536/536 [==============================] - 1s 3ms/step - loss: 0.3427 - accuracy: 0.8541 - val_loss: 0.3687 - val_accuracy: 0.8398\n",
      "Epoch 80/100\n",
      "536/536 [==============================] - 1s 3ms/step - loss: 0.3426 - accuracy: 0.8535 - val_loss: 0.3688 - val_accuracy: 0.8395\n",
      "Epoch 81/100\n",
      "536/536 [==============================] - 1s 3ms/step - loss: 0.3423 - accuracy: 0.8533 - val_loss: 0.3686 - val_accuracy: 0.8406\n",
      "Epoch 82/100\n",
      "536/536 [==============================] - 1s 3ms/step - loss: 0.3421 - accuracy: 0.8533 - val_loss: 0.3685 - val_accuracy: 0.8379\n",
      "Epoch 83/100\n",
      "536/536 [==============================] - 1s 3ms/step - loss: 0.3421 - accuracy: 0.8535 - val_loss: 0.3684 - val_accuracy: 0.8395\n",
      "Epoch 84/100\n",
      "536/536 [==============================] - 1s 3ms/step - loss: 0.3418 - accuracy: 0.8537 - val_loss: 0.3685 - val_accuracy: 0.8372\n",
      "Epoch 85/100\n",
      "536/536 [==============================] - 1s 3ms/step - loss: 0.3418 - accuracy: 0.8530 - val_loss: 0.3685 - val_accuracy: 0.8376\n",
      "Epoch 86/100\n",
      "536/536 [==============================] - 1s 3ms/step - loss: 0.3416 - accuracy: 0.8533 - val_loss: 0.3686 - val_accuracy: 0.8383\n",
      "Epoch 87/100\n",
      "536/536 [==============================] - 1s 3ms/step - loss: 0.3414 - accuracy: 0.8535 - val_loss: 0.3683 - val_accuracy: 0.8383\n",
      "Epoch 88/100\n",
      "536/536 [==============================] - 1s 3ms/step - loss: 0.3413 - accuracy: 0.8561 - val_loss: 0.3683 - val_accuracy: 0.8395\n",
      "Epoch 89/100\n",
      "536/536 [==============================] - 1s 3ms/step - loss: 0.3410 - accuracy: 0.8541 - val_loss: 0.3682 - val_accuracy: 0.8395\n",
      "Epoch 90/100\n",
      "536/536 [==============================] - 1s 3ms/step - loss: 0.3409 - accuracy: 0.8545 - val_loss: 0.3681 - val_accuracy: 0.8421\n",
      "Epoch 91/100\n",
      "536/536 [==============================] - 1s 3ms/step - loss: 0.3407 - accuracy: 0.8546 - val_loss: 0.3679 - val_accuracy: 0.8398\n",
      "Epoch 92/100\n",
      "536/536 [==============================] - 1s 3ms/step - loss: 0.3406 - accuracy: 0.8548 - val_loss: 0.3678 - val_accuracy: 0.8421\n",
      "Epoch 93/100\n",
      "536/536 [==============================] - 1s 3ms/step - loss: 0.3406 - accuracy: 0.8552 - val_loss: 0.3680 - val_accuracy: 0.8432\n",
      "Epoch 94/100\n",
      "536/536 [==============================] - 1s 3ms/step - loss: 0.3404 - accuracy: 0.8559 - val_loss: 0.3677 - val_accuracy: 0.8413\n",
      "Epoch 95/100\n",
      "536/536 [==============================] - 1s 3ms/step - loss: 0.3402 - accuracy: 0.8554 - val_loss: 0.3679 - val_accuracy: 0.8436\n",
      "Epoch 96/100\n",
      "536/536 [==============================] - 1s 3ms/step - loss: 0.3400 - accuracy: 0.8550 - val_loss: 0.3679 - val_accuracy: 0.8429\n",
      "Epoch 97/100\n",
      "536/536 [==============================] - 1s 3ms/step - loss: 0.3400 - accuracy: 0.8559 - val_loss: 0.3676 - val_accuracy: 0.8413\n",
      "Epoch 98/100\n",
      "536/536 [==============================] - 1s 3ms/step - loss: 0.3397 - accuracy: 0.8569 - val_loss: 0.3678 - val_accuracy: 0.8432\n",
      "Epoch 99/100\n",
      "536/536 [==============================] - 1s 3ms/step - loss: 0.3393 - accuracy: 0.8572 - val_loss: 0.3678 - val_accuracy: 0.8444\n",
      "Epoch 100/100\n",
      "536/536 [==============================] - 1s 3ms/step - loss: 0.3395 - accuracy: 0.8569 - val_loss: 0.3678 - val_accuracy: 0.8421\n"
     ]
    }
   ],
   "source": [
    "model_history=classifier.fit(X_train, y_train,validation_split=0.33, batch_size = 10, epochs = 100)"
   ]
  },
  {
   "cell_type": "code",
   "execution_count": 42,
   "id": "84dfd5f1",
   "metadata": {},
   "outputs": [
    {
     "name": "stdout",
     "output_type": "stream",
     "text": [
      "dict_keys(['loss', 'accuracy', 'val_loss', 'val_accuracy'])\n"
     ]
    }
   ],
   "source": [
    "print(model_history.history.keys())"
   ]
  },
  {
   "cell_type": "code",
   "execution_count": 45,
   "id": "dc5414da",
   "metadata": {},
   "outputs": [
    {
     "data": {
      "image/png": "[encoded data removed]",
      "text/plain": [
       "<Figure size 640x480 with 1 Axes>"
      ]
     },
     "metadata": {},
     "output_type": "display_data"
    }
   ],
   "source": [
    "plt.plot(model_history.history['accuracy'])\n",
    "plt.plot(model_history.history['val_accuracy'])\n",
    "plt.title('model accuracy')\n",
    "plt.ylabel('accuracy')\n",
    "plt.xlabel('epoch')\n",
    "plt.legend(['train', 'test'], loc='upper left')\n",
    "plt.show()"
   ]
  },
  {
   "cell_type": "code",
   "execution_count": 46,
   "id": "40a357b0",
   "metadata": {},
   "outputs": [
    {
     "data": {
      "image/png": "[encoded data removed]",
      "text/plain": [
       "<Figure size 640x480 with 1 Axes>"
      ]
     },
     "metadata": {},
     "output_type": "display_data"
    }
   ],
   "source": [
    "plt.plot(model_history.history['loss'])\n",
    "plt.plot(model_history.history['val_loss'])\n",
    "plt.title('model loss')\n",
    "plt.ylabel('loss')\n",
    "plt.xlabel('epoch')\n",
    "plt.legend(['train', 'test'], loc='upper left')\n",
    "plt.show()"
   ]
  },
  {
   "cell_type": "code",
   "execution_count": 47,
   "id": "f3825188",
   "metadata": {},
   "outputs": [
    {
     "name": "stdout",
     "output_type": "stream",
     "text": [
      "63/63 [==============================] - 0s 1ms/step\n"
     ]
    }
   ],
   "source": [
    "y_pred = classifier.predict(X_test)\n",
    "y_pred = (y_pred > 0.5)\n",
    "\n",
    "from sklearn.metrics import confusion_matrix\n",
    "cm = confusion_matrix(y_test, y_pred)\n",
    "\n",
    "from sklearn.metrics import accuracy_score\n",
    "score=accuracy_score(y_pred,y_test)\n"
   ]
  },
  {
   "cell_type": "code",
   "execution_count": 48,
   "id": "fe8244c9",
   "metadata": {},
   "outputs": [
    {
     "data": {
      "text/plain": [
       "0.8605"
      ]
     },
     "execution_count": 48,
     "metadata": {},
     "output_type": "execute_result"
    }
   ],
   "source": [
    "score"
   ]
  },
  {
   "cell_type": "code",
   "execution_count": null,
   "id": "c333a23b",
   "metadata": {},
   "outputs": [],
   "source": []
  }
 ],
 "metadata": {
  "kernelspec": {
   "display_name": "Python 3 (ipykernel)",
   "language": "python",
   "name": "python3"
  },
  "language_info": {
   "codemirror_mode": {
    "name": "ipython",
    "version": 3
   },
   "file_extension": ".py",
   "mimetype": "text/x-python",
   "name": "python",
   "nbconvert_exporter": "python",
   "pygments_lexer": "ipython3",
   "version": "3.7.15"
  }
 },
 "nbformat": 4,
 "nbformat_minor": 5
}
