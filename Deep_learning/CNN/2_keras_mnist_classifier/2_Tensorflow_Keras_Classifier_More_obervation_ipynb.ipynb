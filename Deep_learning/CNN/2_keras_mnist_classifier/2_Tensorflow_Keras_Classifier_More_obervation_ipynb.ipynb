{
  "nbformat": 4,
  "nbformat_minor": 0,
  "metadata": {
    "kernelspec": {
      "display_name": "Python 3",
      "language": "python",
      "name": "python3"
    },
    "language_info": {
      "codemirror_mode": {
        "name": "ipython",
        "version": 3
      },
      "file_extension": ".py",
      "mimetype": "text/x-python",
      "name": "python",
      "nbconvert_exporter": "python",
      "pygments_lexer": "ipython3",
      "version": "3.7.9"
    },
    "colab": {
      "name": "2 Tensorflow_Keras_Classifier_More_obervation ipynb",
      "provenance": [],
      "collapsed_sections": [
        "VQPHM-DwT1B9",
        "3WlLdDzET1B-"
      ],
      "include_colab_link": true
    },
    "accelerator": "GPU"
  },
  "cells": [
    {
      "cell_type": "markdown",
      "metadata": {
        "id": "view-in-github",
        "colab_type": "text"
      },
      "source": [
        "<a href=\"https://colab.research.google.com/github/Dhiyanesh-babu/Deep-Learning-Algorithms/blob/main/2_Tensorflow_Keras_Classifier_More_obervation_ipynb.ipynb\" target=\"_parent\"><img src=\"https://colab.research.google.com/assets/colab-badge.svg\" alt=\"Open In Colab\"/></a>"
      ]
    },
    {
      "cell_type": "code",
      "metadata": {
        "id": "deqLTYe4T1Am"
      },
      "source": [
        "# Verify installation - \n",
        "import tensorflow as tf"
      ],
      "execution_count": 2,
      "outputs": []
    },
    {
      "cell_type": "code",
      "metadata": {
        "id": "ojSPnupYT1Aw",
        "colab": {
          "base_uri": "https://localhost:8080/"
        },
        "outputId": "f2c3ee42-aa11-434d-8808-289f970f1286"
      },
      "source": [
        "print(f\"Tensorflow Version: {tf.__version__}\")\n",
        "print(f\"Keras Version: {tf.keras.__version__}\")"
      ],
      "execution_count": 2,
      "outputs": [
        {
          "output_type": "stream",
          "name": "stdout",
          "text": [
            "Tensorflow Version: 2.7.0\n",
            "Keras Version: 2.7.0\n"
          ]
        }
      ]
    },
    {
      "cell_type": "markdown",
      "metadata": {
        "id": "NbuiMpcxT1A8"
      },
      "source": [
        "### GPU/CPU Check"
      ]
    },
    {
      "cell_type": "code",
      "metadata": {
        "scrolled": true,
        "id": "kfdsjkrlT1A-",
        "colab": {
          "base_uri": "https://localhost:8080/"
        },
        "outputId": "920becb7-676e-4ba5-cda2-935126eb83c8"
      },
      "source": [
        "tf.config.list_physical_devices('GPU')"
      ],
      "execution_count": 4,
      "outputs": [
        {
          "output_type": "execute_result",
          "data": {
            "text/plain": [
              "[PhysicalDevice(name='/physical_device:GPU:0', device_type='GPU')]"
            ]
          },
          "metadata": {},
          "execution_count": 4
        }
      ]
    },
    {
      "cell_type": "code",
      "metadata": {
        "id": "BrJOgcJsT1BF",
        "colab": {
          "base_uri": "https://localhost:8080/"
        },
        "outputId": "c0cfd97b-27bc-47b2-e469-b41fa908ab5e"
      },
      "source": [
        "tf.config.list_physical_devices('CPU')"
      ],
      "execution_count": 5,
      "outputs": [
        {
          "output_type": "execute_result",
          "data": {
            "text/plain": [
              "[PhysicalDevice(name='/physical_device:CPU:0', device_type='CPU')]"
            ]
          },
          "metadata": {},
          "execution_count": 5
        }
      ]
    },
    {
      "cell_type": "code",
      "metadata": {
        "id": "oWgQL00sT1BL",
        "colab": {
          "base_uri": "https://localhost:8080/"
        },
        "outputId": "a3011f66-00eb-4273-c61c-35bddc77a77f"
      },
      "source": [
        "CheckList = [\"GPU\", \"CPU\"]\n",
        "for device in CheckList:\n",
        "    out_ = tf.config.list_physical_devices(device)    \n",
        "    if len(out_) > 0:\n",
        "        print(f\"{device} is available\")        \n",
        "        print(\"details\\n\",out_)\n",
        "    else:\n",
        "        print(f\"{device} not available\")"
      ],
      "execution_count": 6,
      "outputs": [
        {
          "output_type": "stream",
          "name": "stdout",
          "text": [
            "GPU is available\n",
            "details\n",
            " [PhysicalDevice(name='/physical_device:GPU:0', device_type='GPU')]\n",
            "CPU is available\n",
            "details\n",
            " [PhysicalDevice(name='/physical_device:CPU:0', device_type='CPU')]\n"
          ]
        }
      ]
    },
    {
      "cell_type": "markdown",
      "metadata": {
        "id": "WLXo-zKVT1BP"
      },
      "source": [
        "## A simple classifier using Keras's Sequential API"
      ]
    },
    {
      "cell_type": "code",
      "metadata": {
        "id": "fjDK1fu5T1BR"
      },
      "source": [
        "import numpy as np\n",
        "import matplotlib.pyplot as plt\n",
        "import pandas as pd\n",
        "import os\n",
        "import tensorflow as tf\n",
        "import seaborn as sns"
      ],
      "execution_count": 7,
      "outputs": []
    },
    {
      "cell_type": "markdown",
      "metadata": {
        "id": "Qlc3DlXAT1BW"
      },
      "source": [
        "### Working on mnist dataset - \n",
        "\n",
        "* This dataset contains handwritten digits. \n",
        "* It has 10 classes i.e. 0 to 9\n",
        "* Each data point is 2D array of 28x28 size.\n",
        "* Also known as hello world dataset for ANN\n",
        "\n"
      ]
    },
    {
      "cell_type": "code",
      "metadata": {
        "id": "oUX64PRkT1BW",
        "colab": {
          "base_uri": "https://localhost:8080/"
        },
        "outputId": "e6ee88ec-7568-4fba-b68a-844176d3e7e7"
      },
      "source": [
        "# Keras has already contains mnist dataset \n",
        "# Loading mnist data using Keras\n",
        "\n",
        "mnist = tf.keras.datasets.mnist\n",
        "(X_train_full, y_train_full), (X_test, y_test) = mnist.load_data()"
      ],
      "execution_count": 8,
      "outputs": [
        {
          "output_type": "stream",
          "name": "stdout",
          "text": [
            "Downloading data from https://storage.googleapis.com/tensorflow/tf-keras-datasets/mnist.npz\n",
            "11493376/11490434 [==============================] - 0s 0us/step\n",
            "11501568/11490434 [==============================] - 0s 0us/step\n"
          ]
        }
      ]
    },
    {
      "cell_type": "code",
      "metadata": {
        "id": "UCb1hhLiT1Bc",
        "colab": {
          "base_uri": "https://localhost:8080/"
        },
        "outputId": "1feb5e51-3ca2-4d31-ae12-f4c08da1ac31"
      },
      "source": [
        "print(f\"data type of X_train_full: {X_train_full.dtype},\\nshape of X_train_full: {X_train_full.shape}\")"
      ],
      "execution_count": 9,
      "outputs": [
        {
          "output_type": "stream",
          "name": "stdout",
          "text": [
            "data type of X_train_full: uint8,\n",
            "shape of X_train_full: (60000, 28, 28)\n"
          ]
        }
      ]
    },
    {
      "cell_type": "code",
      "metadata": {
        "id": "ZTO5K8x7T1Bk"
      },
      "source": [
        "# create a validation data set from the full training data \n",
        "# Scale the data between 0 to 1 by dividing it by 255. as its an unsigned data between 0-255 range\n",
        "X_valid, X_train = X_train_full[:5000] / 255., X_train_full[5000:] / 255.\n",
        "y_valid, y_train = y_train_full[:5000], y_train_full[5000:]\n",
        "\n",
        "# scale the test set as well\n",
        "X_test = X_test / 255.\n",
        "\n"
      ],
      "execution_count": 10,
      "outputs": []
    },
    {
      "cell_type": "code",
      "metadata": {
        "id": "CavNIdoaT1Bp",
        "colab": {
          "base_uri": "https://localhost:8080/",
          "height": 248
        },
        "outputId": "407da877-57d2-44ab-eb32-89af13b33a46"
      },
      "source": [
        "# lets view the first data point of X_train\n",
        "plt.imshow(X_train[0], cmap=\"binary\")\n",
        "plt.axis('off')\n",
        "plt.show()\n"
      ],
      "execution_count": 11,
      "outputs": [
        {
          "output_type": "display_data",
          "data": {
            "image/png": "[encoded data removed]",
            "text/plain": [
              "<Figure size 432x288 with 1 Axes>"
            ]
          },
          "metadata": {
            "needs_background": "light"
          }
        }
      ]
    },
    {
      "cell_type": "code",
      "metadata": {
        "id": "NbtIMpuZT1Bu",
        "colab": {
          "base_uri": "https://localhost:8080/",
          "height": 880
        },
        "outputId": "3ae1fad0-4620-4ce6-eca0-9e1fdb494ee1"
      },
      "source": [
        "plt.figure(figsize=(15,15))\n",
        "sns.heatmap(X_train[0], annot=True, cmap=\"binary\")"
      ],
      "execution_count": 12,
      "outputs": [
        {
          "output_type": "execute_result",
          "data": {
            "text/plain": [
              "<matplotlib.axes._subplots.AxesSubplot at 0x7f3bf29017d0>"
            ]
          },
          "metadata": {},
          "execution_count": 12
        },
        {
          "output_type": "display_data",
          "data": {
            "image/png": "[encoded data removed]",
            "text/plain": [
              "<Figure size 1080x1080 with 2 Axes>"
            ]
          },
          "metadata": {
            "needs_background": "light"
          }
        }
      ]
    },
    {
      "cell_type": "code",
      "metadata": {
        "id": "DTUr2xheT1B0",
        "colab": {
          "base_uri": "https://localhost:8080/"
        },
        "outputId": "5493aca8-ce5e-4173-d4d2-5fd792acbb6a"
      },
      "source": [
        "# actual value of y_train\n",
        "y_train[0]"
      ],
      "execution_count": 13,
      "outputs": [
        {
          "output_type": "execute_result",
          "data": {
            "text/plain": [
              "7"
            ]
          },
          "metadata": {},
          "execution_count": 13
        }
      ]
    },
    {
      "cell_type": "code",
      "metadata": {
        "id": "k2BX3qEiT1B5"
      },
      "source": [
        "LAYERS = [tf.keras.layers.Flatten(input_shape=[28, 28], name=\"inputLayer\"),\n",
        "          tf.keras.layers.Dense(300, activation=\"relu\", name=\"hiddenLayer1\"),\n",
        "          tf.keras.layers.Dense(100, activation=\"relu\", name=\"hiddenLayer2\"),\n",
        "          tf.keras.layers.Dense(10, activation=\"softmax\", name=\"outputLayer\")]\n",
        "\n",
        "model_clf = tf.keras.models.Sequential(LAYERS)"
      ],
      "execution_count": 14,
      "outputs": []
    },
    {
      "cell_type": "markdown",
      "metadata": {
        "id": "VQPHM-DwT1B9"
      },
      "source": [
        "#### Altenative 1\n",
        "\n",
        "```python\n",
        "model = tf.keras.models.Sequential()\n",
        "model.add(tf.keras.layers.Flatten(input_shape=[28, 28]))\n",
        "model.add(tf.keras.layers.Dense(300, activation=\"relu\"))\n",
        "model.add(tf.keras.layers.Dense(100, activation=\"relu\"))\n",
        "model.add(tf.keras.layers.Dense(10, activation=\"softmax\"))\n",
        "\n",
        "```"
      ]
    },
    {
      "cell_type": "markdown",
      "metadata": {
        "id": "3WlLdDzET1B-"
      },
      "source": [
        "#### Alternative 2\n",
        "\n",
        "```python\n",
        "model = tf.keras.models.Sequential([\n",
        "    tf.keras.layers.Flatten(input_shape=[28, 28]),\n",
        "    tf.keras.layers.Dense(300, activation=\"relu\"),\n",
        "    tf.keras.layers.Dense(100, activation=\"relu\"),\n",
        "    tf.keras.layers.Dense(10, activation=\"softmax\")\n",
        "])\n",
        "```"
      ]
    },
    {
      "cell_type": "markdown",
      "metadata": {
        "id": "VGe8cja-T1B-"
      },
      "source": [
        "### For custom weights initialiser or setting weights \n",
        "refer [here](https://keras.io/api/layers/base_layer/#setweights-method)"
      ]
    },
    {
      "cell_type": "code",
      "metadata": {
        "id": "sA9wBfw_T1B_",
        "colab": {
          "base_uri": "https://localhost:8080/"
        },
        "outputId": "ea09380e-1363-41d2-9077-a5e3acdc7fae"
      },
      "source": [
        "model_clf.layers"
      ],
      "execution_count": 16,
      "outputs": [
        {
          "output_type": "execute_result",
          "data": {
            "text/plain": [
              "[<keras.layers.core.flatten.Flatten at 0x7f3be9b60e10>,\n",
              " <keras.layers.core.dense.Dense at 0x7f3bf29b4590>,\n",
              " <keras.layers.core.dense.Dense at 0x7f3c6030b610>,\n",
              " <keras.layers.core.dense.Dense at 0x7f3bf296cd90>]"
            ]
          },
          "metadata": {},
          "execution_count": 16
        }
      ]
    },
    {
      "cell_type": "code",
      "metadata": {
        "id": "JluBwQFVT1CD",
        "colab": {
          "base_uri": "https://localhost:8080/"
        },
        "outputId": "93703c7a-53ce-4a8a-cbf3-2b8f2a9a9d34"
      },
      "source": [
        "model_clf.summary()"
      ],
      "execution_count": 17,
      "outputs": [
        {
          "output_type": "stream",
          "name": "stdout",
          "text": [
            "Model: \"sequential\"\n",
            "_________________________________________________________________\n",
            " Layer (type)                Output Shape              Param #   \n",
            "=================================================================\n",
            " inputLayer (Flatten)        (None, 784)               0         \n",
            "                                                                 \n",
            " hiddenLayer1 (Dense)        (None, 300)               235500    \n",
            "                                                                 \n",
            " hiddenLayer2 (Dense)        (None, 100)               30100     \n",
            "                                                                 \n",
            " outputLayer (Dense)         (None, 10)                1010      \n",
            "                                                                 \n",
            "=================================================================\n",
            "Total params: 266,610\n",
            "Trainable params: 266,610\n",
            "Non-trainable params: 0\n",
            "_________________________________________________________________\n"
          ]
        }
      ]
    },
    {
      "cell_type": "code",
      "metadata": {
        "id": "lh2tYK0fT1CJ",
        "colab": {
          "base_uri": "https://localhost:8080/"
        },
        "outputId": "5a53156a-2478-4cc3-b3d0-32472c6f18b6"
      },
      "source": [
        "# firsLayer * secondLayer + bias\n",
        "784*300 + 300, 300*100+100, 100*10+10"
      ],
      "execution_count": 18,
      "outputs": [
        {
          "output_type": "execute_result",
          "data": {
            "text/plain": [
              "(235500, 30100, 1010)"
            ]
          },
          "metadata": {},
          "execution_count": 18
        }
      ]
    },
    {
      "cell_type": "code",
      "metadata": {
        "id": "y5xbBd9dT1CO",
        "colab": {
          "base_uri": "https://localhost:8080/"
        },
        "outputId": "d0581e68-8eca-4138-955c-da420a9a8022"
      },
      "source": [
        "# Total parameters to be trained -\n",
        "sum((235500, 30100, 1010))"
      ],
      "execution_count": 19,
      "outputs": [
        {
          "output_type": "execute_result",
          "data": {
            "text/plain": [
              "266610"
            ]
          },
          "metadata": {},
          "execution_count": 19
        }
      ]
    },
    {
      "cell_type": "code",
      "metadata": {
        "id": "sV2F7E6ET1CT",
        "colab": {
          "base_uri": "https://localhost:8080/",
          "height": 35
        },
        "outputId": "0f99ca1b-0138-4929-c03e-e2a52b33452b"
      },
      "source": [
        "hidden1 = model_clf.layers[1]\n",
        "hidden1.name"
      ],
      "execution_count": 20,
      "outputs": [
        {
          "output_type": "execute_result",
          "data": {
            "application/vnd.google.colaboratory.intrinsic+json": {
              "type": "string"
            },
            "text/plain": [
              "'hiddenLayer1'"
            ]
          },
          "metadata": {},
          "execution_count": 20
        }
      ]
    },
    {
      "cell_type": "code",
      "metadata": {
        "id": "E44TYmE-T1Ca",
        "colab": {
          "base_uri": "https://localhost:8080/"
        },
        "outputId": "23775a6d-d29c-40c5-f848-b1b12063810d"
      },
      "source": [
        "model_clf.get_layer(hidden1.name) is hidden1"
      ],
      "execution_count": 21,
      "outputs": [
        {
          "output_type": "execute_result",
          "data": {
            "text/plain": [
              "True"
            ]
          },
          "metadata": {},
          "execution_count": 21
        }
      ]
    },
    {
      "cell_type": "code",
      "metadata": {
        "id": "zIovwIogT1Cg"
      },
      "source": [
        "# hidden1.set_weights(hidden1.get_weights()) # to set weights"
      ],
      "execution_count": 22,
      "outputs": []
    },
    {
      "cell_type": "code",
      "metadata": {
        "id": "8ZTodjmCT1Ck",
        "colab": {
          "base_uri": "https://localhost:8080/"
        },
        "outputId": "453529ae-3983-49aa-dadb-fb734ad62460"
      },
      "source": [
        "type(hidden1.get_weights())"
      ],
      "execution_count": 23,
      "outputs": [
        {
          "output_type": "execute_result",
          "data": {
            "text/plain": [
              "list"
            ]
          },
          "metadata": {},
          "execution_count": 23
        }
      ]
    },
    {
      "cell_type": "code",
      "metadata": {
        "id": "FaU9U8QfT1Cp",
        "colab": {
          "base_uri": "https://localhost:8080/"
        },
        "outputId": "4d2410c2-cd61-4983-bc76-f75bbd938eb9"
      },
      "source": [
        "hidden1.get_weights()"
      ],
      "execution_count": 24,
      "outputs": [
        {
          "output_type": "execute_result",
          "data": {
            "text/plain": [
              "[array([[ 0.0452676 ,  0.04989208, -0.04682188, ..., -0.04521696,\n",
              "          0.00176052, -0.04816682],\n",
              "        [ 0.04564749, -0.05505855, -0.0178854 , ..., -0.03083701,\n",
              "         -0.03695668,  0.02457874],\n",
              "        [ 0.04014561, -0.01988493, -0.07124306, ...,  0.07050163,\n",
              "          0.05811343, -0.03971465],\n",
              "        ...,\n",
              "        [-0.07382381, -0.02505424,  0.02931929, ...,  0.05209315,\n",
              "          0.07092619,  0.0446701 ],\n",
              "        [ 0.01363436,  0.02927168,  0.06747192, ...,  0.04188503,\n",
              "         -0.01309266,  0.06732233],\n",
              "        [-0.0519803 ,  0.04022279, -0.01864417, ..., -0.04441568,\n",
              "         -0.01291532,  0.01955023]], dtype=float32),\n",
              " array([0., 0., 0., 0., 0., 0., 0., 0., 0., 0., 0., 0., 0., 0., 0., 0., 0.,\n",
              "        0., 0., 0., 0., 0., 0., 0., 0., 0., 0., 0., 0., 0., 0., 0., 0., 0.,\n",
              "        0., 0., 0., 0., 0., 0., 0., 0., 0., 0., 0., 0., 0., 0., 0., 0., 0.,\n",
              "        0., 0., 0., 0., 0., 0., 0., 0., 0., 0., 0., 0., 0., 0., 0., 0., 0.,\n",
              "        0., 0., 0., 0., 0., 0., 0., 0., 0., 0., 0., 0., 0., 0., 0., 0., 0.,\n",
              "        0., 0., 0., 0., 0., 0., 0., 0., 0., 0., 0., 0., 0., 0., 0., 0., 0.,\n",
              "        0., 0., 0., 0., 0., 0., 0., 0., 0., 0., 0., 0., 0., 0., 0., 0., 0.,\n",
              "        0., 0., 0., 0., 0., 0., 0., 0., 0., 0., 0., 0., 0., 0., 0., 0., 0.,\n",
              "        0., 0., 0., 0., 0., 0., 0., 0., 0., 0., 0., 0., 0., 0., 0., 0., 0.,\n",
              "        0., 0., 0., 0., 0., 0., 0., 0., 0., 0., 0., 0., 0., 0., 0., 0., 0.,\n",
              "        0., 0., 0., 0., 0., 0., 0., 0., 0., 0., 0., 0., 0., 0., 0., 0., 0.,\n",
              "        0., 0., 0., 0., 0., 0., 0., 0., 0., 0., 0., 0., 0., 0., 0., 0., 0.,\n",
              "        0., 0., 0., 0., 0., 0., 0., 0., 0., 0., 0., 0., 0., 0., 0., 0., 0.,\n",
              "        0., 0., 0., 0., 0., 0., 0., 0., 0., 0., 0., 0., 0., 0., 0., 0., 0.,\n",
              "        0., 0., 0., 0., 0., 0., 0., 0., 0., 0., 0., 0., 0., 0., 0., 0., 0.,\n",
              "        0., 0., 0., 0., 0., 0., 0., 0., 0., 0., 0., 0., 0., 0., 0., 0., 0.,\n",
              "        0., 0., 0., 0., 0., 0., 0., 0., 0., 0., 0., 0., 0., 0., 0., 0., 0.,\n",
              "        0., 0., 0., 0., 0., 0., 0., 0., 0., 0., 0.], dtype=float32)]"
            ]
          },
          "metadata": {},
          "execution_count": 24
        }
      ]
    },
    {
      "cell_type": "code",
      "metadata": {
        "id": "AvWqAyD3T1Cx"
      },
      "source": [
        "weights, biases = hidden1.get_weights()"
      ],
      "execution_count": 25,
      "outputs": []
    },
    {
      "cell_type": "code",
      "metadata": {
        "id": "jsDl3Cs2T1C3",
        "colab": {
          "base_uri": "https://localhost:8080/"
        },
        "outputId": "3b5327e1-4d8d-42cb-d289-21990b1735bb"
      },
      "source": [
        "print(\"shape\\n\",weights.shape, \"\\n\")\n",
        "\n",
        "weights\n"
      ],
      "execution_count": 26,
      "outputs": [
        {
          "output_type": "stream",
          "name": "stdout",
          "text": [
            "shape\n",
            " (784, 300) \n",
            "\n"
          ]
        },
        {
          "output_type": "execute_result",
          "data": {
            "text/plain": [
              "array([[ 0.0452676 ,  0.04989208, -0.04682188, ..., -0.04521696,\n",
              "         0.00176052, -0.04816682],\n",
              "       [ 0.04564749, -0.05505855, -0.0178854 , ..., -0.03083701,\n",
              "        -0.03695668,  0.02457874],\n",
              "       [ 0.04014561, -0.01988493, -0.07124306, ...,  0.07050163,\n",
              "         0.05811343, -0.03971465],\n",
              "       ...,\n",
              "       [-0.07382381, -0.02505424,  0.02931929, ...,  0.05209315,\n",
              "         0.07092619,  0.0446701 ],\n",
              "       [ 0.01363436,  0.02927168,  0.06747192, ...,  0.04188503,\n",
              "        -0.01309266,  0.06732233],\n",
              "       [-0.0519803 ,  0.04022279, -0.01864417, ..., -0.04441568,\n",
              "        -0.01291532,  0.01955023]], dtype=float32)"
            ]
          },
          "metadata": {},
          "execution_count": 26
        }
      ]
    },
    {
      "cell_type": "code",
      "metadata": {
        "id": "NFtn3qxuT1C7",
        "colab": {
          "base_uri": "https://localhost:8080/"
        },
        "outputId": "c6801e38-968a-492d-af62-a8f8b1a0c94b"
      },
      "source": [
        "print(\"shape\\n\", biases.shape)\n",
        "\n",
        "biases"
      ],
      "execution_count": 27,
      "outputs": [
        {
          "output_type": "stream",
          "name": "stdout",
          "text": [
            "shape\n",
            " (300,)\n"
          ]
        },
        {
          "output_type": "execute_result",
          "data": {
            "text/plain": [
              "array([0., 0., 0., 0., 0., 0., 0., 0., 0., 0., 0., 0., 0., 0., 0., 0., 0.,\n",
              "       0., 0., 0., 0., 0., 0., 0., 0., 0., 0., 0., 0., 0., 0., 0., 0., 0.,\n",
              "       0., 0., 0., 0., 0., 0., 0., 0., 0., 0., 0., 0., 0., 0., 0., 0., 0.,\n",
              "       0., 0., 0., 0., 0., 0., 0., 0., 0., 0., 0., 0., 0., 0., 0., 0., 0.,\n",
              "       0., 0., 0., 0., 0., 0., 0., 0., 0., 0., 0., 0., 0., 0., 0., 0., 0.,\n",
              "       0., 0., 0., 0., 0., 0., 0., 0., 0., 0., 0., 0., 0., 0., 0., 0., 0.,\n",
              "       0., 0., 0., 0., 0., 0., 0., 0., 0., 0., 0., 0., 0., 0., 0., 0., 0.,\n",
              "       0., 0., 0., 0., 0., 0., 0., 0., 0., 0., 0., 0., 0., 0., 0., 0., 0.,\n",
              "       0., 0., 0., 0., 0., 0., 0., 0., 0., 0., 0., 0., 0., 0., 0., 0., 0.,\n",
              "       0., 0., 0., 0., 0., 0., 0., 0., 0., 0., 0., 0., 0., 0., 0., 0., 0.,\n",
              "       0., 0., 0., 0., 0., 0., 0., 0., 0., 0., 0., 0., 0., 0., 0., 0., 0.,\n",
              "       0., 0., 0., 0., 0., 0., 0., 0., 0., 0., 0., 0., 0., 0., 0., 0., 0.,\n",
              "       0., 0., 0., 0., 0., 0., 0., 0., 0., 0., 0., 0., 0., 0., 0., 0., 0.,\n",
              "       0., 0., 0., 0., 0., 0., 0., 0., 0., 0., 0., 0., 0., 0., 0., 0., 0.,\n",
              "       0., 0., 0., 0., 0., 0., 0., 0., 0., 0., 0., 0., 0., 0., 0., 0., 0.,\n",
              "       0., 0., 0., 0., 0., 0., 0., 0., 0., 0., 0., 0., 0., 0., 0., 0., 0.,\n",
              "       0., 0., 0., 0., 0., 0., 0., 0., 0., 0., 0., 0., 0., 0., 0., 0., 0.,\n",
              "       0., 0., 0., 0., 0., 0., 0., 0., 0., 0., 0.], dtype=float32)"
            ]
          },
          "metadata": {},
          "execution_count": 27
        }
      ]
    },
    {
      "cell_type": "code",
      "metadata": {
        "id": "B0LyAwftT1C_"
      },
      "source": [
        "LOSS_FUNCTION = \"sparse_categorical_crossentropy\" # use => tf.losses.sparse_categorical_crossentropy\n",
        "OPTIMIZER = \"SGD\" # or use with custom learning rate=> tf.keras.optimizers.SGD(0.02)\n",
        "METRICS = [\"accuracy\"]\n",
        "\n",
        "model_clf.compile(loss=LOSS_FUNCTION,\n",
        "              optimizer=OPTIMIZER,\n",
        "              metrics=METRICS)\n",
        "\n"
      ],
      "execution_count": 28,
      "outputs": []
    },
    {
      "cell_type": "markdown",
      "metadata": {
        "id": "-U2yx-_hT1DF"
      },
      "source": [
        "#### Alternatively \n",
        "```python\n",
        "model_clf.compile(loss=tf.losses.sparse_categorical_crossentropy,\n",
        "               optimizer=tf.keras.optimizers.SGD(0.02),\n",
        "               metrics=[\"accuracy\"])\n",
        "```"
      ]
    },
    {
      "cell_type": "code",
      "metadata": {
        "id": "wCKQ0L6QT1DG"
      },
      "source": [
        "# 1719*30, X_train.shape, 55000/32, batch size=32 by default"
      ],
      "execution_count": 29,
      "outputs": []
    },
    {
      "cell_type": "code",
      "metadata": {
        "id": "EGIFIh7UT1DK",
        "colab": {
          "base_uri": "https://localhost:8080/"
        },
        "outputId": "208840e0-45fc-4336-c3ff-3dc5a874b687"
      },
      "source": [
        "EPOCHS = 30\n",
        "VALIDATION_SET = (X_valid, y_valid)\n",
        "\n",
        "history = model_clf.fit(X_train, y_train, epochs=EPOCHS,\n",
        "                    validation_data=VALIDATION_SET)\n"
      ],
      "execution_count": 30,
      "outputs": [
        {
          "output_type": "stream",
          "name": "stdout",
          "text": [
            "Epoch 1/30\n",
            "1719/1719 [==============================] - 8s 4ms/step - loss: 0.6017 - accuracy: 0.8477 - val_loss: 0.2987 - val_accuracy: 0.9176\n",
            "Epoch 2/30\n",
            "1719/1719 [==============================] - 6s 4ms/step - loss: 0.2839 - accuracy: 0.9188 - val_loss: 0.2319 - val_accuracy: 0.9356\n",
            "Epoch 3/30\n",
            "1719/1719 [==============================] - 7s 4ms/step - loss: 0.2322 - accuracy: 0.9343 - val_loss: 0.2018 - val_accuracy: 0.9436\n",
            "Epoch 4/30\n",
            "1719/1719 [==============================] - 6s 4ms/step - loss: 0.1986 - accuracy: 0.9443 - val_loss: 0.1763 - val_accuracy: 0.9520\n",
            "Epoch 5/30\n",
            "1719/1719 [==============================] - 6s 4ms/step - loss: 0.1733 - accuracy: 0.9508 - val_loss: 0.1549 - val_accuracy: 0.9570\n",
            "Epoch 6/30\n",
            "1719/1719 [==============================] - 6s 4ms/step - loss: 0.1533 - accuracy: 0.9564 - val_loss: 0.1427 - val_accuracy: 0.9612\n",
            "Epoch 7/30\n",
            "1719/1719 [==============================] - 6s 4ms/step - loss: 0.1373 - accuracy: 0.9612 - val_loss: 0.1290 - val_accuracy: 0.9640\n",
            "Epoch 8/30\n",
            "1719/1719 [==============================] - 7s 4ms/step - loss: 0.1241 - accuracy: 0.9650 - val_loss: 0.1192 - val_accuracy: 0.9678\n",
            "Epoch 9/30\n",
            "1719/1719 [==============================] - 6s 4ms/step - loss: 0.1130 - accuracy: 0.9675 - val_loss: 0.1110 - val_accuracy: 0.9696\n",
            "Epoch 10/30\n",
            "1719/1719 [==============================] - 6s 4ms/step - loss: 0.1031 - accuracy: 0.9707 - val_loss: 0.1060 - val_accuracy: 0.9700\n",
            "Epoch 11/30\n",
            "1719/1719 [==============================] - 6s 4ms/step - loss: 0.0952 - accuracy: 0.9733 - val_loss: 0.1000 - val_accuracy: 0.9726\n",
            "Epoch 12/30\n",
            "1719/1719 [==============================] - 6s 4ms/step - loss: 0.0877 - accuracy: 0.9752 - val_loss: 0.0976 - val_accuracy: 0.9734\n",
            "Epoch 13/30\n",
            "1719/1719 [==============================] - 7s 4ms/step - loss: 0.0812 - accuracy: 0.9772 - val_loss: 0.0932 - val_accuracy: 0.9746\n",
            "Epoch 14/30\n",
            "1719/1719 [==============================] - 6s 3ms/step - loss: 0.0757 - accuracy: 0.9787 - val_loss: 0.0886 - val_accuracy: 0.9748\n",
            "Epoch 15/30\n",
            "1719/1719 [==============================] - 6s 3ms/step - loss: 0.0705 - accuracy: 0.9806 - val_loss: 0.0868 - val_accuracy: 0.9752\n",
            "Epoch 16/30\n",
            "1719/1719 [==============================] - 6s 4ms/step - loss: 0.0657 - accuracy: 0.9816 - val_loss: 0.0858 - val_accuracy: 0.9754\n",
            "Epoch 17/30\n",
            "1719/1719 [==============================] - 6s 4ms/step - loss: 0.0616 - accuracy: 0.9832 - val_loss: 0.0800 - val_accuracy: 0.9776\n",
            "Epoch 18/30\n",
            "1719/1719 [==============================] - 6s 4ms/step - loss: 0.0580 - accuracy: 0.9842 - val_loss: 0.0792 - val_accuracy: 0.9776\n",
            "Epoch 19/30\n",
            "1719/1719 [==============================] - 6s 4ms/step - loss: 0.0545 - accuracy: 0.9854 - val_loss: 0.0797 - val_accuracy: 0.9762\n",
            "Epoch 20/30\n",
            "1719/1719 [==============================] - 6s 4ms/step - loss: 0.0511 - accuracy: 0.9864 - val_loss: 0.0760 - val_accuracy: 0.9776\n",
            "Epoch 21/30\n",
            "1719/1719 [==============================] - 6s 4ms/step - loss: 0.0483 - accuracy: 0.9874 - val_loss: 0.0750 - val_accuracy: 0.9790\n",
            "Epoch 22/30\n",
            "1719/1719 [==============================] - 7s 4ms/step - loss: 0.0452 - accuracy: 0.9882 - val_loss: 0.0734 - val_accuracy: 0.9788\n",
            "Epoch 23/30\n",
            "1719/1719 [==============================] - 6s 4ms/step - loss: 0.0427 - accuracy: 0.9891 - val_loss: 0.0734 - val_accuracy: 0.9776\n",
            "Epoch 24/30\n",
            "1719/1719 [==============================] - 6s 4ms/step - loss: 0.0404 - accuracy: 0.9895 - val_loss: 0.0776 - val_accuracy: 0.9772\n",
            "Epoch 25/30\n",
            "1719/1719 [==============================] - 7s 4ms/step - loss: 0.0381 - accuracy: 0.9903 - val_loss: 0.0720 - val_accuracy: 0.9790\n",
            "Epoch 26/30\n",
            "1719/1719 [==============================] - 6s 4ms/step - loss: 0.0359 - accuracy: 0.9911 - val_loss: 0.0714 - val_accuracy: 0.9796\n",
            "Epoch 27/30\n",
            "1719/1719 [==============================] - 6s 4ms/step - loss: 0.0340 - accuracy: 0.9916 - val_loss: 0.0710 - val_accuracy: 0.9790\n",
            "Epoch 28/30\n",
            "1719/1719 [==============================] - 6s 4ms/step - loss: 0.0321 - accuracy: 0.9922 - val_loss: 0.0709 - val_accuracy: 0.9796\n",
            "Epoch 29/30\n",
            "1719/1719 [==============================] - 6s 4ms/step - loss: 0.0302 - accuracy: 0.9928 - val_loss: 0.0710 - val_accuracy: 0.9802\n",
            "Epoch 30/30\n",
            "1719/1719 [==============================] - 6s 4ms/step - loss: 0.0288 - accuracy: 0.9936 - val_loss: 0.0685 - val_accuracy: 0.9808\n"
          ]
        }
      ]
    },
    {
      "cell_type": "code",
      "metadata": {
        "id": "DXMsCUOHT1DS"
      },
      "source": [
        "import os\n",
        "import time\n",
        "\n",
        "ROOT = \"/content/drive/MyDrive/Deep learning notebooks/General\"\n",
        "os.chdir(ROOT)\n",
        "def saveModel_path(model_dir=\"model\"):\n",
        "    os.makedirs(model_dir, exist_ok=True)\n",
        "    fileName = time.strftime(\"Model_%Y_%m_%d_%H_%M_%S_.h5\")    \n",
        "    model_path = os.path.join(model_dir, fileName)\n",
        "    print(f\"your model will be saved at the following location\\n{model_path}\")\n",
        "    return model_path\n"
      ],
      "execution_count": 54,
      "outputs": []
    },
    {
      "cell_type": "code",
      "metadata": {
        "id": "j5vyx4ALT1DX",
        "colab": {
          "base_uri": "https://localhost:8080/"
        },
        "outputId": "4627a189-cae4-4ff0-ca25-a3d6d0c17410"
      },
      "source": [
        "UNIQUE_PATH = model_clf.save(saveModel_path())"
      ],
      "execution_count": 55,
      "outputs": [
        {
          "output_type": "stream",
          "name": "stdout",
          "text": [
            "your model will be saved at the following location\n",
            "model/Model_2022_02_02_18_40_16_.h5\n"
          ]
        }
      ]
    },
    {
      "cell_type": "code",
      "metadata": {
        "id": "fYWSNdS9T1Dj",
        "colab": {
          "base_uri": "https://localhost:8080/"
        },
        "outputId": "ebde924d-5b6d-448a-d4ea-37587fd5a3e9"
      },
      "source": [
        "history.params\n"
      ],
      "execution_count": 34,
      "outputs": [
        {
          "output_type": "execute_result",
          "data": {
            "text/plain": [
              "{'epochs': 30, 'steps': 1719, 'verbose': 1}"
            ]
          },
          "metadata": {},
          "execution_count": 34
        }
      ]
    },
    {
      "cell_type": "code",
      "metadata": {
        "id": "K9rtm3p2T1Do",
        "colab": {
          "base_uri": "https://localhost:8080/",
          "height": 990
        },
        "outputId": "8e2d2220-eea6-4ed1-b903-58f0ff6966e9"
      },
      "source": [
        "pd.DataFrame(history.history)"
      ],
      "execution_count": 35,
      "outputs": [
        {
          "output_type": "execute_result",
          "data": {
            "text/html": [
              "\n",
              "  <div id=\"df-ba398eff-2e2c-4ced-9527-c7b9b8450900\">\n",
              "    <div class=\"colab-df-container\">\n",
              "      <div>\n",
              "<style scoped>\n",
              "    .dataframe tbody tr th:only-of-type {\n",
              "        vertical-align: middle;\n",
              "    }\n",
              "\n",
              "    .dataframe tbody tr th {\n",
              "        vertical-align: top;\n",
              "    }\n",
              "\n",
              "    .dataframe thead th {\n",
              "        text-align: right;\n",
              "    }\n",
              "</style>\n",
              "<table border=\"1\" class=\"dataframe\">\n",
              "  <thead>\n",
              "    <tr style=\"text-align: right;\">\n",
              "      <th></th>\n",
              "      <th>loss</th>\n",
              "      <th>accuracy</th>\n",
              "      <th>val_loss</th>\n",
              "      <th>val_accuracy</th>\n",
              "    </tr>\n",
              "  </thead>\n",
              "  <tbody>\n",
              "    <tr>\n",
              "      <th>0</th>\n",
              "      <td>0.601664</td>\n",
              "      <td>0.847655</td>\n",
              "      <td>0.298729</td>\n",
              "      <td>0.9176</td>\n",
              "    </tr>\n",
              "    <tr>\n",
              "      <th>1</th>\n",
              "      <td>0.283876</td>\n",
              "      <td>0.918818</td>\n",
              "      <td>0.231946</td>\n",
              "      <td>0.9356</td>\n",
              "    </tr>\n",
              "    <tr>\n",
              "      <th>2</th>\n",
              "      <td>0.232221</td>\n",
              "      <td>0.934273</td>\n",
              "      <td>0.201778</td>\n",
              "      <td>0.9436</td>\n",
              "    </tr>\n",
              "    <tr>\n",
              "      <th>3</th>\n",
              "      <td>0.198568</td>\n",
              "      <td>0.944309</td>\n",
              "      <td>0.176326</td>\n",
              "      <td>0.9520</td>\n",
              "    </tr>\n",
              "    <tr>\n",
              "      <th>4</th>\n",
              "      <td>0.173265</td>\n",
              "      <td>0.950836</td>\n",
              "      <td>0.154874</td>\n",
              "      <td>0.9570</td>\n",
              "    </tr>\n",
              "    <tr>\n",
              "      <th>5</th>\n",
              "      <td>0.153282</td>\n",
              "      <td>0.956418</td>\n",
              "      <td>0.142686</td>\n",
              "      <td>0.9612</td>\n",
              "    </tr>\n",
              "    <tr>\n",
              "      <th>6</th>\n",
              "      <td>0.137265</td>\n",
              "      <td>0.961182</td>\n",
              "      <td>0.128995</td>\n",
              "      <td>0.9640</td>\n",
              "    </tr>\n",
              "    <tr>\n",
              "      <th>7</th>\n",
              "      <td>0.124063</td>\n",
              "      <td>0.965036</td>\n",
              "      <td>0.119244</td>\n",
              "      <td>0.9678</td>\n",
              "    </tr>\n",
              "    <tr>\n",
              "      <th>8</th>\n",
              "      <td>0.113033</td>\n",
              "      <td>0.967491</td>\n",
              "      <td>0.111029</td>\n",
              "      <td>0.9696</td>\n",
              "    </tr>\n",
              "    <tr>\n",
              "      <th>9</th>\n",
              "      <td>0.103100</td>\n",
              "      <td>0.970673</td>\n",
              "      <td>0.105991</td>\n",
              "      <td>0.9700</td>\n",
              "    </tr>\n",
              "    <tr>\n",
              "      <th>10</th>\n",
              "      <td>0.095189</td>\n",
              "      <td>0.973327</td>\n",
              "      <td>0.100035</td>\n",
              "      <td>0.9726</td>\n",
              "    </tr>\n",
              "    <tr>\n",
              "      <th>11</th>\n",
              "      <td>0.087670</td>\n",
              "      <td>0.975200</td>\n",
              "      <td>0.097639</td>\n",
              "      <td>0.9734</td>\n",
              "    </tr>\n",
              "    <tr>\n",
              "      <th>12</th>\n",
              "      <td>0.081230</td>\n",
              "      <td>0.977218</td>\n",
              "      <td>0.093180</td>\n",
              "      <td>0.9746</td>\n",
              "    </tr>\n",
              "    <tr>\n",
              "      <th>13</th>\n",
              "      <td>0.075672</td>\n",
              "      <td>0.978709</td>\n",
              "      <td>0.088619</td>\n",
              "      <td>0.9748</td>\n",
              "    </tr>\n",
              "    <tr>\n",
              "      <th>14</th>\n",
              "      <td>0.070543</td>\n",
              "      <td>0.980600</td>\n",
              "      <td>0.086822</td>\n",
              "      <td>0.9752</td>\n",
              "    </tr>\n",
              "    <tr>\n",
              "      <th>15</th>\n",
              "      <td>0.065709</td>\n",
              "      <td>0.981564</td>\n",
              "      <td>0.085847</td>\n",
              "      <td>0.9754</td>\n",
              "    </tr>\n",
              "    <tr>\n",
              "      <th>16</th>\n",
              "      <td>0.061611</td>\n",
              "      <td>0.983164</td>\n",
              "      <td>0.080010</td>\n",
              "      <td>0.9776</td>\n",
              "    </tr>\n",
              "    <tr>\n",
              "      <th>17</th>\n",
              "      <td>0.057975</td>\n",
              "      <td>0.984164</td>\n",
              "      <td>0.079165</td>\n",
              "      <td>0.9776</td>\n",
              "    </tr>\n",
              "    <tr>\n",
              "      <th>18</th>\n",
              "      <td>0.054494</td>\n",
              "      <td>0.985418</td>\n",
              "      <td>0.079748</td>\n",
              "      <td>0.9762</td>\n",
              "    </tr>\n",
              "    <tr>\n",
              "      <th>19</th>\n",
              "      <td>0.051075</td>\n",
              "      <td>0.986364</td>\n",
              "      <td>0.076003</td>\n",
              "      <td>0.9776</td>\n",
              "    </tr>\n",
              "    <tr>\n",
              "      <th>20</th>\n",
              "      <td>0.048258</td>\n",
              "      <td>0.987382</td>\n",
              "      <td>0.075045</td>\n",
              "      <td>0.9790</td>\n",
              "    </tr>\n",
              "    <tr>\n",
              "      <th>21</th>\n",
              "      <td>0.045176</td>\n",
              "      <td>0.988200</td>\n",
              "      <td>0.073365</td>\n",
              "      <td>0.9788</td>\n",
              "    </tr>\n",
              "    <tr>\n",
              "      <th>22</th>\n",
              "      <td>0.042658</td>\n",
              "      <td>0.989091</td>\n",
              "      <td>0.073422</td>\n",
              "      <td>0.9776</td>\n",
              "    </tr>\n",
              "    <tr>\n",
              "      <th>23</th>\n",
              "      <td>0.040395</td>\n",
              "      <td>0.989455</td>\n",
              "      <td>0.077605</td>\n",
              "      <td>0.9772</td>\n",
              "    </tr>\n",
              "    <tr>\n",
              "      <th>24</th>\n",
              "      <td>0.038051</td>\n",
              "      <td>0.990309</td>\n",
              "      <td>0.071952</td>\n",
              "      <td>0.9790</td>\n",
              "    </tr>\n",
              "    <tr>\n",
              "      <th>25</th>\n",
              "      <td>0.035922</td>\n",
              "      <td>0.991127</td>\n",
              "      <td>0.071356</td>\n",
              "      <td>0.9796</td>\n",
              "    </tr>\n",
              "    <tr>\n",
              "      <th>26</th>\n",
              "      <td>0.033956</td>\n",
              "      <td>0.991600</td>\n",
              "      <td>0.071021</td>\n",
              "      <td>0.9790</td>\n",
              "    </tr>\n",
              "    <tr>\n",
              "      <th>27</th>\n",
              "      <td>0.032134</td>\n",
              "      <td>0.992164</td>\n",
              "      <td>0.070950</td>\n",
              "      <td>0.9796</td>\n",
              "    </tr>\n",
              "    <tr>\n",
              "      <th>28</th>\n",
              "      <td>0.030155</td>\n",
              "      <td>0.992818</td>\n",
              "      <td>0.070950</td>\n",
              "      <td>0.9802</td>\n",
              "    </tr>\n",
              "    <tr>\n",
              "      <th>29</th>\n",
              "      <td>0.028806</td>\n",
              "      <td>0.993600</td>\n",
              "      <td>0.068475</td>\n",
              "      <td>0.9808</td>\n",
              "    </tr>\n",
              "  </tbody>\n",
              "</table>\n",
              "</div>\n",
              "      <button class=\"colab-df-convert\" onclick=\"convertToInteractive('df-ba398eff-2e2c-4ced-9527-c7b9b8450900')\"\n",
              "              title=\"Convert this dataframe to an interactive table.\"\n",
              "              style=\"display:none;\">\n",
              "        \n",
              "  <svg xmlns=\"http://www.w3.org/2000/svg\" height=\"24px\"viewBox=\"0 0 24 24\"\n",
              "       width=\"24px\">\n",
              "    <path d=\"M0 0h24v24H0V0z\" fill=\"none\"/>\n",
              "    <path d=\"M18.56 5.44l.94 2.06.94-2.06 2.06-.94-2.06-.94-.94-2.06-.94 2.06-2.06.94zm-11 1L8.5 8.5l.94-2.06 2.06-.94-2.06-.94L8.5 2.5l-.94 2.06-2.06.94zm10 10l.94 2.06.94-2.06 2.06-.94-2.06-.94-.94-2.06-.94 2.06-2.06.94z\"/><path d=\"M17.41 7.96l-1.37-1.37c-.4-.4-.92-.59-1.43-.59-.52 0-1.04.2-1.43.59L10.3 9.45l-7.72 7.72c-.78.78-.78 2.05 0 2.83L4 21.41c.39.39.9.59 1.41.59.51 0 1.02-.2 1.41-.59l7.78-7.78 2.81-2.81c.8-.78.8-2.07 0-2.86zM5.41 20L4 18.59l7.72-7.72 1.47 1.35L5.41 20z\"/>\n",
              "  </svg>\n",
              "      </button>\n",
              "      \n",
              "  <style>\n",
              "    .colab-df-container {\n",
              "      display:flex;\n",
              "      flex-wrap:wrap;\n",
              "      gap: 12px;\n",
              "    }\n",
              "\n",
              "    .colab-df-convert {\n",
              "      background-color: #E8F0FE;\n",
              "      border: none;\n",
              "      border-radius: 50%;\n",
              "      cursor: pointer;\n",
              "      display: none;\n",
              "      fill: #1967D2;\n",
              "      height: 32px;\n",
              "      padding: 0 0 0 0;\n",
              "      width: 32px;\n",
              "    }\n",
              "\n",
              "    .colab-df-convert:hover {\n",
              "      background-color: #E2EBFA;\n",
              "      box-shadow: 0px 1px 2px rgba(60, 64, 67, 0.3), 0px 1px 3px 1px rgba(60, 64, 67, 0.15);\n",
              "      fill: #174EA6;\n",
              "    }\n",
              "\n",
              "    [theme=dark] .colab-df-convert {\n",
              "      background-color: #3B4455;\n",
              "      fill: #D2E3FC;\n",
              "    }\n",
              "\n",
              "    [theme=dark] .colab-df-convert:hover {\n",
              "      background-color: #434B5C;\n",
              "      box-shadow: 0px 1px 3px 1px rgba(0, 0, 0, 0.15);\n",
              "      filter: drop-shadow(0px 1px 2px rgba(0, 0, 0, 0.3));\n",
              "      fill: #FFFFFF;\n",
              "    }\n",
              "  </style>\n",
              "\n",
              "      <script>\n",
              "        const buttonEl =\n",
              "          document.querySelector('#df-ba398eff-2e2c-4ced-9527-c7b9b8450900 button.colab-df-convert');\n",
              "        buttonEl.style.display =\n",
              "          google.colab.kernel.accessAllowed ? 'block' : 'none';\n",
              "\n",
              "        async function convertToInteractive(key) {\n",
              "          const element = document.querySelector('#df-ba398eff-2e2c-4ced-9527-c7b9b8450900');\n",
              "          const dataTable =\n",
              "            await google.colab.kernel.invokeFunction('convertToInteractive',\n",
              "                                                     [key], {});\n",
              "          if (!dataTable) return;\n",
              "\n",
              "          const docLinkHtml = 'Like what you see? Visit the ' +\n",
              "            '<a target=\"_blank\" href=https://colab.research.google.com/notebooks/data_table.ipynb>data table notebook</a>'\n",
              "            + ' to learn more about interactive tables.';\n",
              "          element.innerHTML = '';\n",
              "          dataTable['output_type'] = 'display_data';\n",
              "          await google.colab.output.renderOutput(dataTable, element);\n",
              "          const docLink = document.createElement('div');\n",
              "          docLink.innerHTML = docLinkHtml;\n",
              "          element.appendChild(docLink);\n",
              "        }\n",
              "      </script>\n",
              "    </div>\n",
              "  </div>\n",
              "  "
            ],
            "text/plain": [
              "        loss  accuracy  val_loss  val_accuracy\n",
              "0   0.601664  0.847655  0.298729        0.9176\n",
              "1   0.283876  0.918818  0.231946        0.9356\n",
              "2   0.232221  0.934273  0.201778        0.9436\n",
              "3   0.198568  0.944309  0.176326        0.9520\n",
              "4   0.173265  0.950836  0.154874        0.9570\n",
              "5   0.153282  0.956418  0.142686        0.9612\n",
              "6   0.137265  0.961182  0.128995        0.9640\n",
              "7   0.124063  0.965036  0.119244        0.9678\n",
              "8   0.113033  0.967491  0.111029        0.9696\n",
              "9   0.103100  0.970673  0.105991        0.9700\n",
              "10  0.095189  0.973327  0.100035        0.9726\n",
              "11  0.087670  0.975200  0.097639        0.9734\n",
              "12  0.081230  0.977218  0.093180        0.9746\n",
              "13  0.075672  0.978709  0.088619        0.9748\n",
              "14  0.070543  0.980600  0.086822        0.9752\n",
              "15  0.065709  0.981564  0.085847        0.9754\n",
              "16  0.061611  0.983164  0.080010        0.9776\n",
              "17  0.057975  0.984164  0.079165        0.9776\n",
              "18  0.054494  0.985418  0.079748        0.9762\n",
              "19  0.051075  0.986364  0.076003        0.9776\n",
              "20  0.048258  0.987382  0.075045        0.9790\n",
              "21  0.045176  0.988200  0.073365        0.9788\n",
              "22  0.042658  0.989091  0.073422        0.9776\n",
              "23  0.040395  0.989455  0.077605        0.9772\n",
              "24  0.038051  0.990309  0.071952        0.9790\n",
              "25  0.035922  0.991127  0.071356        0.9796\n",
              "26  0.033956  0.991600  0.071021        0.9790\n",
              "27  0.032134  0.992164  0.070950        0.9796\n",
              "28  0.030155  0.992818  0.070950        0.9802\n",
              "29  0.028806  0.993600  0.068475        0.9808"
            ]
          },
          "metadata": {},
          "execution_count": 35
        }
      ]
    },
    {
      "cell_type": "code",
      "metadata": {
        "id": "P6nerhjCT1Ds",
        "colab": {
          "base_uri": "https://localhost:8080/",
          "height": 324
        },
        "outputId": "e77e11c0-b1da-4cce-d4f7-478c1f733b0b"
      },
      "source": [
        "pd.DataFrame(history.history).plot(figsize=(8, 5))\n",
        "plt.grid(True)\n",
        "plt.gca().set_ylim(0, 1)\n",
        "plt.show()"
      ],
      "execution_count": 36,
      "outputs": [
        {
          "output_type": "display_data",
          "data": {
            "image/png": "[encoded data removed]",
            "text/plain": [
              "<Figure size 576x360 with 1 Axes>"
            ]
          },
          "metadata": {
            "needs_background": "light"
          }
        }
      ]
    },
    {
      "cell_type": "code",
      "metadata": {
        "id": "TON0RxLNT1Dw",
        "colab": {
          "base_uri": "https://localhost:8080/"
        },
        "outputId": "cfb8b582-0806-4c34-93e1-89998edb776b"
      },
      "source": [
        "model_clf.evaluate(X_test, y_test)"
      ],
      "execution_count": 37,
      "outputs": [
        {
          "output_type": "stream",
          "name": "stdout",
          "text": [
            "313/313 [==============================] - 1s 3ms/step - loss: 0.0721 - accuracy: 0.9787\n"
          ]
        },
        {
          "output_type": "execute_result",
          "data": {
            "text/plain": [
              "[0.07209620624780655, 0.9786999821662903]"
            ]
          },
          "metadata": {},
          "execution_count": 37
        }
      ]
    },
    {
      "cell_type": "code",
      "metadata": {
        "id": "JRJ8ciK0T1D1",
        "colab": {
          "base_uri": "https://localhost:8080/"
        },
        "outputId": "b969c8af-3f1c-420c-959b-3345c84fc45c"
      },
      "source": [
        "X_new = X_test[:3]\n",
        "y_proba = model_clf.predict(X_new)\n",
        "y_proba.round(2)"
      ],
      "execution_count": 38,
      "outputs": [
        {
          "output_type": "execute_result",
          "data": {
            "text/plain": [
              "array([[0., 0., 0., 0., 0., 0., 0., 1., 0., 0.],\n",
              "       [0., 0., 1., 0., 0., 0., 0., 0., 0., 0.],\n",
              "       [0., 1., 0., 0., 0., 0., 0., 0., 0., 0.]], dtype=float32)"
            ]
          },
          "metadata": {},
          "execution_count": 38
        }
      ]
    },
    {
      "cell_type": "code",
      "metadata": {
        "id": "ofk-RtanT1D5",
        "colab": {
          "base_uri": "https://localhost:8080/"
        },
        "outputId": "01321ee1-aa6f-4bba-c891-5e7bb4b36016"
      },
      "source": [
        "y_pred = np.argmax(model_clf.predict(X_new), axis=-1)\n",
        "y_pred"
      ],
      "execution_count": 39,
      "outputs": [
        {
          "output_type": "execute_result",
          "data": {
            "text/plain": [
              "array([7, 2, 1])"
            ]
          },
          "metadata": {},
          "execution_count": 39
        }
      ]
    },
    {
      "cell_type": "code",
      "metadata": {
        "id": "NzDbztGcT1D-"
      },
      "source": [
        "y_test_new = y_test[:3]"
      ],
      "execution_count": 40,
      "outputs": []
    },
    {
      "cell_type": "code",
      "metadata": {
        "id": "ie5Kz7BBT1EC",
        "colab": {
          "base_uri": "https://localhost:8080/",
          "height": 810
        },
        "outputId": "4f81e437-a550-4629-e62b-50a7daacf1b5"
      },
      "source": [
        "for data, pred, actual in zip(X_new, y_pred, y_test_new):\n",
        "    plt.imshow(data, cmap=\"binary\")\n",
        "    plt.title(f\"Predicted: {pred}, Actual: {actual}\")\n",
        "    plt.axis('off')\n",
        "    plt.show()\n",
        "    print(\"---\"*20)"
      ],
      "execution_count": 41,
      "outputs": [
        {
          "output_type": "display_data",
          "data": {
            "image/png": "[encoded data removed]",
            "text/plain": [
              "<Figure size 432x288 with 1 Axes>"
            ]
          },
          "metadata": {
            "needs_background": "light"
          }
        },
        {
          "output_type": "stream",
          "name": "stdout",
          "text": [
            "------------------------------------------------------------\n"
          ]
        },
        {
          "output_type": "display_data",
          "data": {
            "image/png": "[encoded data removed]",
            "text/plain": [
              "<Figure size 432x288 with 1 Axes>"
            ]
          },
          "metadata": {
            "needs_background": "light"
          }
        },
        {
          "output_type": "stream",
          "name": "stdout",
          "text": [
            "------------------------------------------------------------\n"
          ]
        },
        {
          "output_type": "display_data",
          "data": {
            "image/png": "[encoded data removed]",
            "text/plain": [
              "<Figure size 432x288 with 1 Axes>"
            ]
          },
          "metadata": {
            "needs_background": "light"
          }
        },
        {
          "output_type": "stream",
          "name": "stdout",
          "text": [
            "------------------------------------------------------------\n"
          ]
        }
      ]
    },
    {
      "cell_type": "code",
      "metadata": {
        "id": "z4-YqwoJvJHb"
      },
      "source": [
        "weights, biases = hidden1.get_weights()\n"
      ],
      "execution_count": 42,
      "outputs": []
    },
    {
      "cell_type": "code",
      "metadata": {
        "colab": {
          "base_uri": "https://localhost:8080/"
        },
        "id": "9KsknsJXvKqm",
        "outputId": "af687a22-4c9c-4cde-a9d6-af369853db67"
      },
      "source": [
        "weights"
      ],
      "execution_count": 43,
      "outputs": [
        {
          "output_type": "execute_result",
          "data": {
            "text/plain": [
              "array([[ 0.0452676 ,  0.04989208, -0.04682188, ..., -0.04521696,\n",
              "         0.00176052, -0.04816682],\n",
              "       [ 0.04564749, -0.05505855, -0.0178854 , ..., -0.03083701,\n",
              "        -0.03695668,  0.02457874],\n",
              "       [ 0.04014561, -0.01988493, -0.07124306, ...,  0.07050163,\n",
              "         0.05811343, -0.03971465],\n",
              "       ...,\n",
              "       [-0.07382381, -0.02505424,  0.02931929, ...,  0.05209315,\n",
              "         0.07092619,  0.0446701 ],\n",
              "       [ 0.01363436,  0.02927168,  0.06747192, ...,  0.04188503,\n",
              "        -0.01309266,  0.06732233],\n",
              "       [-0.0519803 ,  0.04022279, -0.01864417, ..., -0.04441568,\n",
              "        -0.01291532,  0.01955023]], dtype=float32)"
            ]
          },
          "metadata": {},
          "execution_count": 43
        }
      ]
    },
    {
      "cell_type": "code",
      "metadata": {
        "colab": {
          "base_uri": "https://localhost:8080/"
        },
        "id": "V4rUxFfgvM4o",
        "outputId": "29e7745e-1ba2-4485-bbac-881eaa7fb37f"
      },
      "source": [
        "biases"
      ],
      "execution_count": 44,
      "outputs": [
        {
          "output_type": "execute_result",
          "data": {
            "text/plain": [
              "array([ 2.02490240e-02,  5.08269072e-02,  1.45215150e-02,  2.81325094e-02,\n",
              "        6.19678833e-02,  3.63235809e-02, -2.66787689e-02,  3.08021773e-02,\n",
              "        5.88627160e-02,  3.94247510e-02,  3.22507578e-03,  3.11555620e-02,\n",
              "        1.36545273e-02, -2.67916434e-02, -1.05086546e-02,  1.74349844e-02,\n",
              "       -4.93389107e-02, -2.40173973e-02, -4.23800945e-03, -4.34077112e-03,\n",
              "        4.90990505e-02,  8.44769296e-04,  3.19558987e-03,  1.89338427e-03,\n",
              "       -1.54856658e-02, -2.28792038e-02,  4.39422540e-02, -5.96366683e-03,\n",
              "        4.86694202e-02,  3.08462158e-02,  1.42773846e-02,  4.24068049e-02,\n",
              "        2.91189477e-02, -3.10288761e-02,  5.39507493e-02,  2.51001865e-02,\n",
              "        3.45125832e-02, -1.02464110e-02,  3.09556909e-02,  1.83307212e-02,\n",
              "        2.74567213e-02, -4.93879840e-02,  2.14422811e-02,  5.83128147e-02,\n",
              "       -1.01679116e-02,  2.94663738e-02, -2.56676320e-03, -8.02011928e-05,\n",
              "       -1.87264774e-02, -7.70798251e-02, -3.00204791e-02,  7.83029050e-02,\n",
              "        2.46503130e-02,  6.25099614e-02, -3.16343121e-02,  4.53084288e-03,\n",
              "       -2.22863685e-02,  1.30607598e-02,  2.01562978e-02,  4.20026779e-02,\n",
              "        1.87603738e-02,  1.62428599e-02,  2.39555072e-02,  5.84528036e-03,\n",
              "       -1.58537701e-02, -1.17939161e-02,  6.21599667e-02,  5.42901717e-02,\n",
              "        1.90004110e-02,  1.07108308e-02,  1.44232837e-02,  1.73948742e-02,\n",
              "        7.55825453e-03, -2.12573465e-02,  6.38745259e-03,  5.29487468e-02,\n",
              "        3.64892818e-02,  1.01972455e-02, -9.31215566e-03,  2.98121255e-02,\n",
              "       -2.56319288e-02,  4.99245636e-02, -6.26488356e-03,  1.92896593e-02,\n",
              "        1.28564313e-02,  8.42840075e-02,  7.83078149e-02,  3.18416581e-02,\n",
              "       -5.00162542e-02, -3.61496322e-02, -1.14047695e-02,  4.08927351e-02,\n",
              "       -9.89718921e-03,  4.85401750e-02,  3.40657532e-02, -1.94538955e-03,\n",
              "        5.94793819e-02, -6.19505299e-03, -1.37494216e-02, -1.29867746e-02,\n",
              "       -1.55208614e-02, -4.65263240e-03,  3.21181938e-02,  2.06988603e-02,\n",
              "        8.05604458e-02,  3.09273209e-02,  1.02611808e-02,  6.97403774e-03,\n",
              "        1.10401958e-02,  5.08063920e-02,  1.23402453e-03,  4.41980995e-02,\n",
              "       -2.96727521e-03, -2.60175727e-02,  2.90788300e-02, -9.43030883e-03,\n",
              "        6.01826934e-03, -7.42485607e-03,  3.10926624e-02,  4.03609418e-04,\n",
              "        9.47292987e-03,  2.89856270e-02, -8.95061716e-03,  5.89423813e-02,\n",
              "       -1.51726697e-02,  6.95321383e-03, -1.25080617e-02,  1.67184006e-02,\n",
              "        3.42667662e-02,  5.39684203e-03, -3.07464376e-02, -2.24153828e-02,\n",
              "        5.17088734e-03, -2.68616788e-02,  3.96755151e-02,  1.88846067e-02,\n",
              "        5.91517463e-02,  7.07397237e-03,  4.64842096e-03,  3.91250141e-02,\n",
              "       -4.46390808e-02,  1.40245333e-02,  8.96289125e-02, -2.56303065e-02,\n",
              "        5.06042540e-02, -1.75484829e-02, -6.07808214e-03, -9.64958966e-03,\n",
              "        4.49742675e-02,  2.30230559e-02, -1.68231353e-02,  4.85325838e-03,\n",
              "       -3.24147232e-02,  3.18007618e-02, -3.73771600e-02, -3.79594676e-02,\n",
              "        9.86385718e-02,  2.00588675e-03, -1.48303295e-03,  1.87519882e-02,\n",
              "        2.00067610e-02,  2.66328529e-02, -5.48682213e-02, -2.38959845e-02,\n",
              "        6.69990550e-04, -1.65488999e-02,  2.98806722e-03, -1.06155453e-03,\n",
              "       -5.85817024e-02,  5.51708303e-02, -5.49497604e-02, -2.85978820e-02,\n",
              "        5.19052101e-03,  4.59849415e-03, -4.36767489e-02,  4.43856381e-02,\n",
              "        2.89389789e-02, -1.12386385e-03, -3.12393885e-02,  5.29378541e-02,\n",
              "       -1.30139699e-03,  1.62204653e-02,  5.73608987e-02,  4.40939330e-02,\n",
              "        8.12016334e-03,  2.54398882e-02,  2.62901001e-02, -3.70755047e-03,\n",
              "        2.22052243e-02, -1.41540077e-03, -4.73354459e-02, -1.82801820e-02,\n",
              "        2.57848892e-02,  2.45825034e-02,  1.42177582e-01, -7.80959874e-02,\n",
              "        1.02104237e-02,  2.40510311e-02,  3.28739658e-02, -3.90800796e-02,\n",
              "       -3.49411229e-03, -4.64244783e-02,  3.55534069e-02,  6.40348196e-02,\n",
              "        2.43828353e-02, -4.02362552e-03, -1.78122576e-02,  4.66906698e-03,\n",
              "       -1.61484201e-02,  2.97242980e-02,  2.93768779e-03, -4.56513651e-02,\n",
              "        1.15407920e-02,  2.18199212e-02, -2.00041756e-02,  3.94572830e-03,\n",
              "       -2.86523141e-02,  8.19436274e-03,  3.51799130e-02, -1.33758895e-02,\n",
              "        1.98898502e-02,  4.42471765e-02, -3.17036919e-02, -7.84711819e-03,\n",
              "       -4.81661074e-02,  2.19481420e-02,  4.26698336e-03, -8.34561698e-03,\n",
              "       -9.58819408e-03,  1.78981256e-02,  1.82060692e-02,  2.71763522e-02,\n",
              "        6.56702146e-02, -1.34880114e-02, -2.99366172e-02,  8.16400629e-03,\n",
              "       -5.10444539e-03,  8.72362927e-02,  1.97385065e-02,  7.05069453e-02,\n",
              "        1.30479475e-02,  1.54005494e-02,  2.38498859e-02, -2.49937065e-02,\n",
              "        4.08103131e-02,  6.29501194e-02,  6.58350810e-03,  3.92287299e-02,\n",
              "        3.33013572e-02, -1.02500357e-02, -1.80372186e-02,  4.59661074e-02,\n",
              "        1.22612780e-02,  1.54187335e-02,  1.81497671e-02,  2.13257037e-02,\n",
              "        4.63067880e-03, -1.08899903e-02, -2.13485230e-02,  2.17373222e-02,\n",
              "        3.47573720e-02, -3.52791022e-03,  4.72647250e-02,  9.29556508e-03,\n",
              "        1.53484875e-02, -3.12428735e-03, -2.97461962e-03, -1.07821366e-02,\n",
              "        4.71689878e-03, -4.42832448e-02,  4.34755385e-02,  2.70703491e-02,\n",
              "       -6.16986211e-03, -2.89934818e-02, -7.76835950e-04,  2.47665346e-02,\n",
              "        2.41063870e-02,  5.76656777e-03,  6.58624712e-03,  1.55260433e-02,\n",
              "        2.36876179e-02,  2.20816102e-04, -4.02816758e-02, -6.46313280e-02,\n",
              "       -3.44011676e-03, -7.22023752e-03, -3.17108221e-02,  1.57874674e-02,\n",
              "        1.93895325e-02,  1.71919391e-02,  5.37715200e-03,  8.53690971e-03,\n",
              "        9.62289702e-03,  2.94873957e-02, -4.73849736e-02, -4.39732447e-02,\n",
              "        4.70457338e-02,  1.31452046e-02, -2.61121197e-03, -1.73716212e-03],\n",
              "      dtype=float32)"
            ]
          },
          "metadata": {},
          "execution_count": 44
        }
      ]
    },
    {
      "cell_type": "markdown",
      "metadata": {
        "id": "qOIt8yhXT1EM"
      },
      "source": [
        "<iframe src=\"https://slides.com/supremecommander/basic-neural-network/embed\" width=\"576\" height=\"420\" scrolling=\"no\" frameborder=\"0\" webkitallowfullscreen mozallowfullscreen allowfullscreen></iframe>"
      ]
    },
    {
      "cell_type": "markdown",
      "metadata": {
        "id": "kfSJUWAST1ER"
      },
      "source": [
        "<iframe src=\"https://slides.com/supremecommander/basic-neural-network/embed\" width=\"576\" height=\"420\" scrolling=\"no\" frameborder=\"0\" webkitallowfullscreen mozallowfullscreen allowfullscreen></iframe>"
      ]
    }
  ]
}